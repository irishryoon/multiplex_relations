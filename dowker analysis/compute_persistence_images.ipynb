{
 "cells": [
  {
   "cell_type": "code",
   "execution_count": 3,
   "metadata": {},
   "outputs": [
    {
     "name": "stderr",
     "output_type": "stream",
     "text": [
      "WARNING: replacing module ext.\n"
     ]
    },
    {
     "data": {
      "text/plain": [
       "Main.ext"
      ]
     },
     "execution_count": 3,
     "metadata": {},
     "output_type": "execute_result"
    }
   ],
   "source": [
    "using Ripserer\n",
    "using Eirene\n",
    "using PersistenceDiagrams\n",
    "using JLD2\n",
    "using CSV\n",
    "using Images\n",
    "include(\"extension_method.jl\")\n",
    "     "
   ]
  },
  {
   "cell_type": "code",
   "execution_count": 2,
   "metadata": {},
   "outputs": [
    {
     "data": {
      "text/plain": [
       "load_diagram (generic function with 1 method)"
      ]
     },
     "execution_count": 2,
     "metadata": {},
     "output_type": "execute_result"
    }
   ],
   "source": [
    "function load_diagram(path, dimension)\n",
    "    birth_death_pairs = load_object(path)\n",
    "    return PersistenceDiagram(birth_death_pairs;dim = dimension)\n",
    "end"
   ]
  },
  {
   "cell_type": "code",
   "execution_count": 22,
   "metadata": {},
   "outputs": [],
   "source": [
    "# VR H0 Tumour persistence Images\n",
    "location_tumour_h0 = \"persistence_diagrams\\\\vr\\\\tumour_h0\\\\\"\n",
    "all_diags=[]\n",
    "files_tumour_h0 = readdir(location_tumour_h0)\n",
    "for file in files_tumour_h0\n",
    "    diagram = load_diagram(location_tumour_h0*file,0)\n",
    "    append!(all_diags,[diagram])\n",
    "end\n",
    "persistence_image = PersistenceImage(all_diags,size=20,sigma=1)\n",
    "p = \"persistence_images\\\\vr\\\\tumour_h0\\\\\"\n",
    "for f in files_tumour_h0\n",
    "    dgm = load_diagram(location_tumour_h0*f,0)\n",
    "    img = persistence_image(dgm)\n",
    "    save_object(p*f*\"_img.jld2\",img)\n",
    "end"
   ]
  },
  {
   "cell_type": "code",
   "execution_count": 23,
   "metadata": {},
   "outputs": [],
   "source": [
    "# VR H1 Tumour persistence Images\n",
    "location_tumour_h1 = \"persistence_diagrams\\\\vr\\\\tumour_h1\\\\\"\n",
    "all_diags=[]\n",
    "files_tumour_h1 = readdir(location_tumour_h1)\n",
    "for file in files_tumour_h1\n",
    "    diagram = load_diagram(location_tumour_h1*file,1)\n",
    "    append!(all_diags,[diagram])\n",
    "end\n",
    "persistence_image = PersistenceImage(all_diags,size=20,sigma=1)\n",
    "p = \"persistence_images\\\\vr\\\\tumour_h1\\\\\"\n",
    "for f in files_tumour_h1\n",
    "    dgm = load_diagram(location_tumour_h1*f,1)\n",
    "    img = persistence_image(dgm)\n",
    "    save_object(p*f*\"_img.jld2\",img)\n",
    "end\n",
    "     "
   ]
  },
  {
   "cell_type": "code",
   "execution_count": null,
   "metadata": {},
   "outputs": [],
   "source": [
    "# VR h0 macrophage persistence Images\n",
    "location_macrophage_h0 = \"persistence_diagrams\\\\vr\\\\macrophages_h0\\\\\"\n",
    "all_diags=[]\n",
    "files_macrophage_h0 = readdir(location_macrophage_h0)\n",
    "for file in files_macrophage_h0\n",
    "    diagram = load_diagram(location_macrophage_h0*file,0)\n",
    "    append!(all_diags,[diagram])\n",
    "end\n",
    "persistence_image = PersistenceImage(all_diags,size=20,sigma=1)\n",
    "p = \"persistence_images\\\\vr\\\\macrophages_h0\\\\\"\n",
    "for f in files_macrophage_h0\n",
    "    dgm = load_diagram(location_macrophage_h0*f,0)\n",
    "    img = persistence_image(dgm)\n",
    "    save_object(p*f*\"_img.jld2\",img)\n",
    "end"
   ]
  },
  {
   "cell_type": "code",
   "execution_count": 24,
   "metadata": {},
   "outputs": [
    {
     "data": {
      "text/plain": [
       "compute_persistence_images (generic function with 1 method)"
      ]
     },
     "execution_count": 24,
     "metadata": {},
     "output_type": "execute_result"
    }
   ],
   "source": [
    "function compute_persistence_images(dgm_location,img_location,dim)\n",
    "    all_diags = []\n",
    "    files = readdir(dgm_location)\n",
    "    for f in files\n",
    "        dgm = load_diagram(dgm_location*f,dim)\n",
    "        append!(all_diags,[dgm])\n",
    "    end\n",
    "    persistence_image = PersistenceImage(all_diags,size=20,sigma=1)\n",
    "    for f in files\n",
    "        dgm = load_diagram(dgm_location*f,dim)\n",
    "        img = persistence_image(dgm)\n",
    "\n",
    "        # uncomment to save \n",
    "        \n",
    "        #save_object(img_location*f*\"_img.jld2\",img)\n",
    "    end\n",
    "end"
   ]
  },
  {
   "cell_type": "code",
   "execution_count": 27,
   "metadata": {},
   "outputs": [],
   "source": [
    "compute_persistence_images(\"persistence_diagrams\\\\vr\\\\macrophages_h1\\\\\",\n",
    "                           \"persistence_images\\\\vr\\\\macrophages_h1\\\\\", \n",
    "                           1)"
   ]
  },
  {
   "cell_type": "code",
   "execution_count": 28,
   "metadata": {},
   "outputs": [],
   "source": [
    "compute_persistence_images(\"persistence_diagrams\\\\dowker\\\\macrophage_tumour_h0\\\\\",\n",
    "                           \"persistence_images\\\\dowker\\\\macrophage_tumour_h0\\\\\", \n",
    "                           0)"
   ]
  },
  {
   "cell_type": "code",
   "execution_count": 29,
   "metadata": {},
   "outputs": [],
   "source": [
    "compute_persistence_images(\"persistence_diagrams\\\\dowker\\\\macrophage_tumour_h1\\\\\",\n",
    "                           \"persistence_images\\\\dowker\\\\macrophage_tumour_h1\\\\\", \n",
    "                           1)"
   ]
  },
  {
   "cell_type": "code",
   "execution_count": 30,
   "metadata": {},
   "outputs": [],
   "source": [
    "compute_persistence_images(\"persistence_diagrams\\\\dowker\\\\macrophage_vessel_h0\\\\\",\n",
    "                           \"persistence_images\\\\dowker\\\\macrophage_vessel_h0\\\\\", \n",
    "                           0)"
   ]
  },
  {
   "cell_type": "code",
   "execution_count": 31,
   "metadata": {},
   "outputs": [],
   "source": [
    "compute_persistence_images(\"persistence_diagrams\\\\dowker\\\\macrophage_vessel_h1\\\\\",\n",
    "                           \"persistence_images\\\\dowker\\\\macrophage_vessel_h1\\\\\", \n",
    "                           1)"
   ]
  },
  {
   "cell_type": "code",
   "execution_count": 32,
   "metadata": {},
   "outputs": [],
   "source": [
    "compute_persistence_images(\"persistence_diagrams\\\\dowker\\\\tumour_vessel_h0\\\\\",\n",
    "                           \"persistence_images\\\\dowker\\\\tumour_vessel_h0\\\\\", \n",
    "                           0)"
   ]
  },
  {
   "cell_type": "code",
   "execution_count": 33,
   "metadata": {},
   "outputs": [],
   "source": [
    "compute_persistence_images(\"persistence_diagrams\\\\dowker\\\\tumour_vessel_h1\\\\\",\n",
    "                           \"persistence_images\\\\dowker\\\\tumour_vessel_h1\\\\\", \n",
    "                           1)"
   ]
  }
 ],
 "metadata": {
  "kernelspec": {
   "display_name": "Julia 1.7.2",
   "language": "julia",
   "name": "julia-1.7"
  },
  "language_info": {
   "file_extension": ".jl",
   "mimetype": "application/julia",
   "name": "julia",
   "version": "1.7.2"
  },
  "orig_nbformat": 4
 },
 "nbformat": 4,
 "nbformat_minor": 2
}
