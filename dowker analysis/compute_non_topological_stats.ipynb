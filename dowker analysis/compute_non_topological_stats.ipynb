{
 "cells": [
  {
   "cell_type": "code",
   "execution_count": 1,
   "metadata": {},
   "outputs": [],
   "source": [
    "using JLD2\n",
    "using CSV\n",
    "using Images\n",
    "using Distances \n",
    "using DataFrames"
   ]
  },
  {
   "cell_type": "code",
   "execution_count": 2,
   "metadata": {},
   "outputs": [
    {
     "data": {
      "text/plain": [
       "sim2file (generic function with 1 method)"
      ]
     },
     "execution_count": 2,
     "metadata": {},
     "output_type": "execute_result"
    }
   ],
   "source": [
    "function tuple2mat(pc)\n",
    "    mat = zeros(Float64,length(pc),2)\n",
    "    for i = 1:length(pc)\n",
    "        mat[i,1] = pc[i][1]\n",
    "        mat[i,2] = pc[i][2]\n",
    "    end\n",
    "    return mat\n",
    "end\n",
    "function sim2file(sim)\n",
    "    id = sim[1]\n",
    "    time = sim[2]\n",
    "    return datapath*\"\\\\ID-\"*string(id)*string(\"_\")*\"time-\"*string(time)*\"_From2ParamSweep_Data.csv\"   \n",
    "end"
   ]
  },
  {
   "cell_type": "code",
   "execution_count": 3,
   "metadata": {},
   "outputs": [
    {
     "data": {
      "text/plain": [
       "avg_dist_PQ (generic function with 1 method)"
      ]
     },
     "execution_count": 3,
     "metadata": {},
     "output_type": "execute_result"
    }
   ],
   "source": [
    "function avg_dist_PQ(P,Q)\n",
    "    p = size(P)[1]\n",
    "    q = size(Q)[1]\n",
    "    total_distance = 0.0\n",
    "    \n",
    "    for i = 1:p \n",
    "        closest_dist = Inf\n",
    "        for j = 1:q\n",
    "            dist = norm(collect(P[i,:][1]) - collect(Q[j,:][1]))\n",
    "            closest_dist = minimum([closest_dist,dist])\n",
    "        end\n",
    "        total_distance = total_distance + closest_dist\n",
    "    end\n",
    "    return total_distance / p \n",
    "\n",
    "end"
   ]
  },
  {
   "cell_type": "code",
   "execution_count": 4,
   "metadata": {},
   "outputs": [
    {
     "data": {
      "text/html": [
       "<table class=\"data-frame\"><thead><tr><th></th><th>id</th><th>time</th><th>labels</th><th>Mcount</th><th>Tcount</th><th>Ncount</th><th>MVdist</th><th>TVdist</th><th>NVdist</th></tr><tr><th></th><th>Int64</th><th>Int64</th><th>Int64</th><th>Int64</th><th>Int64</th><th>Int64</th><th>Float64</th><th>Float64</th><th>Float64</th></tr></thead><tbody><p>0 rows × 9 columns</p></tbody></table>"
      ],
      "text/latex": [
       "\\begin{tabular}{r|ccccccccc}\n",
       "\t& id & time & labels & Mcount & Tcount & Ncount & MVdist & TVdist & NVdist\\\\\n",
       "\t\\hline\n",
       "\t& Int64 & Int64 & Int64 & Int64 & Int64 & Int64 & Float64 & Float64 & Float64\\\\\n",
       "\t\\hline\n",
       "\\end{tabular}\n"
      ],
      "text/plain": [
       "\u001b[1m0×9 DataFrame\u001b[0m"
      ]
     },
     "execution_count": 4,
     "metadata": {},
     "output_type": "execute_result"
    }
   ],
   "source": [
    "datapath = \"C:\\\\Users\\\\jaydh\\\\Documents\\\\dissertation\\\\29072022\\\\29072022\"\n",
    "\n",
    "sims = load(\"sim_ids_and_times.jld2\", \"sims\");\n",
    "\n",
    "distinct_cell_types = [\"Tumour\",\"Macrophage\",\"Vessel\",\"Necrotic\"]\n",
    "\n",
    "non_topological_data_df = DataFrame(id = Int64[],\n",
    "                                     time = Int64[], \n",
    "                                     labels = Int64[], \n",
    "                                     Mcount = Int64[],\n",
    "                                     Tcount = Int64[],\n",
    "                                     Ncount = Int64[], \n",
    "                                     MVdist = Float64[], \n",
    "                                     TVdist = Float64[], \n",
    "                                     NVdist = Float64[])"
   ]
  },
  {
   "cell_type": "code",
   "execution_count": 5,
   "metadata": {},
   "outputs": [
    {
     "name": "stderr",
     "output_type": "stream",
     "text": [
      "\u001b[33m\u001b[1m┌ \u001b[22m\u001b[39m\u001b[33m\u001b[1mWarning: \u001b[22m\u001b[39m`CSV.read(input; kw...)` is deprecated in favor of `using DataFrames; CSV.read(input, DataFrame; kw...)\n",
      "\u001b[33m\u001b[1m│ \u001b[22m\u001b[39m  caller = read(source::String) at CSV.jl:46\n",
      "\u001b[33m\u001b[1m└ \u001b[22m\u001b[39m\u001b[90m@ CSV C:\\Users\\jaydh\\.julia\\packages\\CSV\\UIgP3\\src\\CSV.jl:46\u001b[39m\n"
     ]
    }
   ],
   "source": [
    "for sim in sims\n",
    "    \n",
    "    id = sim[1]\n",
    "    time = sim[2]\n",
    "    A = string(id)*\"_\"*string(time)\n",
    "\n",
    "    df = CSV.read(sim2file(sim))\n",
    "    cell_coordinates = Dict{String, Array{Tuple{Float64, Float64}, 1}}()\n",
    "    for cell_type in distinct_cell_types\n",
    "        # Filter the dataframe for the current cell type\n",
    "        filtered_df = df[df.celltypes .== cell_type, :]\n",
    "        \n",
    "        # Extract x and y coordinates as a 2D array\n",
    "        coordinates = [(x, y) for (x, y) in zip(filtered_df.points_x, filtered_df.points_y)]\n",
    "    \n",
    "        \n",
    "        # Store the coordinates in the dictionary\n",
    "        cell_coordinates[cell_type] = coordinates\n",
    "    end\n",
    "    M = cell_coordinates[\"Macrophage\"];\n",
    "    T = cell_coordinates[\"Tumour\"];\n",
    "    V = cell_coordinates[\"Vessel\"];\n",
    "    N = cell_coordinates[\"Necrotic\"]\n",
    "\n",
    "    \n",
    "    #### Compute non topological statistics: \n",
    "    # cell counts, average distances between each cell and their closest blood vessels \n",
    "\n",
    "    M = tuple2mat(M)\n",
    "    T = tuple2mat(T)\n",
    "    V = tuple2mat(V)\n",
    "    N = tuple2mat(N)\n",
    "\n",
    "\n",
    "    Mn = size(M)[1]\n",
    "    Tn = size(T)[1]\n",
    "    Vn = size(V)[1]\n",
    "    Nn = size(N)[1]\n",
    "\n",
    "    MVdist = avg_dist_PQ(M,V)\n",
    "    TVdist = avg_dist_PQ(T,V)\n",
    "    NVdist = avg_dist_PQ(N,V)\n",
    "\n",
    "    # add labels\n",
    "    macrophage_df = df[df.celltypes .== \"Macrophage\", :]\n",
    "    M1_count = count(0.0 .<= macrophage_df[!, \"phenotypes\"] .<= 0.5)\n",
    "    label = 0\n",
    "    if M1_count / Mn < 0.5\n",
    "       label = 1 \n",
    "    end\n",
    "\n",
    "    # push data \n",
    "\n",
    "    push!(non_topological_data_df, (id = id,\n",
    "                        time = time,\n",
    "                        labels = label,\n",
    "                        Mcount = Mn,\n",
    "                        Tcount = Tn,\n",
    "                        Ncount = Nn,\n",
    "                        MVdist = MVdist,\n",
    "                        TVdist = TVdist,\n",
    "                        NVdist = NVdist))\n",
    "\n",
    "end\n",
    "# write to dataframe\n",
    "#CSV.write(\"non_toological_dataframe.csv\", non_topological_data_df)"
   ]
  }
 ],
 "metadata": {
  "kernelspec": {
   "display_name": "Julia 1.7.2",
   "language": "julia",
   "name": "julia-1.7"
  },
  "language_info": {
   "file_extension": ".jl",
   "mimetype": "application/julia",
   "name": "julia",
   "version": "1.7.2"
  },
  "orig_nbformat": 4
 },
 "nbformat": 4,
 "nbformat_minor": 2
}
