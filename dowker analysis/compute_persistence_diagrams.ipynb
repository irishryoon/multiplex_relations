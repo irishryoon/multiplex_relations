{
 "cells": [
  {
   "cell_type": "code",
   "execution_count": 2,
   "metadata": {},
   "outputs": [
    {
     "name": "stderr",
     "output_type": "stream",
     "text": [
      "\u001b[33m\u001b[1m┌ \u001b[22m\u001b[39m\u001b[33m\u001b[1mWarning: \u001b[22m\u001b[39m`PlotlyBase` 0.5.4 is not compatible with this version of `Plots`. The declared compatibility is 0.7 - 0.8.\n",
      "\u001b[33m\u001b[1m└ \u001b[22m\u001b[39m\u001b[90m@ Plots C:\\Users\\jaydh\\.julia\\packages\\Plots\\QZRtR\\src\\backends.jl:55\u001b[39m\n"
     ]
    },
    {
     "data": {
      "text/plain": [
       "Main.ext"
      ]
     },
     "execution_count": 2,
     "metadata": {},
     "output_type": "execute_result"
    }
   ],
   "source": [
    "using Ripserer\n",
    "using Eirene\n",
    "using PersistenceDiagrams\n",
    "using JLD2\n",
    "using CSV\n",
    "using Images\n",
    "include(\"extension_method.jl\")\n",
    "     "
   ]
  },
  {
   "cell_type": "code",
   "execution_count": 3,
   "metadata": {},
   "outputs": [
    {
     "data": {
      "text/plain": [
       "\"persistence_diagrams\\\\dowker\\\\tumour_vessel_h1\\\\\""
      ]
     },
     "execution_count": 3,
     "metadata": {},
     "output_type": "execute_result"
    }
   ],
   "source": [
    "# VR\n",
    "location_tumour_h0 = \"persistence_diagrams\\\\vr\\\\tumour_h0\\\\\"\n",
    "location_tumour_h1 = \"persistence_diagrams\\\\vr\\\\tumour_h1\\\\\"\n",
    "location_macrophage_h0 = \"persistence_diagrams\\\\vr\\\\macrophages_h0\\\\\"\n",
    "location_macrophage_h1 = \"persistence_diagrams\\\\vr\\\\macrophages_h1\\\\\"\n",
    "\n",
    "# Dowker\n",
    "location_mt_h0 = \"persistence_diagrams\\\\dowker\\\\macrophage_tumour_h0\\\\\"\n",
    "location_mt_h1 = \"persistence_diagrams\\\\dowker\\\\macrophage_tumour_h1\\\\\"\n",
    "location_mv_h0 = \"persistence_diagrams\\\\dowker\\\\macrophage_vessel_h0\\\\\"\n",
    "location_mv_h1 = \"persistence_diagrams\\\\dowker\\\\macrophage_vessel_h1\\\\\"\n",
    "location_tv_h0 = \"persistence_diagrams\\\\dowker\\\\tumour_vessel_h0\\\\\"\n",
    "location_tv_h1 = \"persistence_diagrams\\\\dowker\\\\tumour_vessel_h1\\\\\""
   ]
  },
  {
   "cell_type": "code",
   "execution_count": 4,
   "metadata": {},
   "outputs": [
    {
     "data": {
      "text/plain": [
       "sim2file (generic function with 1 method)"
      ]
     },
     "execution_count": 4,
     "metadata": {},
     "output_type": "execute_result"
    }
   ],
   "source": [
    "function save_diagram(path,diagram)\n",
    "    birth_death_pairs = [(diagram[i][1], diagram[i][2]) for i = 1:length(diagram)]\n",
    "    save_object(path,birth_death_pairs)\n",
    "end\n",
    "function load_diagram(path, dimension)\n",
    "    birth_death_pairs = load_object(path)\n",
    "    return PersistenceDiagram(birth_death_pairs;dim = dimension)\n",
    "end\n",
    "function tuple2mat(pc)\n",
    "    mat = zeros(Float64,length(pc),2)\n",
    "    for i = 1:length(pc)\n",
    "        mat[i,1] = pc[i][1]\n",
    "        mat[i,2] = pc[i][2]\n",
    "    end\n",
    "    return mat\n",
    "end\n",
    "function sim2file(sim)\n",
    "    id = sim[1]\n",
    "    time = sim[2]\n",
    "    return datapath*\"\\\\ID-\"*string(id)*string(\"_\")*\"time-\"*string(time)*\"_From2ParamSweep_Data.csv\"   \n",
    "end"
   ]
  },
  {
   "cell_type": "code",
   "execution_count": 5,
   "metadata": {},
   "outputs": [
    {
     "data": {
      "text/plain": [
       "\"C:\\\\Users\\\\jaydh\\\\Documents\\\\dissertation\\\\29072022\\\\29072022\""
      ]
     },
     "execution_count": 5,
     "metadata": {},
     "output_type": "execute_result"
    }
   ],
   "source": [
    "datapath = \"C:\\\\Users\\\\jaydh\\\\Documents\\\\dissertation\\\\29072022\\\\29072022\""
   ]
  },
  {
   "cell_type": "code",
   "execution_count": 6,
   "metadata": {},
   "outputs": [],
   "source": [
    "sims = load(\"sim_ids_and_times.jld2\", \"sims\");"
   ]
  },
  {
   "cell_type": "code",
   "execution_count": 7,
   "metadata": {},
   "outputs": [],
   "source": [
    "distinct_cell_types = [\"Tumour\",\"Macrophage\",\"Vessel\"]\n",
    "\n",
    "for sim in sims\n",
    "    \n",
    "    id = sim[1]\n",
    "    time = sim[2]\n",
    "    A = string(id)*\"_\"*string(time)\n",
    "\n",
    "    df = CSV.read(sim2file(sim))\n",
    "    cell_coordinates = Dict{String, Array{Tuple{Float64, Float64}, 1}}()\n",
    "    for cell_type in distinct_cell_types\n",
    "        # Filter the dataframe for the current cell type\n",
    "        filtered_df = df[df.celltypes .== cell_type, :]\n",
    "        \n",
    "        # Extract x and y coordinates as a 2D array\n",
    "        coordinates = [(x, y) for (x, y) in zip(filtered_df.points_x, filtered_df.points_y)]\n",
    "    \n",
    "        \n",
    "        # Store the coordinates in the dictionary\n",
    "        cell_coordinates[cell_type] = coordinates\n",
    "    end\n",
    "    M = cell_coordinates[\"Macrophage\"];\n",
    "    T = cell_coordinates[\"Tumour\"];\n",
    "    V = cell_coordinates[\"Vessel\"];\n",
    "\n",
    "    M_dim_max = minimum([length(M) - 2, 1])\n",
    "    T_dim_max = minimum([length(T) - 2, 1])\n",
    "\n",
    "    d_M = Nothing\n",
    "    d_T = Nothing\n",
    "\n",
    "    if M_dim_max == -2\n",
    "        # M is empty\n",
    "        d_M = [PersistenceDiagram([]),PersistenceDiagram([])]\n",
    "    elseif M_dim_max < 1 \n",
    "        # M has 1 or 2 points\n",
    "        d_M = [ripserer(M,dim_max=M_dim_max)[1],PersistenceDiagram([])]\n",
    "    else\n",
    "        # M has more than 2 points \n",
    "        d_M = ripserer(M)\n",
    "    end\n",
    "    \n",
    "    if T_dim_max == -2\n",
    "        # T is empty\n",
    "        d_T = [PersistenceDiagram([]),PersistenceDiagram([])]\n",
    "    elseif T_dim_max < 1 \n",
    "        # T has 1 or 2 points\n",
    "        d_T = [ripserer(T,dim_max=T_dim_max)[1],PersistenceDiagram([])]\n",
    "    else\n",
    "        # T has more than 2 points \n",
    "        d_T = ripserer(T)\n",
    "    end\n",
    "    \n",
    "    vr_macrophages_h0 = d_M[1]\n",
    "    vr_macrophages_h1 = d_M[2]\n",
    "\n",
    "    vr_tumour_h0 = d_T[1]\n",
    "    vr_tumour_h1 = d_T[2]\n",
    "\n",
    "    #### Dowker Persistence Diagrams\n",
    "\n",
    "    M = tuple2mat(M)\n",
    "    T = tuple2mat(T)\n",
    "    V = tuple2mat(V)\n",
    "\n",
    "    dowker_mt_h0 = Nothing\n",
    "    dowker_mt_h1 = Nothing\n",
    "    dowker_mv_h0 = Nothing\n",
    "    dowker_mv_h1 = Nothing\n",
    "    dowker_tv_h0 = Nothing \n",
    "    dowker_tv_h1 = Nothing \n",
    "    \n",
    "\n",
    "\n",
    "    # Macrophage - Tumour\n",
    "    if size(M)[1] == 0 || size(T)[1] == 0\n",
    "        dowker_mt_h0 = PersistenceDiagram([])\n",
    "        dowker_mt_h1 = PersistenceDiagram([])\n",
    "    else\n",
    "        D_M_T = Nothing\n",
    "        if length(M) > length(T)\n",
    "            D_M_T = Images.ImageDistances.pairwise(Euclidean(), T, M, dims = 1)\n",
    "        else\n",
    "            D_M_T = Images.ImageDistances.pairwise(Euclidean(), M, T, dims = 1)\n",
    "        end\n",
    "        W_M_T = ext.compute_Witness_persistence(D_M_T, maxdim = 1)\n",
    "        W_M_T_barcode0 = Eirene.barcode(W_M_T[\"eirene_output\"], dim = 0);\n",
    "        W_M_T_barcode1 = Eirene.barcode(W_M_T[\"eirene_output\"], dim = 1);\n",
    "        n0 = size(W_M_T_barcode0,1)\n",
    "        n1 = size(W_M_T_barcode1,1)\n",
    "        dowker_mt_h0 = PersistenceDiagram([(W_M_T_barcode0[i,1], W_M_T_barcode0[i,2]) for i = 1:n0],dim=0)\n",
    "        dowker_mt_h1 = PersistenceDiagram([(W_M_T_barcode1[i,1], W_M_T_barcode1[i,2]) for i = 1:n1],dim=1)\n",
    "    end\n",
    "\n",
    "\n",
    "    # Macrophage - Vessel \n",
    "    if size(M)[1] == 0 || size(V)[1] == 0\n",
    "        dowker_mv_h0 = PersistenceDiagram([])\n",
    "        dowker_mv_h1 = PersistenceDiagram([])\n",
    "    else\n",
    "        D_M_V = Nothing\n",
    "        if length(M) > length(V)\n",
    "            D_M_V = Images.ImageDistances.pairwise(Euclidean(), V, M, dims = 1)\n",
    "        else\n",
    "            D_M_V = Images.ImageDistances.pairwise(Euclidean(), M, V, dims = 1)\n",
    "        end\n",
    "        W_M_V = ext.compute_Witness_persistence(D_M_V, maxdim = 1)\n",
    "        W_M_V_barcode0 = Eirene.barcode(W_M_V[\"eirene_output\"], dim = 0);\n",
    "        W_M_V_barcode1 = Eirene.barcode(W_M_V[\"eirene_output\"], dim = 1);\n",
    "        n0 = size(W_M_V_barcode0,1)\n",
    "        n1 = size(W_M_V_barcode1,1)\n",
    "        dowker_mv_h0 = PersistenceDiagram([(W_M_V_barcode0[i,1], W_M_V_barcode0[i,2]) for i = 1:n0],dim=0)\n",
    "        dowker_mv_h1 = PersistenceDiagram([(W_M_V_barcode1[i,1], W_M_V_barcode1[i,2]) for i = 1:n1],dim=1)\n",
    "    end\n",
    "\n",
    "    # Tumour - Vessel \n",
    "    if size(T)[1] == 0 || size(V)[1] == 0\n",
    "        dowker_tv_h0 = PersistenceDiagram([])\n",
    "        dowker_tv_h1 = PersistenceDiagram([])\n",
    "    else\n",
    "        D_T_V = Nothing\n",
    "        if length(T) > length(V)\n",
    "            D_T_V = Images.ImageDistances.pairwise(Euclidean(), V, T, dims = 1)\n",
    "        else\n",
    "            D_T_V = Images.ImageDistances.pairwise(Euclidean(), T, V, dims = 1)\n",
    "        end\n",
    "        W_T_V = ext.compute_Witness_persistence(D_T_V, maxdim = 1)\n",
    "        W_T_V_barcode0 = Eirene.barcode(W_T_V[\"eirene_output\"], dim = 0);\n",
    "        W_T_V_barcode1 = Eirene.barcode(W_T_V[\"eirene_output\"], dim = 1);\n",
    "        n0 = size(W_T_V_barcode0,1)\n",
    "        n1 = size(W_T_V_barcode1,1)\n",
    "        dowker_tv_h0 = PersistenceDiagram([(W_T_V_barcode0[i,1], W_T_V_barcode0[i,2]) for i = 1:n0],dim=0)\n",
    "        dowker_tv_h1 = PersistenceDiagram([(W_T_V_barcode1[i,1], W_T_V_barcode1[i,2]) for i = 1:n1],dim=1)\n",
    "    end\n",
    "\n",
    "    # uncomment to save\n",
    "\n",
    "    #save_diagram(location_tumour_h0*A, vr_tumour_h0)\n",
    "    #save_diagram(location_tumour_h1*A,vr_tumour_h1)\n",
    "    #save_diagram(location_macrophage_h0*A,vr_macrophages_h0)\n",
    "    #save_diagram(location_macrophage_h1*A,vr_macrophages_h1)\n",
    "\n",
    "    #save_diagram(location_mt_h0*A,dowker_mt_h0)\n",
    "    #save_diagram(location_mt_h1*A,dowker_mt_h1)\n",
    "    #save_diagram(location_mv_h0*A,dowker_mv_h0)\n",
    "    #save_diagram(location_mv_h1*A,dowker_mv_h1)\n",
    "    #save_diagram(location_tv_h0*A,dowker_tv_h0)\n",
    "    #save_diagram(location_tv_h1*A,dowker_tv_h1)\n",
    "\n",
    "\n",
    "end"
   ]
  }
 ],
 "metadata": {
  "kernelspec": {
   "display_name": "Julia 1.7.2",
   "language": "julia",
   "name": "julia-1.7"
  },
  "language_info": {
   "file_extension": ".jl",
   "mimetype": "application/julia",
   "name": "julia",
   "version": "1.7.2"
  },
  "orig_nbformat": 4
 },
 "nbformat": 4,
 "nbformat_minor": 2
}
