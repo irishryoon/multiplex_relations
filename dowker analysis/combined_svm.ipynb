{
 "cells": [
  {
   "cell_type": "code",
   "execution_count": 2,
   "metadata": {},
   "outputs": [
    {
     "name": "stderr",
     "output_type": "stream",
     "text": [
      "\u001b[33m\u001b[1m┌ \u001b[22m\u001b[39m\u001b[33m\u001b[1mWarning: \u001b[22m\u001b[39mModule model_selection has been ported to Julia - try `import ScikitLearn: CrossValidation` instead\n",
      "\u001b[33m\u001b[1m└ \u001b[22m\u001b[39m\u001b[90m@ ScikitLearn.Skcore C:\\Users\\jaydh\\.julia\\packages\\ScikitLearn\\Wvn7B\\src\\Skcore.jl:240\u001b[39m\n",
      "WARNING: redefinition of constant train_test_split. This may fail, cause incorrect answers, or produce other errors.\n",
      "WARNING: redefinition of constant SVC. This may fail, cause incorrect answers, or produce other errors.\n"
     ]
    },
    {
     "data": {
      "text/plain": [
       "PyObject <class 'sklearn.svm._classes.SVC'>"
      ]
     },
     "execution_count": 2,
     "metadata": {},
     "output_type": "execute_result"
    }
   ],
   "source": [
    "using LIBSVM\n",
    "using RDatasets\n",
    "using Printf\n",
    "using Statistics\n",
    "using Random\n",
    "using Plots\n",
    "using GLM\n",
    "using StatsBase\n",
    "using ScikitLearn\n",
    "using ScikitLearn.GridSearch: RandomizedSearchCV\n",
    "using JLD2\n",
    "using PyCall\n",
    "using CSV\n",
    "stats = pyimport(\"scipy.stats\")\n",
    "imblearn = pyimport(\"imblearn\")\n",
    "@sk_import model_selection: train_test_split\n",
    "\n",
    "@sk_import svm: SVC\n"
   ]
  },
  {
   "cell_type": "code",
   "execution_count": 3,
   "metadata": {},
   "outputs": [
    {
     "data": {
      "text/plain": [
       "SVM_accuracies (generic function with 1 method)"
      ]
     },
     "execution_count": 3,
     "metadata": {},
     "output_type": "execute_result"
    }
   ],
   "source": [
    "function train_svm(df)\n",
    "    X = Matrix(df[:,4:end]);\n",
    "    y = df.labels\n",
    "    Xtrain, Xtest, ytrain, ytest = train_test_split(X,y,test_size=0.3); # train-test split\n",
    "\n",
    "    sampler(a, b) = stats.loguniform(a, b) # samples from range (a,b) according to log uniform distribution \n",
    "\n",
    "    # specify parameters and distributions to sample from\n",
    "    param_dist = Dict(\"svc__C\" => sampler(1e-6, 1000.0),\n",
    "    \"svc__gamma\" => sampler(1e-6, 1000.0))\n",
    "\n",
    "    # use SMOTE object to randomly oversample training set\n",
    "    sm = imblearn.over_sampling.SMOTE(random_state=42)\n",
    "\n",
    "    # SVM classifier\n",
    "    clf = SVC()\n",
    "\n",
    "    # add oversampling and SVM to pipeline to only oversample training set during CV\n",
    "    svm_pipeline =  imblearn.pipeline.make_pipeline(sm,clf)\n",
    "\n",
    "    # hyperparameter tuning via random search, refit to best model\n",
    "    n_iter_search = 500\n",
    "    random_search = RandomizedSearchCV(svm_pipeline,\n",
    "                                       param_dist,\n",
    "                                       n_iter=n_iter_search,\n",
    "                                       random_state=MersenneTwister(41),\n",
    "                                       refit=true)\n",
    "\n",
    "    \n",
    "    ScikitLearn.fit!(random_search, Xtrain, ytrain)\n",
    "\n",
    "    # get optimal hyperparameters\n",
    "    best = random_search.best_params_\n",
    "    C = get(best, :svc__C, \"Error\")\n",
    "    G = get(best, :svc__gamma, \"Error\")\n",
    "\n",
    "    score = ScikitLearn.score(random_search, Xtest, ytest)\n",
    "\n",
    "    return [score,C,G]\n",
    "\n",
    "end\n",
    "\n",
    "function repeat_svm(df,c,g,n_repeats)\n",
    "    accuracies=[]\n",
    "    for i=1:n_repeats\n",
    "        df=df[shuffle(1:nrow(df)),:];\n",
    "        X = Matrix(df[:,4:end]);\n",
    "        y = df.labels\n",
    "        Xtrain, Xtest, ytrain, ytest = train_test_split(X,y,test_size=0.3); # train-test split\n",
    "        clf = SVC(C=c,gamma=g)\n",
    "        sm = imblearn.over_sampling.SMOTE(random_state=41)\n",
    "\n",
    "        svm_pipeline =  imblearn.pipeline.make_pipeline(sm,clf)\n",
    "\n",
    "        svm_pipeline.fit(Xtrain,ytrain)\n",
    "\n",
    "        ypredict = svm_pipeline.predict(Xtest)\n",
    "\n",
    "        acc = mean(ypredict .== ytest) * 100\n",
    "\n",
    "        # uncomment to check that both classes are being predicted\n",
    "        #println(\"\\nypredict:\", countmap(ypredict))\n",
    "        #println(\"ytest:\", countmap(ytest),\"\\n\")\n",
    "\n",
    "        append!(accuracies,acc)\n",
    "    end\n",
    "    return accuracies\n",
    "end\n",
    "function SVM_accuracies(df)\n",
    "    X = Matrix(df[:,4:end])\n",
    "\n",
    "    # unit normalise \n",
    "\n",
    "    dt = fit(UnitRangeTransform, X; dims=1, unit=true)\n",
    "\n",
    "    Xn = StatsBase.transform(dt,X)\n",
    "    for i in 1:size(X)[1]\n",
    "        df[i,:][4:end] = Xn[i,:]\n",
    "    end\n",
    "\n",
    "    # train SVM\n",
    "\n",
    "    a, C, G = train_svm(df)\n",
    "    accuracies = repeat_svm(df,C,G,10)\n",
    "    return accuracies\n",
    "end"
   ]
  },
  {
   "cell_type": "code",
   "execution_count": 4,
   "metadata": {},
   "outputs": [
    {
     "name": "stderr",
     "output_type": "stream",
     "text": [
      "\u001b[33m\u001b[1m┌ \u001b[22m\u001b[39m\u001b[33m\u001b[1mWarning: \u001b[22m\u001b[39m`CSV.read(input; kw...)` is deprecated in favor of `using DataFrames; CSV.read(input, DataFrame; kw...)\n",
      "\u001b[33m\u001b[1m│ \u001b[22m\u001b[39m  caller = read(source::String) at CSV.jl:46\n",
      "\u001b[33m\u001b[1m└ \u001b[22m\u001b[39m\u001b[90m@ CSV C:\\Users\\jaydh\\.julia\\packages\\CSV\\UIgP3\\src\\CSV.jl:46\u001b[39m\n"
     ]
    }
   ],
   "source": [
    "df_dowker = CSV.read(\"dowker_combined.csv\");\n",
    "df_VR = CSV.read(\"vr_combined.csv\");"
   ]
  },
  {
   "cell_type": "code",
   "execution_count": 7,
   "metadata": {},
   "outputs": [],
   "source": [
    "accuracies = SVM_accuracies(df_dowker);\n",
    "#CSV.write(\"dowker_accuracy.csv\",DataFrame(vector=accuracies));"
   ]
  },
  {
   "cell_type": "code",
   "execution_count": 6,
   "metadata": {},
   "outputs": [],
   "source": [
    "accuracies = SVM_accuracies(df_VR);\n",
    "#CSV.write(\"vr_accuracy.csv\",DataFrame(vector=accuracies));"
   ]
  }
 ],
 "metadata": {
  "kernelspec": {
   "display_name": "Julia 1.7.2",
   "language": "julia",
   "name": "julia-1.7"
  },
  "language_info": {
   "file_extension": ".jl",
   "mimetype": "application/julia",
   "name": "julia",
   "version": "1.7.2"
  },
  "orig_nbformat": 4
 },
 "nbformat": 4,
 "nbformat_minor": 2
}
