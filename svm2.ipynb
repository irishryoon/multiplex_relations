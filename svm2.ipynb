{
 "cells": [
  {
   "cell_type": "code",
   "execution_count": 1,
   "metadata": {},
   "outputs": [
    {
     "name": "stderr",
     "output_type": "stream",
     "text": [
      "\n",
      "(process:19100): GLib-GIO-WARNING **: 14:30:46.252: Unexpectedly, UWP app `Evernote.Evernote_10.47.7.0_x64__q4d96b2w5wcc2' (AUMId `Evernote.Evernote_q4d96b2w5wcc2!Evernote') supports 1 extensions but has no verbs\n"
     ]
    },
    {
     "data": {
      "application/vnd.webio.node+json": {
       "children": [],
       "instanceArgs": {
        "namespace": "html",
        "tag": "div"
       },
       "nodeType": "DOM",
       "props": {},
       "type": "node"
      },
      "text/html": [
       "<div style=\"padding: 1em; background-color: #f8d6da; border: 1px solid #f5c6cb; font-weight: bold;\">\n",
       "<p>The WebIO Jupyter extension was not detected. See the\n",
       "<a href=\"https://juliagizmos.github.io/WebIO.jl/latest/providers/ijulia/\" target=\"_blank\">\n",
       "    WebIO Jupyter integration documentation\n",
       "</a>\n",
       "for more information.\n",
       "</div>\n"
      ],
      "text/plain": [
       "WebIO._IJuliaInit()"
      ]
     },
     "metadata": {},
     "output_type": "display_data"
    },
    {
     "name": "stderr",
     "output_type": "stream",
     "text": [
      "┌ Warning: Kaledio is not available on this system. Julia will be unable to produce any plots.\n",
      "└ @ PlotlyBase C:\\Users\\jaydh\\.julia\\packages\\PlotlyBase\\NxSlF\\src\\kaleido.jl:58\n",
      "┌ Warning: ORCA.jl has been deprecated and all savefig functionality\n",
      "│ has been implemented directly in PlotlyBase itself.\n",
      "│ \n",
      "│ By implementing in PlotlyBase.jl, the savefig routines are automatically\n",
      "│ available to PlotlyJS.jl also.\n",
      "└ @ ORCA C:\\Users\\jaydh\\.julia\\packages\\ORCA\\U5XaN\\src\\ORCA.jl:8\n",
      "┌ Warning: Module model_selection has been ported to Julia - try `import ScikitLearn: CrossValidation` instead\n",
      "└ @ ScikitLearn.Skcore C:\\Users\\jaydh\\.julia\\packages\\ScikitLearn\\ssekP\\src\\Skcore.jl:179\n"
     ]
    },
    {
     "data": {
      "text/plain": [
       "\"c:\\\\Users\\\\jaydh\\\\multiplex_relations\""
      ]
     },
     "execution_count": 1,
     "metadata": {},
     "output_type": "execute_result"
    }
   ],
   "source": [
    "include(\"compute_ph2.jl\")\n",
    "using LIBSVM\n",
    "using RDatasets\n",
    "using Printf\n",
    "using Statistics\n",
    "using Random\n",
    "using .ext\n",
    "using Plots\n",
    "using GLM\n",
    "using StatsBase\n",
    "using ScikitLearn\n",
    "using ScikitLearn.GridSearch: RandomizedSearchCV\n",
    "using JLD2\n",
    "using PyCall\n",
    "stats = pyimport(\"scipy.stats\")\n",
    "imblearn = pyimport(\"imblearn\")\n",
    "@sk_import model_selection: train_test_split\n",
    "\n",
    "@sk_import svm: SVC\n",
    "workdir = pwd()\n"
   ]
  },
  {
   "cell_type": "code",
   "execution_count": 2,
   "metadata": {},
   "outputs": [
    {
     "data": {
      "text/plain": [
       "repeat_svm (generic function with 1 method)"
      ]
     },
     "execution_count": 2,
     "metadata": {},
     "output_type": "execute_result"
    }
   ],
   "source": [
    "function train_svm(df)\n",
    "    X = Matrix(df[:,4:end]);\n",
    "    y = df.labels\n",
    "    Xtrain, Xtest, ytrain, ytest = train_test_split(X,y,test_size=0.3); # train-test split\n",
    "\n",
    "    sampler(a, b) = stats.loguniform(a, b) # samples from range (a,b) according to log uniform distribution \n",
    "\n",
    "    # specify parameters and distributions to sample from\n",
    "    param_dist = Dict(\"svc__C\" => sampler(1e-6, 1000.0),\n",
    "    \"svc__gamma\" => sampler(1e-6, 1000.0))\n",
    "\n",
    "    # use SMOTE object to randomly oversample training set\n",
    "    sm = imblearn.over_sampling.SMOTE(random_state=42)\n",
    "\n",
    "    # SVM classifier\n",
    "    clf = SVC()\n",
    "\n",
    "    # add oversampling and SVM to pipeline to only oversample training set during CV\n",
    "    svm_pipeline =  imblearn.pipeline.make_pipeline(sm,clf)\n",
    "\n",
    "    # hyperparameter tuning via random search, refit to best model\n",
    "    n_iter_search = 100\n",
    "    random_search = RandomizedSearchCV(svm_pipeline,\n",
    "                                       param_dist,\n",
    "                                       n_iter=n_iter_search,\n",
    "                                       random_state=MersenneTwister(42),\n",
    "                                       refit=true)\n",
    "\n",
    "    \n",
    "    ScikitLearn.fit!(random_search, Xtrain, ytrain)\n",
    "\n",
    "    # get optimal hyperparameters\n",
    "    best = random_search.best_params_\n",
    "    C = get(best, :svc__C, \"Error\")\n",
    "    G = get(best, :svc__gamma, \"Error\")\n",
    "\n",
    "    score = ScikitLearn.score(random_search, Xtest, ytest)\n",
    "\n",
    "    return [score,C,G]\n",
    "\n",
    "end\n",
    "\n",
    "function repeat_svm(df,c,g,n_repeats)\n",
    "    accuracies=[]\n",
    "    for i=1:n_repeats\n",
    "        df=df[shuffle(1:nrow(df)),:];\n",
    "        X = Matrix(df[:,4:end]);\n",
    "        y = df.labels\n",
    "        Xtrain, Xtest, ytrain, ytest = train_test_split(X,y,test_size=0.3); # train-test split\n",
    "        clf = SVC(C=c,gamma=g)\n",
    "        sm = imblearn.over_sampling.SMOTE(random_state=42)\n",
    "\n",
    "        svm_pipeline =  imblearn.pipeline.make_pipeline(sm,clf)\n",
    "\n",
    "        svm_pipeline.fit(Xtrain,ytrain)\n",
    "\n",
    "        ypredict = svm_pipeline.predict(Xtest)\n",
    "\n",
    "        acc = mean(ypredict .== ytest) * 100\n",
    "\n",
    "        # uncomment to check that both classes are being predicted\n",
    "        #println(\"\\nypredict:\", countmap(ypredict))\n",
    "        #println(\"ytest:\", countmap(ytest),\"\\n\")\n",
    "\n",
    "        append!(accuracies,acc)\n",
    "    end\n",
    "    return accuracies\n",
    "end"
   ]
  },
  {
   "cell_type": "markdown",
   "metadata": {},
   "source": [
    "VR H0 Tumour Cells"
   ]
  },
  {
   "cell_type": "code",
   "execution_count": 3,
   "metadata": {},
   "outputs": [
    {
     "data": {
      "text/plain": [
       "10-element Vector{Any}:\n",
       " 80.24691358024691\n",
       " 84.25925925925925\n",
       " 79.62962962962963\n",
       " 81.79012345679013\n",
       " 84.25925925925925\n",
       " 81.17283950617285\n",
       " 81.17283950617285\n",
       " 83.9506172839506\n",
       " 84.25925925925925\n",
       " 81.79012345679013"
      ]
     },
     "execution_count": 3,
     "metadata": {},
     "output_type": "execute_result"
    }
   ],
   "source": [
    "# load features into dataframe\n",
    "df_vr_tumour_h0 = DataFrame(ids=Int64[],times=Int64[],labels=[])\n",
    "for i in 1:20\n",
    "    colname = string(\"feature_\",i)\n",
    "    df_vr_tumour_h0[!,colname] = Float64[]\n",
    "end\n",
    "location_tumour_h0 = \"persistence_images\\\\vr\\\\tumour_h0\\\\\"\n",
    "files_vr_tumour_h0 = readdir(workdir*\"\\\\\"*location_tumour_h0)\n",
    "for f in files_vr_tumour_h0\n",
    "    id,time = parse_file(f)\n",
    "    id = parse(Int64,id)\n",
    "    time = parse(Int64,time)\n",
    "    image = load_object(location_tumour_h0*f)\n",
    "    row = Any[]\n",
    "    label = getBinaryLabel(id,time)\n",
    "    append!(row,id)\n",
    "    append!(row,time)\n",
    "    append!(row,label)\n",
    "    for x in image\n",
    "        append!(row,x)\n",
    "    end\n",
    "    push!(df_vr_tumour_h0,row)\n",
    "end\n",
    "\n",
    "# rescale features to [0,1]\n",
    "X = Matrix(df_vr_tumour_h0[:,4:end])\n",
    "\n",
    "dt = fit(UnitRangeTransform, X; dims=1, unit=true)\n",
    "\n",
    "Xn = StatsBase.transform(dt,X)\n",
    "for i in 1:size(X)[1]\n",
    "    df_vr_tumour_h0[i,:][4:end] = Xn[i,:]\n",
    "end\n",
    "\n",
    "a, C, G = train_svm(df_vr_tumour_h0)\n",
    "accuracies = repeat_svm(df_vr_tumour_h0,C,G,10)"
   ]
  },
  {
   "cell_type": "markdown",
   "metadata": {},
   "source": [
    "VR H1 Tumour cells"
   ]
  },
  {
   "cell_type": "code",
   "execution_count": 4,
   "metadata": {},
   "outputs": [
    {
     "data": {
      "text/plain": [
       "10-element Vector{Any}:\n",
       " 81.79012345679013\n",
       " 79.01234567901234\n",
       " 81.48148148148148\n",
       " 80.8641975308642\n",
       " 77.1604938271605\n",
       " 80.55555555555556\n",
       " 78.70370370370371\n",
       " 76.85185185185185\n",
       " 80.8641975308642\n",
       " 79.32098765432099"
      ]
     },
     "execution_count": 4,
     "metadata": {},
     "output_type": "execute_result"
    }
   ],
   "source": [
    "# load features into dataframe\n",
    "df_vr_tumour_h1 = DataFrame(ids=Int64[],times=Int64[],labels=[])\n",
    "for i in 1:400\n",
    "    colname = string(\"feature_\",i)\n",
    "    df_vr_tumour_h1[!,colname] = Float64[]\n",
    "end\n",
    "location_tumour_h1 = \"persistence_images\\\\vr\\\\tumour_h1\\\\\"\n",
    "files_vr_tumour_h1 = readdir(workdir*\"\\\\\"*location_tumour_h1)\n",
    "for f in files_vr_tumour_h1\n",
    "    id,time = parse_file(f)\n",
    "    id = parse(Int64,id)\n",
    "    time = parse(Int64,time)\n",
    "    image = load_object(location_tumour_h1*f)\n",
    "    row = Any[]\n",
    "    label = getBinaryLabel(id,time)\n",
    "    append!(row,id)\n",
    "    append!(row,time)\n",
    "    append!(row,label)\n",
    "    for x in image\n",
    "        append!(row,x)\n",
    "    end\n",
    "    push!(df_vr_tumour_h1,row)\n",
    "end\n",
    "\n",
    "# rescale features to [0,1]\n",
    "X = Matrix(df_vr_tumour_h1[:,4:end])\n",
    "\n",
    "dt = fit(UnitRangeTransform, X; dims=1, unit=true)\n",
    "\n",
    "Xn = StatsBase.transform(dt,X)\n",
    "for i in 1:size(X)[1]\n",
    "    df_vr_tumour_h1[i,:][4:end] = Xn[i,:]\n",
    "end\n",
    "\n",
    "a, C, G = train_svm(df_vr_tumour_h1)\n",
    "accuracies = repeat_svm(df_vr_tumour_h1,C,G,10)\n"
   ]
  },
  {
   "cell_type": "markdown",
   "metadata": {},
   "source": [
    "VR H0 Macrophages"
   ]
  },
  {
   "cell_type": "code",
   "execution_count": 5,
   "metadata": {},
   "outputs": [
    {
     "data": {
      "text/plain": [
       "10-element Vector{Any}:\n",
       " 80.18575851393189\n",
       " 81.73374613003097\n",
       " 83.90092879256966\n",
       " 85.13931888544892\n",
       " 82.6625386996904\n",
       " 82.04334365325077\n",
       " 81.73374613003097\n",
       " 82.04334365325077\n",
       " 81.11455108359134\n",
       " 81.73374613003097"
      ]
     },
     "execution_count": 5,
     "metadata": {},
     "output_type": "execute_result"
    }
   ],
   "source": [
    "# load features into dataframe\n",
    "df_vr_macrophage_h0 = DataFrame(ids=Int64[],times=Int64[],labels=[])\n",
    "for i in 1:20\n",
    "    colname = string(\"feature_\",i)\n",
    "    df_vr_macrophage_h0[!,colname] = Float64[]\n",
    "end\n",
    "location_macrophage_h0 = \"persistence_images\\\\vr\\\\macrophages_h0\\\\\"\n",
    "files_vr_macrophage_h0 = readdir(workdir*\"\\\\\"*location_macrophage_h0)\n",
    "for f in files_vr_macrophage_h0\n",
    "    id,time = parse_file(f)\n",
    "    id = parse(Int64,id)\n",
    "    time = parse(Int64,time)\n",
    "    image = load_object(location_macrophage_h0*f)\n",
    "    row = Any[]\n",
    "    label = getBinaryLabel(id,time)\n",
    "    append!(row,id)\n",
    "    append!(row,time)\n",
    "    append!(row,label)\n",
    "    for x in image\n",
    "        append!(row,x)\n",
    "    end\n",
    "    push!(df_vr_macrophage_h0,row)\n",
    "end\n",
    "\n",
    "# rescale features to [0,1]\n",
    "X = Matrix(df_vr_macrophage_h0[:,4:end])\n",
    "\n",
    "dt = fit(UnitRangeTransform, X; dims=1, unit=true)\n",
    "\n",
    "Xn = StatsBase.transform(dt,X)\n",
    "for i in 1:size(X)[1]\n",
    "    df_vr_macrophage_h0[i,:][4:end] = Xn[i,:]\n",
    "end\n",
    "\n",
    "a, C, G = train_svm(df_vr_macrophage_h0)\n",
    "accuracies = repeat_svm(df_vr_macrophage_h0,C,G,10)"
   ]
  },
  {
   "cell_type": "markdown",
   "metadata": {},
   "source": [
    "VR H1 Macrophages"
   ]
  },
  {
   "cell_type": "code",
   "execution_count": 6,
   "metadata": {},
   "outputs": [
    {
     "data": {
      "text/plain": [
       "10-element Vector{Any}:\n",
       " 78.94736842105263\n",
       " 79.56656346749226\n",
       " 79.87616099071208\n",
       " 78.0185758513932\n",
       " 82.04334365325077\n",
       " 79.25696594427245\n",
       " 80.4953560371517\n",
       " 75.23219814241486\n",
       " 80.80495356037152\n",
       " 83.59133126934985"
      ]
     },
     "execution_count": 6,
     "metadata": {},
     "output_type": "execute_result"
    }
   ],
   "source": [
    "# load features into dataframe\n",
    "df_vr_macrophage_h1 = DataFrame(ids=Int64[],times=Int64[],labels=[])\n",
    "for i in 1:400\n",
    "    colname = string(\"feature_\",i)\n",
    "    df_vr_macrophage_h1[!,colname] = Float64[]\n",
    "end\n",
    "location_macrophage_h1 = \"persistence_images\\\\vr\\\\macrophages_h1\\\\\"\n",
    "files_vr_macrophage_h1 = readdir(workdir*\"\\\\\"*location_macrophage_h1)\n",
    "for f in files_vr_macrophage_h1\n",
    "    id,time = parse_file(f)\n",
    "    id = parse(Int64,id)\n",
    "    time = parse(Int64,time)\n",
    "    image = load_object(location_macrophage_h1*f)\n",
    "    row = Any[]\n",
    "    label = getBinaryLabel(id,time)\n",
    "    append!(row,id)\n",
    "    append!(row,time)\n",
    "    append!(row,label)\n",
    "    for x in image\n",
    "        append!(row,x)\n",
    "    end\n",
    "    push!(df_vr_macrophage_h1,row)\n",
    "end\n",
    "\n",
    "# rescale features to [0,1]\n",
    "X = Matrix(df_vr_macrophage_h1[:,4:end])\n",
    "\n",
    "dt = fit(UnitRangeTransform, X; dims=1, unit=true)\n",
    "\n",
    "Xn = StatsBase.transform(dt,X)\n",
    "for i in 1:size(X)[1]\n",
    "    df_vr_macrophage_h1[i,:][4:end] = Xn[i,:]\n",
    "end\n",
    "\n",
    "a, C, G = train_svm(df_vr_macrophage_h1)\n",
    "accuracies = repeat_svm(df_vr_macrophage_h1,C,G,10)"
   ]
  },
  {
   "cell_type": "markdown",
   "metadata": {},
   "source": [
    "Dowker H0 macrophage-tumour"
   ]
  },
  {
   "cell_type": "code",
   "execution_count": 7,
   "metadata": {},
   "outputs": [
    {
     "data": {
      "text/plain": [
       "10-element Vector{Any}:\n",
       " 82.04334365325077\n",
       " 81.73374613003097\n",
       " 83.90092879256966\n",
       " 84.21052631578947\n",
       " 86.37770897832817\n",
       " 84.21052631578947\n",
       " 83.59133126934985\n",
       " 85.44891640866872\n",
       " 82.6625386996904\n",
       " 84.52012383900929"
      ]
     },
     "execution_count": 7,
     "metadata": {},
     "output_type": "execute_result"
    }
   ],
   "source": [
    "# load features into dataframe\n",
    "df_dowker_mt_h0 = DataFrame(ids=Int64[],times=Int64[],labels=[])\n",
    "for i in 1:400\n",
    "    colname = string(\"feature_\",i)\n",
    "    df_dowker_mt_h0[!,colname] = Float64[]\n",
    "end\n",
    "location_mt_h0 = \"persistence_images\\\\dowker\\\\macrophage_tumour_h0\\\\\"\n",
    "files_dowker_mt_h0 = readdir(workdir*\"\\\\\"*location_mt_h0)\n",
    "for f in files_dowker_mt_h0\n",
    "    id,time = parse_file(f)\n",
    "    id = parse(Int64,id)\n",
    "    time = parse(Int64,time)\n",
    "    image = load_object(location_mt_h0*f)\n",
    "    row = Any[]\n",
    "    label = getBinaryLabel(id,time)\n",
    "    append!(row,id)\n",
    "    append!(row,time)\n",
    "    append!(row,label)\n",
    "    for x in image\n",
    "        append!(row,x)\n",
    "    end\n",
    "    push!(df_dowker_mt_h0,row)\n",
    "end\n",
    "\n",
    "# rescale features to [0,1]\n",
    "X = Matrix(df_dowker_mt_h0[:,4:end])\n",
    "\n",
    "dt = fit(UnitRangeTransform, X; dims=1, unit=true)\n",
    "\n",
    "Xn = StatsBase.transform(dt,X)\n",
    "for i in 1:size(X)[1]\n",
    "    df_dowker_mt_h0[i,:][4:end] = Xn[i,:]\n",
    "end\n",
    "\n",
    "a, C, G = train_svm(df_dowker_mt_h0)\n",
    "accuracies = repeat_svm(df_dowker_mt_h0,C,G,10)"
   ]
  },
  {
   "cell_type": "markdown",
   "metadata": {},
   "source": [
    "Dowker H1 macrophage-tumour"
   ]
  },
  {
   "cell_type": "code",
   "execution_count": 8,
   "metadata": {},
   "outputs": [
    {
     "data": {
      "text/plain": [
       "10-element Vector{Any}:\n",
       " 84.52012383900929\n",
       " 82.35294117647058\n",
       " 82.04334365325077\n",
       " 79.87616099071208\n",
       " 80.4953560371517\n",
       " 82.97213622291022\n",
       " 84.21052631578947\n",
       " 82.97213622291022\n",
       " 85.75851393188854\n",
       " 82.04334365325077"
      ]
     },
     "execution_count": 8,
     "metadata": {},
     "output_type": "execute_result"
    }
   ],
   "source": [
    "# load features into dataframe\n",
    "df_dowker_mt_h1 = DataFrame(ids=Int64[],times=Int64[],labels=[])\n",
    "for i in 1:400\n",
    "    colname = string(\"feature_\",i)\n",
    "    df_dowker_mt_h1[!,colname] = Float64[]\n",
    "end\n",
    "location_mt_h1 = \"persistence_images\\\\dowker\\\\macrophage_tumour_h1\\\\\"\n",
    "files_dowker_mt_h1 = readdir(workdir*\"\\\\\"*location_mt_h1)\n",
    "for f in files_dowker_mt_h1\n",
    "    id,time = parse_file(f)\n",
    "    id = parse(Int64,id)\n",
    "    time = parse(Int64,time)\n",
    "    image = load_object(location_mt_h1*f)\n",
    "    row = Any[]\n",
    "    label = getBinaryLabel(id,time)\n",
    "    append!(row,id)\n",
    "    append!(row,time)\n",
    "    append!(row,label)\n",
    "    for x in image\n",
    "        append!(row,x)\n",
    "    end\n",
    "    push!(df_dowker_mt_h1,row)\n",
    "end\n",
    "\n",
    "# rescale features to [0,1]\n",
    "X = Matrix(df_dowker_mt_h1[:,4:end])\n",
    "\n",
    "dt = fit(UnitRangeTransform, X; dims=1, unit=true)\n",
    "\n",
    "Xn = StatsBase.transform(dt,X)\n",
    "for i in 1:size(X)[1]\n",
    "    df_dowker_mt_h1[i,:][4:end] = Xn[i,:]\n",
    "end\n",
    "\n",
    "a, C, G = train_svm(df_dowker_mt_h1)\n",
    "accuracies = repeat_svm(df_dowker_mt_h1,C,G,10)"
   ]
  },
  {
   "cell_type": "markdown",
   "metadata": {},
   "source": [
    "Dowker H0 Tumour-vessel"
   ]
  },
  {
   "cell_type": "code",
   "execution_count": 9,
   "metadata": {},
   "outputs": [
    {
     "data": {
      "text/plain": [
       "10-element Vector{Any}:\n",
       " 89.1640866873065\n",
       " 84.52012383900929\n",
       " 86.9969040247678\n",
       " 85.13931888544892\n",
       " 86.06811145510835\n",
       " 85.75851393188854\n",
       " 90.40247678018576\n",
       " 85.75851393188854\n",
       " 86.06811145510835\n",
       " 86.9969040247678"
      ]
     },
     "execution_count": 9,
     "metadata": {},
     "output_type": "execute_result"
    }
   ],
   "source": [
    "# load features into dataframe\n",
    "df_dowker_tv_h0 = DataFrame(ids=Int64[],times=Int64[],labels=[])\n",
    "for i in 1:400\n",
    "    colname = string(\"feature_\",i)\n",
    "    df_dowker_tv_h0[!,colname] = Float64[]\n",
    "end\n",
    "location_tv_h0 = \"persistence_images\\\\dowker\\\\tumour_vessel_h0\\\\\"\n",
    "files_dowker_tv_h0 = readdir(workdir*\"\\\\\"*location_tv_h0)\n",
    "for f in files_dowker_tv_h0\n",
    "    id,time = parse_file(f)\n",
    "    id = parse(Int64,id)\n",
    "    time = parse(Int64,time)\n",
    "    image = load_object(location_tv_h0*f)\n",
    "    row = Any[]\n",
    "    label = getBinaryLabel(id,time)\n",
    "    append!(row,id)\n",
    "    append!(row,time)\n",
    "    append!(row,label)\n",
    "    for x in image\n",
    "        append!(row,x)\n",
    "    end\n",
    "    push!(df_dowker_tv_h0,row)\n",
    "end\n",
    "\n",
    "# rescale features to [0,1]\n",
    "X = Matrix(df_dowker_tv_h0[:,4:end])\n",
    "\n",
    "dt = fit(UnitRangeTransform, X; dims=1, unit=true)\n",
    "\n",
    "Xn = StatsBase.transform(dt,X)\n",
    "for i in 1:size(X)[1]\n",
    "    df_dowker_tv_h0[i,:][4:end] = Xn[i,:]\n",
    "end\n",
    "\n",
    "a, C, G = train_svm(df_dowker_tv_h0)\n",
    "accuracies = repeat_svm(df_dowker_tv_h0,C,G,10)"
   ]
  },
  {
   "cell_type": "markdown",
   "metadata": {},
   "source": [
    "Dowker H1 Tumour-vessel"
   ]
  },
  {
   "cell_type": "code",
   "execution_count": 10,
   "metadata": {},
   "outputs": [
    {
     "data": {
      "text/plain": [
       "10-element Vector{Any}:\n",
       " 77.70897832817337\n",
       " 77.70897832817337\n",
       " 75.85139318885449\n",
       " 77.08978328173374\n",
       " 26.93498452012384\n",
       " 74.92260061919505\n",
       " 73.37461300309597\n",
       " 75.85139318885449\n",
       " 74.92260061919505\n",
       " 78.0185758513932"
      ]
     },
     "execution_count": 10,
     "metadata": {},
     "output_type": "execute_result"
    }
   ],
   "source": [
    "# load features into dataframe\n",
    "df_dowker_tv_h1 = DataFrame(ids=Int64[],times=Int64[],labels=[])\n",
    "for i in 1:400\n",
    "    colname = string(\"feature_\",i)\n",
    "    df_dowker_tv_h1[!,colname] = Float64[]\n",
    "end\n",
    "location_tv_h1 = \"persistence_images\\\\dowker\\\\tumour_vessel_h1\\\\\"\n",
    "files_dowker_tv_h1 = readdir(workdir*\"\\\\\"*location_tv_h1)\n",
    "for f in files_dowker_tv_h1\n",
    "    id,time = parse_file(f)\n",
    "    id = parse(Int64,id)\n",
    "    time = parse(Int64,time)\n",
    "    image = load_object(location_tv_h1*f)\n",
    "    row = Any[]\n",
    "    label = getBinaryLabel(id,time)\n",
    "    append!(row,id)\n",
    "    append!(row,time)\n",
    "    append!(row,label)\n",
    "    for x in image\n",
    "        append!(row,x)\n",
    "    end\n",
    "    push!(df_dowker_tv_h1,row)\n",
    "end\n",
    "\n",
    "# rescale features to [0,1]\n",
    "X = Matrix(df_dowker_tv_h1[:,4:end])\n",
    "\n",
    "dt = fit(UnitRangeTransform, X; dims=1, unit=true)\n",
    "\n",
    "Xn = StatsBase.transform(dt,X)\n",
    "for i in 1:size(X)[1]\n",
    "    df_dowker_tv_h1[i,:][4:end] = Xn[i,:]\n",
    "end\n",
    "\n",
    "a, C, G = train_svm(df_dowker_tv_h1)\n",
    "accuracies = repeat_svm(df_dowker_tv_h1,C,G,10)"
   ]
  },
  {
   "cell_type": "markdown",
   "metadata": {},
   "source": [
    "Dowker H0 Macrophage-vessel"
   ]
  },
  {
   "cell_type": "code",
   "execution_count": 11,
   "metadata": {},
   "outputs": [
    {
     "data": {
      "text/plain": [
       "10-element Vector{Any}:\n",
       " 78.0185758513932\n",
       " 81.11455108359134\n",
       " 79.56656346749226\n",
       " 78.63777089783281\n",
       " 77.08978328173374\n",
       " 84.82972136222911\n",
       " 81.73374613003097\n",
       " 80.4953560371517\n",
       " 82.35294117647058\n",
       " 78.0185758513932"
      ]
     },
     "execution_count": 11,
     "metadata": {},
     "output_type": "execute_result"
    }
   ],
   "source": [
    "# load features into dataframe\n",
    "df_dowker_mv_h0 = DataFrame(ids=Int64[],times=Int64[],labels=[])\n",
    "for i in 1:400\n",
    "    colname = string(\"feature_\",i)\n",
    "    df_dowker_mv_h0[!,colname] = Float64[]\n",
    "end\n",
    "location_mv_h0 = \"persistence_images\\\\dowker\\\\macrophage_vessel_h0\\\\\"\n",
    "files_dowker_mv_h0 = readdir(workdir*\"\\\\\"*location_mv_h0)\n",
    "for f in files_dowker_mv_h0\n",
    "    id,time = parse_file(f)\n",
    "    id = parse(Int64,id)\n",
    "    time = parse(Int64,time)\n",
    "    image = load_object(location_mv_h0*f)\n",
    "    row = Any[]\n",
    "    label = getBinaryLabel(id,time)\n",
    "    append!(row,id)\n",
    "    append!(row,time)\n",
    "    append!(row,label)\n",
    "    for x in image\n",
    "        append!(row,x)\n",
    "    end\n",
    "    push!(df_dowker_mv_h0,row)\n",
    "end\n",
    "\n",
    "# rescale features to [0,1]\n",
    "X = Matrix(df_dowker_mv_h0[:,4:end])\n",
    "\n",
    "dt = fit(UnitRangeTransform, X; dims=1, unit=true)\n",
    "\n",
    "Xn = StatsBase.transform(dt,X)\n",
    "for i in 1:size(X)[1]\n",
    "    df_dowker_mv_h0[i,:][4:end] = Xn[i,:]\n",
    "end\n",
    "\n",
    "a, C, G = train_svm(df_dowker_mv_h0)\n",
    "accuracies = repeat_svm(df_dowker_mv_h0,C,G,10)"
   ]
  },
  {
   "cell_type": "markdown",
   "metadata": {},
   "source": [
    "Dowker H1 Macrophage-vessel"
   ]
  },
  {
   "cell_type": "code",
   "execution_count": 12,
   "metadata": {},
   "outputs": [
    {
     "data": {
      "text/plain": [
       "10-element Vector{Any}:\n",
       " 70.89783281733746\n",
       " 72.13622291021672\n",
       " 68.42105263157895\n",
       " 71.51702786377709\n",
       " 70.89783281733746\n",
       " 70.27863777089783\n",
       " 74.30340557275542\n",
       " 72.44582043343654\n",
       " 72.13622291021672\n",
       " 75.54179566563467"
      ]
     },
     "execution_count": 12,
     "metadata": {},
     "output_type": "execute_result"
    }
   ],
   "source": [
    "# load features into dataframe\n",
    "df_dowker_mv_h1 = DataFrame(ids=Int64[],times=Int64[],labels=[])\n",
    "for i in 1:400\n",
    "    colname = string(\"feature_\",i)\n",
    "    df_dowker_mv_h1[!,colname] = Float64[]\n",
    "end\n",
    "location_mv_h1 = \"persistence_images\\\\dowker\\\\macrophage_vessel_h1\\\\\"\n",
    "files_dowker_mv_h1 = readdir(workdir*\"\\\\\"*location_mv_h1)\n",
    "for f in files_dowker_mv_h1\n",
    "    id,time = parse_file(f)\n",
    "    id = parse(Int64,id)\n",
    "    time = parse(Int64,time)\n",
    "    image = load_object(location_mv_h1*f)\n",
    "    row = Any[]\n",
    "    label = getBinaryLabel(id,time)\n",
    "    append!(row,id)\n",
    "    append!(row,time)\n",
    "    append!(row,label)\n",
    "    for x in image\n",
    "        append!(row,x)\n",
    "    end\n",
    "    push!(df_dowker_mv_h1,row)\n",
    "end\n",
    "\n",
    "# rescale features to [0,1]\n",
    "X = Matrix(df_dowker_mv_h1[:,4:end])\n",
    "\n",
    "dt = fit(UnitRangeTransform, X; dims=1, unit=true)\n",
    "\n",
    "Xn = StatsBase.transform(dt,X)\n",
    "for i in 1:size(X)[1]\n",
    "    df_dowker_mv_h1[i,:][4:end] = Xn[i,:]\n",
    "end\n",
    "\n",
    "a, C, G = train_svm(df_dowker_mv_h1)\n",
    "accuracies = repeat_svm(df_dowker_mv_h1,C,G,10)"
   ]
  },
  {
   "cell_type": "markdown",
   "metadata": {},
   "source": [
    "Dowker-time Macrophages H0"
   ]
  },
  {
   "cell_type": "code",
   "execution_count": 13,
   "metadata": {},
   "outputs": [
    {
     "data": {
      "text/plain": [
       "10-element Vector{Any}:\n",
       " 80.4953560371517\n",
       " 79.87616099071208\n",
       " 83.28173374613003\n",
       " 79.56656346749226\n",
       " 82.6625386996904\n",
       " 82.04334365325077\n",
       " 80.4953560371517\n",
       " 81.42414860681114\n",
       " 81.11455108359134\n",
       " 82.97213622291022"
      ]
     },
     "execution_count": 13,
     "metadata": {},
     "output_type": "execute_result"
    }
   ],
   "source": [
    "# load features into dataframe\n",
    "df_dowkertime_m_h0 = DataFrame(ids=Int64[],times=Int64[],labels=[])\n",
    "for i in 1:400\n",
    "    colname = string(\"feature_\",i)\n",
    "    df_dowkertime_m_h0[!,colname] = Float64[]\n",
    "end\n",
    "location_m_time_h0 = \"persistence_images\\\\dowkertime\\\\macrophage_time_h0\\\\\"\n",
    "files_dowker_m_time_h0 = readdir(workdir*\"\\\\\"*location_m_time_h0)\n",
    "for f in files_dowker_m_time_h0\n",
    "    id,time = parse_file(f)\n",
    "    id = parse(Int64,id)\n",
    "    time = parse(Int64,time)\n",
    "    image = load_object(location_m_time_h0*f)\n",
    "    row = Any[]\n",
    "    label = getBinaryLabel(id,time)\n",
    "    append!(row,id)\n",
    "    append!(row,time)\n",
    "    append!(row,label)\n",
    "    for x in image\n",
    "        append!(row,x)\n",
    "    end\n",
    "    push!(df_dowkertime_m_h0,row)\n",
    "end\n",
    "\n",
    "# rescale features to [0,1]\n",
    "X = Matrix(df_dowkertime_m_h0[:,4:end])\n",
    "\n",
    "dt = fit(UnitRangeTransform, X; dims=1, unit=true)\n",
    "\n",
    "Xn = StatsBase.transform(dt,X)\n",
    "for i in 1:size(X)[1]\n",
    "    df_dowkertime_m_h0[i,:][4:end] = Xn[i,:]\n",
    "end\n",
    "\n",
    "a, C, G = train_svm(df_dowkertime_m_h0)\n",
    "accuracies = repeat_svm(df_dowkertime_m_h0,C,G,10)"
   ]
  },
  {
   "cell_type": "markdown",
   "metadata": {},
   "source": [
    "Dowker-time Macrophages H1"
   ]
  },
  {
   "cell_type": "code",
   "execution_count": 14,
   "metadata": {},
   "outputs": [
    {
     "data": {
      "text/plain": [
       "10-element Vector{Any}:\n",
       " 80.80495356037152\n",
       " 83.90092879256966\n",
       " 80.80495356037152\n",
       " 79.25696594427245\n",
       " 85.44891640866872\n",
       " 81.11455108359134\n",
       " 83.59133126934985\n",
       " 84.52012383900929\n",
       " 80.80495356037152\n",
       " 83.90092879256966"
      ]
     },
     "execution_count": 14,
     "metadata": {},
     "output_type": "execute_result"
    }
   ],
   "source": [
    " # load features into dataframe\n",
    " df_dowkertime_m_h1 = DataFrame(ids=Int64[],times=Int64[],labels=[])\n",
    " for i in 1:400\n",
    "     colname = string(\"feature_\",i)\n",
    "     df_dowkertime_m_h1[!,colname] = Float64[]\n",
    " end\n",
    " location_m_time_h1 = \"persistence_images\\\\dowkertime\\\\macrophage_time_h1\\\\\"\n",
    " files_dowker_m_time_h1 = readdir(workdir*\"\\\\\"*location_m_time_h1)\n",
    " for f in files_dowker_m_time_h1\n",
    "     id,time = parse_file(f)\n",
    "     id = parse(Int64,id)\n",
    "     time = parse(Int64,time)\n",
    "     image = load_object(location_m_time_h1*f)\n",
    "     row = Any[]\n",
    "     label = getBinaryLabel(id,time)\n",
    "     append!(row,id)\n",
    "     append!(row,time)\n",
    "     append!(row,label)\n",
    "     for x in image\n",
    "         append!(row,x)\n",
    "     end\n",
    "     push!(df_dowkertime_m_h1,row)\n",
    " end\n",
    "\n",
    " # rescale features to [0,1]\n",
    " X = Matrix(df_dowkertime_m_h1[:,4:end])\n",
    "\n",
    " dt = fit(UnitRangeTransform, X; dims=1, unit=true)\n",
    "\n",
    " Xn = StatsBase.transform(dt,X)\n",
    " for i in 1:size(X)[1]\n",
    "     df_dowkertime_m_h1[i,:][4:end] = Xn[i,:]\n",
    " end\n",
    "\n",
    " a, C, G = train_svm(df_dowkertime_m_h1)\n",
    "accuracies = repeat_svm(df_dowkertime_m_h1,C,G,10)"
   ]
  },
  {
   "cell_type": "markdown",
   "metadata": {},
   "source": [
    "Dowker-time Tumour H0"
   ]
  },
  {
   "cell_type": "code",
   "execution_count": 15,
   "metadata": {},
   "outputs": [
    {
     "data": {
      "text/plain": [
       "10-element Vector{Any}:\n",
       " 82.6625386996904\n",
       " 81.11455108359134\n",
       " 83.28173374613003\n",
       " 84.21052631578947\n",
       " 82.35294117647058\n",
       " 77.70897832817337\n",
       " 82.35294117647058\n",
       " 84.52012383900929\n",
       " 76.47058823529412\n",
       " 81.42414860681114"
      ]
     },
     "execution_count": 15,
     "metadata": {},
     "output_type": "execute_result"
    }
   ],
   "source": [
    "# load features into dataframe\n",
    "df_dowkertime_t_h0 = DataFrame(ids=Int64[],times=Int64[],labels=[])\n",
    "for i in 1:400\n",
    "    colname = string(\"feature_\",i)\n",
    "    df_dowkertime_t_h0[!,colname] = Float64[]\n",
    "end\n",
    "location_t_time_h0 = \"persistence_images\\\\dowkertime\\\\tumour_time_h0\\\\\"\n",
    "files_dowker_t_time_h0 = readdir(workdir*\"\\\\\"*location_t_time_h0)\n",
    "for f in files_dowker_t_time_h0\n",
    "    id,time = parse_file(f)\n",
    "    id = parse(Int64,id)\n",
    "    time = parse(Int64,time)\n",
    "    image = load_object(location_t_time_h0*f)\n",
    "    row = Any[]\n",
    "    label = getBinaryLabel(id,time)\n",
    "    append!(row,id)\n",
    "    append!(row,time)\n",
    "    append!(row,label)\n",
    "    for x in image\n",
    "        append!(row,x)\n",
    "    end\n",
    "    push!(df_dowkertime_t_h0,row)\n",
    "end\n",
    "\n",
    "# rescale features to [0,1]\n",
    "X = Matrix(df_dowkertime_t_h0[:,4:end])\n",
    "\n",
    "dt = fit(UnitRangeTransform, X; dims=1, unit=true)\n",
    "\n",
    "Xn = StatsBase.transform(dt,X)\n",
    "for i in 1:size(X)[1]\n",
    "    df_dowkertime_t_h0[i,:][4:end] = Xn[i,:]\n",
    "end\n",
    "\n",
    "a, C, G = train_svm(df_dowkertime_t_h0)\n",
    "accuracies = repeat_svm(df_dowkertime_t_h0,C,G,10)"
   ]
  },
  {
   "cell_type": "markdown",
   "metadata": {},
   "source": [
    "Dowker-time Tumour H1"
   ]
  },
  {
   "cell_type": "code",
   "execution_count": 16,
   "metadata": {},
   "outputs": [
    {
     "data": {
      "text/plain": [
       "10-element Vector{Any}:\n",
       " 84.52012383900929\n",
       " 84.52012383900929\n",
       " 82.04334365325077\n",
       " 82.6625386996904\n",
       " 82.97213622291022\n",
       " 82.97213622291022\n",
       " 84.82972136222911\n",
       " 82.97213622291022\n",
       " 84.21052631578947\n",
       " 83.90092879256966"
      ]
     },
     "execution_count": 16,
     "metadata": {},
     "output_type": "execute_result"
    }
   ],
   "source": [
    "# load features into dataframe\n",
    "df_dowkertime_t_h1 = DataFrame(ids=Int64[],times=Int64[],labels=[])\n",
    "for i in 1:400\n",
    "    colname = string(\"feature_\",i)\n",
    "    df_dowkertime_t_h1[!,colname] = Float64[]\n",
    "end\n",
    "location_t_time_h1 = \"persistence_images\\\\dowkertime\\\\tumour_time_h1\\\\\"\n",
    "files_dowker_t_time_h1 = readdir(workdir*\"\\\\\"*location_t_time_h1)\n",
    "for f in files_dowker_t_time_h1\n",
    "    id,time = parse_file(f)\n",
    "    id = parse(Int64,id)\n",
    "    time = parse(Int64,time)\n",
    "    image = load_object(location_t_time_h1*f)\n",
    "    row = Any[]\n",
    "    label = getBinaryLabel(id,time)\n",
    "    append!(row,id)\n",
    "    append!(row,time)\n",
    "    append!(row,label)\n",
    "    for x in image\n",
    "        append!(row,x)\n",
    "    end\n",
    "    push!(df_dowkertime_t_h1,row)\n",
    "end\n",
    "\n",
    "# rescale features to [0,1]\n",
    "X = Matrix(df_dowkertime_t_h1[:,4:end])\n",
    "\n",
    "dt = fit(UnitRangeTransform, X; dims=1, unit=true)\n",
    "\n",
    "Xn = StatsBase.transform(dt,X)\n",
    "for i in 1:size(X)[1]\n",
    "    df_dowkertime_t_h1[i,:][4:end] = Xn[i,:]\n",
    "end\n",
    "\n",
    "a, C, G = train_svm(df_dowkertime_t_h1)\n",
    "accuracies = repeat_svm(df_dowkertime_t_h1,C,G,10)\n"
   ]
  }
 ],
 "metadata": {
  "kernelspec": {
   "display_name": "Julia 1.7.2",
   "language": "julia",
   "name": "julia-1.7"
  },
  "language_info": {
   "file_extension": ".jl",
   "mimetype": "application/julia",
   "name": "julia",
   "version": "1.7.2"
  },
  "vscode": {
   "interpreter": {
    "hash": "09c6cbd744a3e802c1b5f435d264ee7d2f5cdf10497892df26b386a33f32af57"
   }
  }
 },
 "nbformat": 4,
 "nbformat_minor": 2
}
