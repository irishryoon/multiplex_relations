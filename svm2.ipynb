{
 "cells": [
  {
   "cell_type": "code",
   "execution_count": 3,
   "metadata": {},
   "outputs": [
    {
     "name": "stderr",
     "output_type": "stream",
     "text": [
      "\n",
      "(process:15568): GLib-GIO-WARNING **: 16:12:46.803: Unexpectedly, UWP app `Evernote.Evernote_10.46.9.0_x64__q4d96b2w5wcc2' (AUMId `Evernote.Evernote_q4d96b2w5wcc2!Evernote') supports 1 extensions but has no verbs\n"
     ]
    },
    {
     "data": {
      "application/vnd.webio.node+json": {
       "children": [],
       "instanceArgs": {
        "namespace": "html",
        "tag": "div"
       },
       "nodeType": "DOM",
       "props": {},
       "type": "node"
      },
      "text/html": [
       "<div style=\"padding: 1em; background-color: #f8d6da; border: 1px solid #f5c6cb; font-weight: bold;\">\n",
       "<p>The WebIO Jupyter extension was not detected. See the\n",
       "<a href=\"https://juliagizmos.github.io/WebIO.jl/latest/providers/ijulia/\" target=\"_blank\">\n",
       "    WebIO Jupyter integration documentation\n",
       "</a>\n",
       "for more information.\n",
       "</div>\n"
      ],
      "text/plain": [
       "WebIO._IJuliaInit()"
      ]
     },
     "metadata": {},
     "output_type": "display_data"
    },
    {
     "name": "stderr",
     "output_type": "stream",
     "text": [
      "┌ Warning: Kaledio is not available on this system. Julia will be unable to produce any plots.\n",
      "└ @ PlotlyBase C:\\Users\\jaydh\\.julia\\packages\\PlotlyBase\\NxSlF\\src\\kaleido.jl:58\n",
      "┌ Warning: ORCA.jl has been deprecated and all savefig functionality\n",
      "│ has been implemented directly in PlotlyBase itself.\n",
      "│ \n",
      "│ By implementing in PlotlyBase.jl, the savefig routines are automatically\n",
      "│ available to PlotlyJS.jl also.\n",
      "└ @ ORCA C:\\Users\\jaydh\\.julia\\packages\\ORCA\\U5XaN\\src\\ORCA.jl:8\n",
      "┌ Warning: Module model_selection has been ported to Julia - try `import ScikitLearn: CrossValidation` instead\n",
      "└ @ ScikitLearn.Skcore C:\\Users\\jaydh\\.julia\\packages\\ScikitLearn\\ssekP\\src\\Skcore.jl:179\n"
     ]
    },
    {
     "data": {
      "text/plain": [
       "0.2"
      ]
     },
     "execution_count": 3,
     "metadata": {},
     "output_type": "execute_result"
    }
   ],
   "source": [
    "include(\"compute_ph2.jl\")\n",
    "using LIBSVM\n",
    "using RDatasets\n",
    "using Printf\n",
    "using Statistics\n",
    "using Random\n",
    "using .ext\n",
    "using Plots\n",
    "using GLM\n",
    "using StatsBase\n",
    "using ScikitLearn\n",
    "using JLD2\n",
    "@sk_import model_selection: train_test_split\n",
    "workdir = pwd()\n",
    "\n",
    "train_ratio = 0.6\n",
    "validation_ratio = 0.2\n",
    "test_ratio = 0.2"
   ]
  },
  {
   "cell_type": "code",
   "execution_count": 33,
   "metadata": {},
   "outputs": [
    {
     "data": {
      "text/plain": [
       "parameter_optimisation (generic function with 1 method)"
      ]
     },
     "execution_count": 33,
     "metadata": {},
     "output_type": "execute_result"
    }
   ],
   "source": [
    "function random_undersample(df)\n",
    "    class_0 = countmap(df.labels)[0];\n",
    "    class_1 = countmap(df.labels)[1];\n",
    "\n",
    "    Random.seed!(1);\n",
    "    df=df[shuffle(1:nrow(df)),:];   \n",
    "\n",
    "    if class_0 > class_1 \n",
    "        # randomly undersample class 0\n",
    "\n",
    "        prob_to_delete = (class_0-class_1)/(class_0);\n",
    "        rows_to_delete = [];\n",
    "        for row in 1:length(df.labels)\n",
    "            if df[row,:labels] == 0\n",
    "                if rand() < prob_to_delete\n",
    "                    append!(rows_to_delete,row);\n",
    "                end\n",
    "            end\n",
    "        end\n",
    "        delete!(df,rows_to_delete);\n",
    "    elseif class_1 > class_0 \n",
    "        # randomly undersample class 1\n",
    "\n",
    "        prob_to_delete = (class_1-class_0)/(class_1);\n",
    "        rows_to_delete = [];\n",
    "        for row in 1:length(df.labels)\n",
    "            if df[row,:labels] == 1\n",
    "                if rand() < prob_to_delete\n",
    "                    append!(rows_to_delete,row);\n",
    "                end\n",
    "            end\n",
    "        end\n",
    "        delete!(df,rows_to_delete);\n",
    "    end\n",
    "    return df\n",
    "end\n",
    "\n",
    "function parameter_optimisation(Xtrain,ytrain,Xval,yval, costs, gammas)\n",
    "    Cs = [] \n",
    "    Gs = []\n",
    "    accs = zeros(7,7)\n",
    "    maxi = 0\n",
    "    for i=1:1:7\n",
    "        G = gammas[i]\n",
    "        for j=1:1:7\n",
    "            C = costs[j]\n",
    "            model = svmtrain(Xtrain', ytrain ; gamma=G , cost=C)\n",
    "            ypredict, decision_values = svmpredict(model, Xval');\n",
    "            acc = mean(ypredict .== yval) * 100;\n",
    "            accs[i,j] = acc\n",
    "            if acc > maxi \n",
    "                #println(\"current max: \",acc )\n",
    "                maxi = acc\n",
    "                append!(Cs,C)\n",
    "                append!(Gs,G)\n",
    "            end\n",
    "        end\n",
    "    end\n",
    "\n",
    "    c = [0.0001 0.001 0.01 0.1 1.0 10.0 100.0]\n",
    "    g = [\"Costs->\";0.0001;0.001;0.01;0.1;1.0;10.0;100.0]\n",
    "    accs2=vcat(c,accs)\n",
    "    accs3=hcat(g,accs2)\n",
    "    return (Cs[end],Gs[end],accs3)\n",
    "end"
   ]
  },
  {
   "cell_type": "code",
   "execution_count": 5,
   "metadata": {},
   "outputs": [],
   "source": [
    "# hyperparameter ranges\n",
    "gammas = [0.0001, 0.001, 0.01, 0.1, 1.0, 10.0, 100.0];\n",
    "costs = gammas;"
   ]
  },
  {
   "cell_type": "markdown",
   "metadata": {},
   "source": [
    "VR H0 Tumour Cells"
   ]
  },
  {
   "cell_type": "code",
   "execution_count": 18,
   "metadata": {},
   "outputs": [
    {
     "name": "stdout",
     "output_type": "stream",
     "text": [
      "accuracy: 79.43925233644859\n",
      "Cost: 100.0 Gamma: 1.0\n"
     ]
    },
    {
     "data": {
      "text/plain": [
       "8×8 Matrix{Any}:\n",
       "    \"Costs->\"   0.0001   0.001    0.01     0.1      1.0     10.0     100.0\n",
       "   0.0001      47.6636  47.6636  47.6636  47.6636  47.6636  47.6636   47.6636\n",
       "   0.001       47.6636  47.6636  47.6636  47.6636  47.6636  47.6636   65.4206\n",
       "   0.01        47.6636  47.6636  47.6636  47.6636  47.6636  65.4206   68.2243\n",
       "   0.1         47.6636  47.6636  47.6636  47.6636  64.486   69.1589   79.4393\n",
       "   1.0         47.6636  47.6636  47.6636  63.5514  65.4206  79.4393   83.1776\n",
       "  10.0         47.6636  47.6636  47.6636  64.486   70.0935  79.4393   82.243\n",
       " 100.0         47.6636  47.6636  47.6636  64.486   78.5047  79.4393   76.6355"
      ]
     },
     "metadata": {},
     "output_type": "display_data"
    }
   ],
   "source": [
    "# load features into dataframe\n",
    "df_vr_tumour_h0 = DataFrame(ids=Int64[],times=Int64[],labels=[])\n",
    "for i in 1:20\n",
    "    colname = string(\"feature_\",i)\n",
    "    df_vr_tumour_h0[!,colname] = Float64[]\n",
    "end\n",
    "location_tumour_h0 = \"persistence_images\\\\vr\\\\tumour_h0\\\\\"\n",
    "files_vr_tumour_h0 = readdir(workdir*\"\\\\\"*location_tumour_h0)\n",
    "for f in files_vr_tumour_h0\n",
    "    id,time = parse_file(f)\n",
    "    id = parse(Int64,id)\n",
    "    time = parse(Int64,time)\n",
    "    image = load_object(location_tumour_h0*f)\n",
    "    row = Any[]\n",
    "    label = getBinaryLabel(id,time)\n",
    "    append!(row,id)\n",
    "    append!(row,time)\n",
    "    append!(row,label)\n",
    "    for x in image\n",
    "        append!(row,x)\n",
    "    end\n",
    "    push!(df_vr_tumour_h0,row)\n",
    "end\n",
    "\n",
    "# rescale features to [0,1]\n",
    "X = Matrix(df_vr_tumour_h0[:,4:end])\n",
    "\n",
    "dt = fit(UnitRangeTransform, X; dims=1, unit=true)\n",
    "\n",
    "Xn = StatsBase.transform(dt,X)\n",
    "for i in 1:size(X)[1]\n",
    "    df_vr_tumour_h0[i,:][4:end] = Xn[i,:]\n",
    "end\n",
    "\n",
    "# randomly undersample imbalanced data \n",
    "df_vr_tumour_h0 = random_undersample(df_vr_tumour_h0)\n",
    "\n",
    "# randomly sample training, test and validation sets\n",
    "df_vr_tumour_h0=df_vr_tumour_h0[shuffle(1:nrow(df_vr_tumour_h0)),:];   \n",
    "X = Matrix(df_vr_tumour_h0[:,4:end]);    \n",
    "y = df_vr_tumour_h0.labels;\n",
    "Xtrain, Xtest, ytrain, ytest = train_test_split(X,y,test_size=1-train_ratio); # train-test split\n",
    "Xval, Xtest, yval, ytest = train_test_split(Xtest,ytest,test_size= (test_ratio)/(test_ratio+validation_ratio)); # test-validation split\n",
    "\n",
    "# optimise hyperparameters\n",
    "C,G,accs = parameter_optimisation(Xtrain,ytrain,Xval,yval,costs,gammas)\n",
    "\n",
    "# report final accuracy on test set\n",
    "\n",
    "model = svmtrain(Xtrain', ytrain ; gamma=G , cost=C)\n",
    "ypredict, decision_values = svmpredict(model, Xtest');\n",
    "acc = mean(ypredict .== ytest) * 100;\n",
    "println(\"accuracy: \", acc)\n",
    "println(\"Cost: \", C, \" Gamma: \", G)\n",
    "display(accs)"
   ]
  },
  {
   "cell_type": "markdown",
   "metadata": {},
   "source": [
    "VR H1 Tumour cells"
   ]
  },
  {
   "cell_type": "code",
   "execution_count": 19,
   "metadata": {},
   "outputs": [
    {
     "name": "stdout",
     "output_type": "stream",
     "text": [
      "accuracy: 84.11214953271028\n",
      "Cost: 0.1 Gamma: 1.0\n"
     ]
    },
    {
     "data": {
      "text/plain": [
       "8×8 Matrix{Any}:\n",
       "    \"Costs->\"   0.0001   0.001    0.01     0.1      1.0     10.0     100.0\n",
       "   0.0001      50.4673  50.4673  50.4673  50.4673  50.4673  50.4673   78.5047\n",
       "   0.001       50.4673  50.4673  50.4673  50.4673  50.4673  78.5047   79.4393\n",
       "   0.01        50.4673  50.4673  50.4673  50.4673  79.4393  80.3738   81.3084\n",
       "   0.1         50.4673  50.4673  50.4673  78.5047  77.5701  77.5701   79.4393\n",
       "   1.0         50.4673  50.4673  50.4673  82.243   79.4393  79.4393   78.5047\n",
       "  10.0         50.4673  50.4673  50.4673  79.4393  81.3084  81.3084   78.5047\n",
       " 100.0         50.4673  50.4673  50.4673  50.4673  81.3084  82.243    82.243"
      ]
     },
     "metadata": {},
     "output_type": "display_data"
    }
   ],
   "source": [
    "# load features into dataframe\n",
    "df_vr_tumour_h1 = DataFrame(ids=Int64[],times=Int64[],labels=[])\n",
    "for i in 1:400\n",
    "    colname = string(\"feature_\",i)\n",
    "    df_vr_tumour_h1[!,colname] = Float64[]\n",
    "end\n",
    "location_tumour_h1 = \"persistence_images\\\\vr\\\\tumour_h1\\\\\"\n",
    "files_vr_tumour_h1 = readdir(workdir*\"\\\\\"*location_tumour_h1)\n",
    "for f in files_vr_tumour_h1\n",
    "    id,time = parse_file(f)\n",
    "    id = parse(Int64,id)\n",
    "    time = parse(Int64,time)\n",
    "    image = load_object(location_tumour_h1*f)\n",
    "    row = Any[]\n",
    "    label = getBinaryLabel(id,time)\n",
    "    append!(row,id)\n",
    "    append!(row,time)\n",
    "    append!(row,label)\n",
    "    for x in image\n",
    "        append!(row,x)\n",
    "    end\n",
    "    push!(df_vr_tumour_h1,row)\n",
    "end\n",
    "\n",
    "# rescale features to [0,1]\n",
    "X = Matrix(df_vr_tumour_h1[:,4:end])\n",
    "\n",
    "dt = fit(UnitRangeTransform, X; dims=1, unit=true)\n",
    "\n",
    "Xn = StatsBase.transform(dt,X)\n",
    "for i in 1:size(X)[1]\n",
    "    df_vr_tumour_h1[i,:][4:end] = Xn[i,:]\n",
    "end\n",
    "\n",
    "# randomly undersample imbalanced data \n",
    "df_vr_tumour_h1 = random_undersample(df_vr_tumour_h1)\n",
    "\n",
    "# randomly sample training, test and validation sets\n",
    "df_vr_tumour_h1=df_vr_tumour_h1[shuffle(1:nrow(df_vr_tumour_h1)),:];   \n",
    "X = Matrix(df_vr_tumour_h1[:,4:end]);    \n",
    "y = df_vr_tumour_h1.labels;\n",
    "Xtrain, Xtest, ytrain, ytest = train_test_split(X,y,test_size=1-train_ratio); # train-test split\n",
    "Xval, Xtest, yval, ytest = train_test_split(Xtest,ytest,test_size= (test_ratio)/(test_ratio+validation_ratio)); # test-validation split\n",
    "\n",
    "# optimise hyperparameters\n",
    "C,G,accs = parameter_optimisation(Xtrain,ytrain,Xval,yval,costs,gammas)\n",
    "\n",
    "# report final accuracy on test set\n",
    "\n",
    "model = svmtrain(Xtrain', ytrain ; gamma=G , cost=C)\n",
    "ypredict, decision_values = svmpredict(model, Xtest');\n",
    "acc = mean(ypredict .== ytest) * 100;\n",
    "println(\"accuracy: \", acc)\n",
    "println(\"Cost: \", C, \" Gamma: \", G)\n",
    "display(accs)"
   ]
  },
  {
   "cell_type": "markdown",
   "metadata": {},
   "source": [
    "VR H0 Macrophages"
   ]
  },
  {
   "cell_type": "code",
   "execution_count": 20,
   "metadata": {},
   "outputs": [
    {
     "name": "stdout",
     "output_type": "stream",
     "text": [
      "accuracy: 73.83177570093457\n",
      "Cost: 10.0 Gamma: 1.0\n"
     ]
    },
    {
     "data": {
      "text/plain": [
       "8×8 Matrix{Any}:\n",
       "    \"Costs->\"   0.0001   0.001    0.01     0.1      1.0     10.0     100.0\n",
       "   0.0001      51.4019  51.4019  51.4019  51.4019  51.4019  51.4019   51.4019\n",
       "   0.001       51.4019  51.4019  51.4019  51.4019  51.4019  51.4019   57.9439\n",
       "   0.01        51.4019  51.4019  51.4019  51.4019  51.4019  58.8785   57.9439\n",
       "   0.1         51.4019  51.4019  51.4019  51.4019  61.6822  61.6822   72.8972\n",
       "   1.0         51.4019  51.4019  51.4019  63.5514  63.5514  76.6355   74.7664\n",
       "  10.0         51.4019  51.4019  51.4019  64.486   73.8318  73.8318   68.2243\n",
       " 100.0         51.4019  51.4019  51.4019  51.4019  62.6168  63.5514   63.5514"
      ]
     },
     "metadata": {},
     "output_type": "display_data"
    }
   ],
   "source": [
    "# load features into dataframe\n",
    "df_vr_macrophage_h0 = DataFrame(ids=Int64[],times=Int64[],labels=[])\n",
    "for i in 1:20\n",
    "    colname = string(\"feature_\",i)\n",
    "    df_vr_macrophage_h0[!,colname] = Float64[]\n",
    "end\n",
    "location_macrophage_h0 = \"persistence_images\\\\vr\\\\macrophages_h0\\\\\"\n",
    "files_vr_macrophage_h0 = readdir(workdir*\"\\\\\"*location_macrophage_h0)\n",
    "for f in files_vr_macrophage_h0\n",
    "    id,time = parse_file(f)\n",
    "    id = parse(Int64,id)\n",
    "    time = parse(Int64,time)\n",
    "    image = load_object(location_macrophage_h0*f)\n",
    "    row = Any[]\n",
    "    label = getBinaryLabel(id,time)\n",
    "    append!(row,id)\n",
    "    append!(row,time)\n",
    "    append!(row,label)\n",
    "    for x in image\n",
    "        append!(row,x)\n",
    "    end\n",
    "    push!(df_vr_macrophage_h0,row)\n",
    "end\n",
    "\n",
    "# rescale features to [0,1]\n",
    "X = Matrix(df_vr_macrophage_h0[:,4:end])\n",
    "\n",
    "dt = fit(UnitRangeTransform, X; dims=1, unit=true)\n",
    "\n",
    "Xn = StatsBase.transform(dt,X)\n",
    "for i in 1:size(X)[1]\n",
    "    df_vr_macrophage_h0[i,:][4:end] = Xn[i,:]\n",
    "end\n",
    "\n",
    "# randomly undersample imbalanced data \n",
    "df_vr_macrophage_h0 = random_undersample(df_vr_macrophage_h0)\n",
    "\n",
    "# randomly sample training, test and validation sets\n",
    "df_vr_macrophage_h0=df_vr_macrophage_h0[shuffle(1:nrow(df_vr_macrophage_h0)),:];   \n",
    "X = Matrix(df_vr_macrophage_h0[:,4:end]);    \n",
    "y = df_vr_macrophage_h0.labels;\n",
    "Xtrain, Xtest, ytrain, ytest = train_test_split(X,y,test_size=1-train_ratio); # train-test split\n",
    "Xval, Xtest, yval, ytest = train_test_split(Xtest,ytest,test_size= (test_ratio)/(test_ratio+validation_ratio)); # test-validation split\n",
    "\n",
    "# optimise hyperparameters\n",
    "C,G,accs = parameter_optimisation(Xtrain,ytrain,Xval,yval,costs,gammas)\n",
    "\n",
    "# report final accuracy on test set\n",
    "\n",
    "model = svmtrain(Xtrain', ytrain ; gamma=G , cost=C)\n",
    "ypredict, decision_values = svmpredict(model, Xtest');\n",
    "acc = mean(ypredict .== ytest) * 100;\n",
    "println(\"accuracy: \", acc)\n",
    "println(\"Cost: \", C, \" Gamma: \", G)\n",
    "display(accs)"
   ]
  },
  {
   "cell_type": "markdown",
   "metadata": {},
   "source": [
    "VR H1 Macrophages"
   ]
  },
  {
   "cell_type": "code",
   "execution_count": 21,
   "metadata": {},
   "outputs": [
    {
     "name": "stdout",
     "output_type": "stream",
     "text": [
      "accuracy: 75.70093457943925\n",
      "Cost: 10.0 Gamma: 1.0\n"
     ]
    },
    {
     "data": {
      "text/plain": [
       "8×8 Matrix{Any}:\n",
       "    \"Costs->\"   0.0001   0.001    0.01     0.1      1.0     10.0     100.0\n",
       "   0.0001      49.5327  49.5327  49.5327  49.5327  49.5327  49.5327   49.5327\n",
       "   0.001       49.5327  49.5327  49.5327  49.5327  49.5327  49.5327   59.8131\n",
       "   0.01        49.5327  49.5327  49.5327  49.5327  49.5327  62.6168   63.5514\n",
       "   0.1         49.5327  49.5327  49.5327  50.4673  63.5514  62.6168   71.9626\n",
       "   1.0         49.5327  49.5327  49.5327  59.8131  69.1589  72.8972   69.1589\n",
       "  10.0         49.5327  49.5327  49.5327  57.9439  64.486   66.3551   66.3551\n",
       " 100.0         49.5327  49.5327  49.5327  59.8131  63.5514  61.6822   59.8131"
      ]
     },
     "metadata": {},
     "output_type": "display_data"
    }
   ],
   "source": [
    "# load features into dataframe\n",
    "df_vr_macrophage_h1 = DataFrame(ids=Int64[],times=Int64[],labels=[])\n",
    "for i in 1:400\n",
    "    colname = string(\"feature_\",i)\n",
    "    df_vr_macrophage_h1[!,colname] = Float64[]\n",
    "end\n",
    "location_macrophage_h1 = \"persistence_images\\\\vr\\\\macrophages_h1\\\\\"\n",
    "files_vr_macrophage_h1 = readdir(workdir*\"\\\\\"*location_macrophage_h1)\n",
    "for f in files_vr_macrophage_h1\n",
    "    id,time = parse_file(f)\n",
    "    id = parse(Int64,id)\n",
    "    time = parse(Int64,time)\n",
    "    image = load_object(location_macrophage_h1*f)\n",
    "    row = Any[]\n",
    "    label = getBinaryLabel(id,time)\n",
    "    append!(row,id)\n",
    "    append!(row,time)\n",
    "    append!(row,label)\n",
    "    for x in image\n",
    "        append!(row,x)\n",
    "    end\n",
    "    push!(df_vr_macrophage_h1,row)\n",
    "end\n",
    "\n",
    "# rescale features to [0,1]\n",
    "X = Matrix(df_vr_macrophage_h1[:,4:end])\n",
    "\n",
    "dt = fit(UnitRangeTransform, X; dims=1, unit=true)\n",
    "\n",
    "Xn = StatsBase.transform(dt,X)\n",
    "for i in 1:size(X)[1]\n",
    "    df_vr_macrophage_h1[i,:][4:end] = Xn[i,:]\n",
    "end\n",
    "\n",
    "# randomly undersample imbalanced data \n",
    "df_vr_macrophage_h1 = random_undersample(df_vr_macrophage_h1)\n",
    "\n",
    "# randomly sample training, test and validation sets\n",
    "df_vr_macrophage_h1=df_vr_macrophage_h1[shuffle(1:nrow(df_vr_macrophage_h1)),:];   \n",
    "X = Matrix(df_vr_macrophage_h1[:,4:end]);    \n",
    "y = df_vr_macrophage_h1.labels;\n",
    "Xtrain, Xtest, ytrain, ytest = train_test_split(X,y,test_size=1-train_ratio); # train-test split\n",
    "Xval, Xtest, yval, ytest = train_test_split(Xtest,ytest,test_size= (test_ratio)/(test_ratio+validation_ratio)); # test-validation split\n",
    "\n",
    "# optimise hyperparameters\n",
    "C,G,accs = parameter_optimisation(Xtrain,ytrain,Xval,yval,costs,gammas)\n",
    "\n",
    "# report final accuracy on test set\n",
    "\n",
    "model = svmtrain(Xtrain', ytrain ; gamma=G , cost=C)\n",
    "ypredict, decision_values = svmpredict(model, Xtest');\n",
    "acc = mean(ypredict .== ytest) * 100;\n",
    "println(\"accuracy: \", acc)\n",
    "println(\"Cost: \", C, \" Gamma: \", G)\n",
    "display(accs)"
   ]
  },
  {
   "cell_type": "markdown",
   "metadata": {},
   "source": [
    "Dowker H0 macrophage-tumour"
   ]
  },
  {
   "cell_type": "code",
   "execution_count": 23,
   "metadata": {},
   "outputs": [
    {
     "name": "stdout",
     "output_type": "stream",
     "text": [
      "accuracy: 84.11214953271028\n",
      "Cost: 100.0 Gamma: 0.1\n"
     ]
    },
    {
     "data": {
      "text/plain": [
       "8×8 Matrix{Any}:\n",
       "    \"Costs->\"   0.0001   0.001   0.01    0.1      1.0     10.0     100.0\n",
       "   0.0001      53.271   53.271  53.271  53.271   53.271   53.271    87.8505\n",
       "   0.001       53.271   53.271  53.271  53.271   53.271   87.8505   88.785\n",
       "   0.01        53.271   53.271  53.271  53.271   87.8505  88.785    90.6542\n",
       "   0.1         53.271   53.271  53.271  86.9159  89.7196  89.7196   91.5888\n",
       "   1.0         53.271   53.271  53.271  85.0467  87.8505  87.8505   82.243\n",
       "  10.0         53.271   53.271  53.271  83.1776  80.3738  78.5047   69.1589\n",
       " 100.0         53.271   53.271  53.271  53.271   58.8785  61.6822   60.7477"
      ]
     },
     "metadata": {},
     "output_type": "display_data"
    }
   ],
   "source": [
    "# load features into dataframe\n",
    "df_dowker_mt_h0 = DataFrame(ids=Int64[],times=Int64[],labels=[])\n",
    "for i in 1:400\n",
    "    colname = string(\"feature_\",i)\n",
    "    df_dowker_mt_h0[!,colname] = Float64[]\n",
    "end\n",
    "location_mt_h0 = \"persistence_images\\\\dowker\\\\macrophage_tumour_h0\\\\\"\n",
    "files_dowker_mt_h0 = readdir(workdir*\"\\\\\"*location_mt_h0)\n",
    "for f in files_dowker_mt_h0\n",
    "    id,time = parse_file(f)\n",
    "    id = parse(Int64,id)\n",
    "    time = parse(Int64,time)\n",
    "    image = load_object(location_mt_h0*f)\n",
    "    row = Any[]\n",
    "    label = getBinaryLabel(id,time)\n",
    "    append!(row,id)\n",
    "    append!(row,time)\n",
    "    append!(row,label)\n",
    "    for x in image\n",
    "        append!(row,x)\n",
    "    end\n",
    "    push!(df_dowker_mt_h0,row)\n",
    "end\n",
    "\n",
    "# rescale features to [0,1]\n",
    "X = Matrix(df_dowker_mt_h0[:,4:end])\n",
    "\n",
    "dt = fit(UnitRangeTransform, X; dims=1, unit=true)\n",
    "\n",
    "Xn = StatsBase.transform(dt,X)\n",
    "for i in 1:size(X)[1]\n",
    "    df_dowker_mt_h0[i,:][4:end] = Xn[i,:]\n",
    "end\n",
    "\n",
    "# randomly undersample imbalanced data \n",
    "df_dowker_mt_h0 = random_undersample(df_dowker_mt_h0)\n",
    "\n",
    "# randomly sample training, test and validation sets\n",
    "df_dowker_mt_h0=df_dowker_mt_h0[shuffle(1:nrow(df_dowker_mt_h0)),:];   \n",
    "X = Matrix(df_dowker_mt_h0[:,4:end]);    \n",
    "y = df_dowker_mt_h0.labels;\n",
    "Xtrain, Xtest, ytrain, ytest = train_test_split(X,y,test_size=1-train_ratio); # train-test split\n",
    "Xval, Xtest, yval, ytest = train_test_split(Xtest,ytest,test_size= (test_ratio)/(test_ratio+validation_ratio)); # test-validation split\n",
    "\n",
    "# optimise hyperparameters\n",
    "C,G,accs = parameter_optimisation(Xtrain,ytrain,Xval,yval,costs,gammas)\n",
    "\n",
    "# report final accuracy on test set\n",
    "\n",
    "model = svmtrain(Xtrain', ytrain ; gamma=G , cost=C)\n",
    "ypredict, decision_values = svmpredict(model, Xtest');\n",
    "acc = mean(ypredict .== ytest) * 100;\n",
    "println(\"accuracy: \", acc)\n",
    "println(\"Cost: \", C, \" Gamma: \", G)\n",
    "display(accs)\n"
   ]
  },
  {
   "cell_type": "markdown",
   "metadata": {},
   "source": [
    "Dowker H1 macrophage-tumour"
   ]
  },
  {
   "cell_type": "code",
   "execution_count": 24,
   "metadata": {},
   "outputs": [
    {
     "name": "stdout",
     "output_type": "stream",
     "text": [
      "accuracy: 83.17757009345794\n",
      "Cost: 10.0 Gamma: 0.01\n"
     ]
    },
    {
     "data": {
      "text/plain": [
       "8×8 Matrix{Any}:\n",
       "    \"Costs->\"   0.0001   0.001    0.01     0.1      1.0     10.0     100.0\n",
       "   0.0001      48.5981  48.5981  48.5981  48.5981  48.5981  66.3551   71.9626\n",
       "   0.001       48.5981  48.5981  48.5981  48.5981  67.2897  71.9626   73.8318\n",
       "   0.01        48.5981  48.5981  48.5981  73.8318  72.8972  74.7664   73.8318\n",
       "   0.1         48.5981  48.5981  48.5981  71.9626  73.8318  73.8318   73.8318\n",
       "   1.0         48.5981  48.5981  48.5981  71.028   71.028   66.3551   67.2897\n",
       "  10.0         48.5981  48.5981  48.5981  57.9439  64.486   61.6822   59.8131\n",
       " 100.0         48.5981  48.5981  48.5981  55.1402  57.0093  52.3364   50.4673"
      ]
     },
     "metadata": {},
     "output_type": "display_data"
    }
   ],
   "source": [
    "# load features into dataframe\n",
    "df_dowker_mt_h1 = DataFrame(ids=Int64[],times=Int64[],labels=[])\n",
    "for i in 1:400\n",
    "    colname = string(\"feature_\",i)\n",
    "    df_dowker_mt_h1[!,colname] = Float64[]\n",
    "end\n",
    "location_mt_h1 = \"persistence_images\\\\dowker\\\\macrophage_tumour_h1\\\\\"\n",
    "files_dowker_mt_h1 = readdir(workdir*\"\\\\\"*location_mt_h1)\n",
    "for f in files_dowker_mt_h1\n",
    "    id,time = parse_file(f)\n",
    "    id = parse(Int64,id)\n",
    "    time = parse(Int64,time)\n",
    "    image = load_object(location_mt_h1*f)\n",
    "    row = Any[]\n",
    "    label = getBinaryLabel(id,time)\n",
    "    append!(row,id)\n",
    "    append!(row,time)\n",
    "    append!(row,label)\n",
    "    for x in image\n",
    "        append!(row,x)\n",
    "    end\n",
    "    push!(df_dowker_mt_h1,row)\n",
    "end\n",
    "\n",
    "# rescale features to [0,1]\n",
    "X = Matrix(df_dowker_mt_h1[:,4:end])\n",
    "\n",
    "dt = fit(UnitRangeTransform, X; dims=1, unit=true)\n",
    "\n",
    "Xn = StatsBase.transform(dt,X)\n",
    "for i in 1:size(X)[1]\n",
    "    df_dowker_mt_h1[i,:][4:end] = Xn[i,:]\n",
    "end\n",
    "\n",
    "# randomly undersample imbalanced data \n",
    "df_dowker_mt_h1 = random_undersample(df_dowker_mt_h1)\n",
    "\n",
    "# randomly sample training, test and validation sets\n",
    "df_dowker_mt_h1=df_dowker_mt_h1[shuffle(1:nrow(df_dowker_mt_h1)),:];   \n",
    "X = Matrix(df_dowker_mt_h1[:,4:end]);    \n",
    "y = df_dowker_mt_h1.labels;\n",
    "Xtrain, Xtest, ytrain, ytest = train_test_split(X,y,test_size=1-train_ratio); # train-test split\n",
    "Xval, Xtest, yval, ytest = train_test_split(Xtest,ytest,test_size= (test_ratio)/(test_ratio+validation_ratio)); # test-validation split\n",
    "\n",
    "# optimise hyperparameters\n",
    "C,G,accs = parameter_optimisation(Xtrain,ytrain,Xval,yval,costs,gammas)\n",
    "\n",
    "# report final accuracy on test set\n",
    "\n",
    "model = svmtrain(Xtrain', ytrain ; gamma=G , cost=C)\n",
    "ypredict, decision_values = svmpredict(model, Xtest');\n",
    "acc = mean(ypredict .== ytest) * 100;\n",
    "println(\"accuracy: \", acc)\n",
    "println(\"Cost: \", C, \" Gamma: \", G)\n",
    "display(accs)"
   ]
  },
  {
   "cell_type": "markdown",
   "metadata": {},
   "source": [
    "Dowker H0 Tumour-vessel"
   ]
  },
  {
   "cell_type": "code",
   "execution_count": 25,
   "metadata": {},
   "outputs": [
    {
     "name": "stdout",
     "output_type": "stream",
     "text": [
      "accuracy: 79.43925233644859\n",
      "Cost: 100.0 Gamma: 0.01\n"
     ]
    },
    {
     "data": {
      "text/plain": [
       "8×8 Matrix{Any}:\n",
       "    \"Costs->\"   0.0001   0.001    0.01     0.1      1.0     10.0     100.0\n",
       "   0.0001      48.5981  48.5981  48.5981  48.5981  48.5981  48.5981   76.6355\n",
       "   0.001       48.5981  48.5981  48.5981  48.5981  48.5981  76.6355   81.3084\n",
       "   0.01        48.5981  48.5981  48.5981  48.5981  76.6355  80.3738   83.1776\n",
       "   0.1         48.5981  48.5981  48.5981  76.6355  81.3084  81.3084   79.4393\n",
       "   1.0         48.5981  48.5981  48.5981  76.6355  81.3084  79.4393   73.8318\n",
       "  10.0         48.5981  48.5981  48.5981  48.5981  71.028   69.1589   69.1589\n",
       " 100.0         48.5981  48.5981  48.5981  48.5981  49.5327  49.5327   49.5327"
      ]
     },
     "metadata": {},
     "output_type": "display_data"
    }
   ],
   "source": [
    "# load features into dataframe\n",
    "df_dowker_tv_h0 = DataFrame(ids=Int64[],times=Int64[],labels=[])\n",
    "for i in 1:400\n",
    "    colname = string(\"feature_\",i)\n",
    "    df_dowker_tv_h0[!,colname] = Float64[]\n",
    "end\n",
    "location_tv_h0 = \"persistence_images\\\\dowker\\\\tumour_vessel_h0\\\\\"\n",
    "files_dowker_tv_h0 = readdir(workdir*\"\\\\\"*location_tv_h0)\n",
    "for f in files_dowker_tv_h0\n",
    "    id,time = parse_file(f)\n",
    "    id = parse(Int64,id)\n",
    "    time = parse(Int64,time)\n",
    "    image = load_object(location_tv_h0*f)\n",
    "    row = Any[]\n",
    "    label = getBinaryLabel(id,time)\n",
    "    append!(row,id)\n",
    "    append!(row,time)\n",
    "    append!(row,label)\n",
    "    for x in image\n",
    "        append!(row,x)\n",
    "    end\n",
    "    push!(df_dowker_tv_h0,row)\n",
    "end\n",
    "\n",
    "# rescale features to [0,1]\n",
    "X = Matrix(df_dowker_tv_h0[:,4:end])\n",
    "\n",
    "dt = fit(UnitRangeTransform, X; dims=1, unit=true)\n",
    "\n",
    "Xn = StatsBase.transform(dt,X)\n",
    "for i in 1:size(X)[1]\n",
    "    df_dowker_tv_h0[i,:][4:end] = Xn[i,:]\n",
    "end\n",
    "\n",
    "# randomly undersample imbalanced data \n",
    "df_dowker_tv_h0 = random_undersample(df_dowker_tv_h0)\n",
    "\n",
    "# randomly sample training, test and validation sets\n",
    "df_dowker_tv_h0=df_dowker_tv_h0[shuffle(1:nrow(df_dowker_tv_h0)),:];   \n",
    "X = Matrix(df_dowker_tv_h0[:,4:end]);    \n",
    "y = df_dowker_tv_h0.labels;\n",
    "Xtrain, Xtest, ytrain, ytest = train_test_split(X,y,test_size=1-train_ratio); # train-test split\n",
    "Xval, Xtest, yval, ytest = train_test_split(Xtest,ytest,test_size= (test_ratio)/(test_ratio+validation_ratio)); # test-validation split\n",
    "\n",
    "# optimise hyperparameters\n",
    "C,G,accs = parameter_optimisation(Xtrain,ytrain,Xval,yval,costs,gammas)\n",
    "\n",
    "# report final accuracy on test set\n",
    "\n",
    "model = svmtrain(Xtrain', ytrain ; gamma=G , cost=C)\n",
    "ypredict, decision_values = svmpredict(model, Xtest');\n",
    "acc = mean(ypredict .== ytest) * 100;\n",
    "println(\"accuracy: \", acc)\n",
    "println(\"Cost: \", C, \" Gamma: \", G)\n",
    "display(accs)"
   ]
  },
  {
   "cell_type": "markdown",
   "metadata": {},
   "source": [
    "Dowker H1 Tumour-vessel"
   ]
  },
  {
   "cell_type": "code",
   "execution_count": 26,
   "metadata": {},
   "outputs": [
    {
     "name": "stdout",
     "output_type": "stream",
     "text": [
      "accuracy: 55.140186915887845\n",
      "Cost: 100.0 Gamma: 1.0\n"
     ]
    },
    {
     "data": {
      "text/plain": [
       "8×8 Matrix{Any}:\n",
       "    \"Costs->\"   0.0001   0.001    0.01     0.1      1.0     10.0     100.0\n",
       "   0.0001      42.9907  42.9907  42.9907  42.9907  42.9907  42.9907   54.2056\n",
       "   0.001       42.9907  42.9907  42.9907  42.9907  42.9907  54.2056   57.0093\n",
       "   0.01        42.9907  42.9907  42.9907  42.9907  56.0748  54.2056   57.9439\n",
       "   0.1         42.9907  42.9907  42.9907  56.0748  56.0748  57.0093   59.8131\n",
       "   1.0         42.9907  42.9907  42.9907  51.4019  57.9439  62.6168   63.5514\n",
       "  10.0         42.9907  42.9907  42.9907  42.9907  57.0093  53.271    53.271\n",
       " 100.0         42.9907  42.9907  42.9907  42.9907  50.4673  50.4673   50.4673"
      ]
     },
     "metadata": {},
     "output_type": "display_data"
    }
   ],
   "source": [
    "# load features into dataframe\n",
    "df_dowker_tv_h1 = DataFrame(ids=Int64[],times=Int64[],labels=[])\n",
    "for i in 1:400\n",
    "    colname = string(\"feature_\",i)\n",
    "    df_dowker_tv_h1[!,colname] = Float64[]\n",
    "end\n",
    "location_tv_h1 = \"persistence_images\\\\dowker\\\\tumour_vessel_h1\\\\\"\n",
    "files_dowker_tv_h1 = readdir(workdir*\"\\\\\"*location_tv_h1)\n",
    "for f in files_dowker_tv_h1\n",
    "    id,time = parse_file(f)\n",
    "    id = parse(Int64,id)\n",
    "    time = parse(Int64,time)\n",
    "    image = load_object(location_tv_h1*f)\n",
    "    row = Any[]\n",
    "    label = getBinaryLabel(id,time)\n",
    "    append!(row,id)\n",
    "    append!(row,time)\n",
    "    append!(row,label)\n",
    "    for x in image\n",
    "        append!(row,x)\n",
    "    end\n",
    "    push!(df_dowker_tv_h1,row)\n",
    "end\n",
    "\n",
    "# rescale features to [0,1]\n",
    "X = Matrix(df_dowker_tv_h1[:,4:end])\n",
    "\n",
    "dt = fit(UnitRangeTransform, X; dims=1, unit=true)\n",
    "\n",
    "Xn = StatsBase.transform(dt,X)\n",
    "for i in 1:size(X)[1]\n",
    "    df_dowker_tv_h1[i,:][4:end] = Xn[i,:]\n",
    "end\n",
    "\n",
    "# randomly undersample imbalanced data \n",
    "df_dowker_tv_h1 = random_undersample(df_dowker_tv_h1)\n",
    "\n",
    "# randomly sample training, test and validation sets\n",
    "df_dowker_tv_h1=df_dowker_tv_h1[shuffle(1:nrow(df_dowker_tv_h1)),:];   \n",
    "X = Matrix(df_dowker_tv_h1[:,4:end]);    \n",
    "y = df_dowker_tv_h1.labels;\n",
    "Xtrain, Xtest, ytrain, ytest = train_test_split(X,y,test_size=1-train_ratio); # train-test split\n",
    "Xval, Xtest, yval, ytest = train_test_split(Xtest,ytest,test_size= (test_ratio)/(test_ratio+validation_ratio)); # test-validation split\n",
    "\n",
    "# optimise hyperparameters\n",
    "C,G,accs = parameter_optimisation(Xtrain,ytrain,Xval,yval,costs,gammas)\n",
    "\n",
    "# report final accuracy on test set\n",
    "\n",
    "model = svmtrain(Xtrain', ytrain ; gamma=G , cost=C)\n",
    "ypredict, decision_values = svmpredict(model, Xtest');\n",
    "acc = mean(ypredict .== ytest) * 100;\n",
    "println(\"accuracy: \", acc)\n",
    "println(\"Cost: \", C, \" Gamma: \", G)\n",
    "display(accs)"
   ]
  },
  {
   "cell_type": "markdown",
   "metadata": {},
   "source": [
    "Dowker H0 Macrophage-vessel"
   ]
  },
  {
   "cell_type": "code",
   "execution_count": 27,
   "metadata": {},
   "outputs": [
    {
     "name": "stdout",
     "output_type": "stream",
     "text": [
      "accuracy: 71.02803738317756\n",
      "Cost: 1.0 Gamma: 0.1\n"
     ]
    },
    {
     "data": {
      "text/plain": [
       "8×8 Matrix{Any}:\n",
       "    \"Costs->\"   0.0001   0.001    0.01     0.1      1.0     10.0     100.0\n",
       "   0.0001      55.1402  55.1402  55.1402  55.1402  55.1402  55.1402   62.6168\n",
       "   0.001       55.1402  55.1402  55.1402  55.1402  55.1402  63.5514   65.4206\n",
       "   0.01        55.1402  55.1402  55.1402  55.1402  62.6168  66.3551   73.8318\n",
       "   0.1         55.1402  55.1402  55.1402  62.6168  77.5701  76.6355   74.7664\n",
       "   1.0         55.1402  55.1402  55.1402  55.1402  72.8972  74.7664   75.7009\n",
       "  10.0         55.1402  55.1402  55.1402  55.1402  55.1402  50.4673   50.4673\n",
       " 100.0         55.1402  55.1402  55.1402  55.1402  55.1402  55.1402   55.1402"
      ]
     },
     "metadata": {},
     "output_type": "display_data"
    }
   ],
   "source": [
    "# load features into dataframe\n",
    "df_dowker_mv_h0 = DataFrame(ids=Int64[],times=Int64[],labels=[])\n",
    "for i in 1:400\n",
    "    colname = string(\"feature_\",i)\n",
    "    df_dowker_mv_h0[!,colname] = Float64[]\n",
    "end\n",
    "location_mv_h0 = \"persistence_images\\\\dowker\\\\macrophage_vessel_h0\\\\\"\n",
    "files_dowker_mv_h0 = readdir(workdir*\"\\\\\"*location_mv_h0)\n",
    "for f in files_dowker_mv_h0\n",
    "    id,time = parse_file(f)\n",
    "    id = parse(Int64,id)\n",
    "    time = parse(Int64,time)\n",
    "    image = load_object(location_mv_h0*f)\n",
    "    row = Any[]\n",
    "    label = getBinaryLabel(id,time)\n",
    "    append!(row,id)\n",
    "    append!(row,time)\n",
    "    append!(row,label)\n",
    "    for x in image\n",
    "        append!(row,x)\n",
    "    end\n",
    "    push!(df_dowker_mv_h0,row)\n",
    "end\n",
    "\n",
    "# rescale features to [0,1]\n",
    "X = Matrix(df_dowker_mv_h0[:,4:end])\n",
    "\n",
    "dt = fit(UnitRangeTransform, X; dims=1, unit=true)\n",
    "\n",
    "Xn = StatsBase.transform(dt,X)\n",
    "for i in 1:size(X)[1]\n",
    "    df_dowker_mv_h0[i,:][4:end] = Xn[i,:]\n",
    "end\n",
    "\n",
    "# randomly undersample imbalanced data \n",
    "df_dowker_mv_h0 = random_undersample(df_dowker_mv_h0)\n",
    "\n",
    "# randomly sample training, test and validation sets\n",
    "df_dowker_mv_h0=df_dowker_mv_h0[shuffle(1:nrow(df_dowker_mv_h0)),:];   \n",
    "X = Matrix(df_dowker_mv_h0[:,4:end]);    \n",
    "y = df_dowker_mv_h0.labels;\n",
    "Xtrain, Xtest, ytrain, ytest = train_test_split(X,y,test_size=1-train_ratio); # train-test split\n",
    "Xval, Xtest, yval, ytest = train_test_split(Xtest,ytest,test_size= (test_ratio)/(test_ratio+validation_ratio)); # test-validation split\n",
    "\n",
    "# optimise hyperparameters\n",
    "C,G,accs = parameter_optimisation(Xtrain,ytrain,Xval,yval,costs,gammas)\n",
    "\n",
    "# report final accuracy on test set\n",
    "\n",
    "model = svmtrain(Xtrain', ytrain ; gamma=G , cost=C)\n",
    "ypredict, decision_values = svmpredict(model, Xtest');\n",
    "acc = mean(ypredict .== ytest) * 100;\n",
    "println(\"accuracy: \", acc)\n",
    "println(\"Cost: \", C, \" Gamma: \", G)\n",
    "display(accs)"
   ]
  },
  {
   "cell_type": "markdown",
   "metadata": {},
   "source": [
    "Dowker H1 Macrophage-vessel"
   ]
  },
  {
   "cell_type": "code",
   "execution_count": 28,
   "metadata": {},
   "outputs": [
    {
     "name": "stdout",
     "output_type": "stream",
     "text": [
      "accuracy: 58.87850467289719\n",
      "Cost: 100.0 Gamma: 0.0001\n"
     ]
    },
    {
     "data": {
      "text/plain": [
       "8×8 Matrix{Any}:\n",
       "    \"Costs->\"   0.0001   0.001    0.01     0.1      1.0     10.0     100.0\n",
       "   0.0001      55.1402  55.1402  55.1402  55.1402  55.1402  55.1402   65.4206\n",
       "   0.001       55.1402  55.1402  55.1402  55.1402  55.1402  65.4206   62.6168\n",
       "   0.01        55.1402  55.1402  55.1402  55.1402  64.486   63.5514   63.5514\n",
       "   0.1         55.1402  55.1402  55.1402  58.8785  64.486   64.486    56.0748\n",
       "   1.0         55.1402  55.1402  55.1402  61.6822  65.4206  62.6168   56.0748\n",
       "  10.0         55.1402  55.1402  55.1402  58.8785  52.3364  59.8131   53.271\n",
       " 100.0         55.1402  55.1402  55.1402  51.4019  40.1869  38.3178   41.1215"
      ]
     },
     "metadata": {},
     "output_type": "display_data"
    }
   ],
   "source": [
    "# load features into dataframe\n",
    "df_dowker_mv_h1 = DataFrame(ids=Int64[],times=Int64[],labels=[])\n",
    "for i in 1:400\n",
    "    colname = string(\"feature_\",i)\n",
    "    df_dowker_mv_h1[!,colname] = Float64[]\n",
    "end\n",
    "location_mv_h1 = \"persistence_images\\\\dowker\\\\macrophage_vessel_h1\\\\\"\n",
    "files_dowker_mv_h1 = readdir(workdir*\"\\\\\"*location_mv_h1)\n",
    "for f in files_dowker_mv_h1\n",
    "    id,time = parse_file(f)\n",
    "    id = parse(Int64,id)\n",
    "    time = parse(Int64,time)\n",
    "    image = load_object(location_mv_h1*f)\n",
    "    row = Any[]\n",
    "    label = getBinaryLabel(id,time)\n",
    "    append!(row,id)\n",
    "    append!(row,time)\n",
    "    append!(row,label)\n",
    "    for x in image\n",
    "        append!(row,x)\n",
    "    end\n",
    "    push!(df_dowker_mv_h1,row)\n",
    "end\n",
    "\n",
    "# rescale features to [0,1]\n",
    "X = Matrix(df_dowker_mv_h1[:,4:end])\n",
    "\n",
    "dt = fit(UnitRangeTransform, X; dims=1, unit=true)\n",
    "\n",
    "Xn = StatsBase.transform(dt,X)\n",
    "for i in 1:size(X)[1]\n",
    "    df_dowker_mv_h1[i,:][4:end] = Xn[i,:]\n",
    "end\n",
    "\n",
    "# randomly undersample imbalanced data \n",
    "df_dowker_mv_h1 = random_undersample(df_dowker_mv_h1)\n",
    "\n",
    "# randomly sample training, test and validation sets\n",
    "df_dowker_mv_h1=df_dowker_mv_h1[shuffle(1:nrow(df_dowker_mv_h1)),:];   \n",
    "X = Matrix(df_dowker_mv_h1[:,4:end]);    \n",
    "y = df_dowker_mv_h1.labels;\n",
    "Xtrain, Xtest, ytrain, ytest = train_test_split(X,y,test_size=1-train_ratio); # train-test split\n",
    "Xval, Xtest, yval, ytest = train_test_split(Xtest,ytest,test_size= (test_ratio)/(test_ratio+validation_ratio)); # test-validation split\n",
    "\n",
    "# optimise hyperparameters\n",
    "C,G,accs = parameter_optimisation(Xtrain,ytrain,Xval,yval,costs,gammas)\n",
    "\n",
    "# report final accuracy on test set\n",
    "\n",
    "model = svmtrain(Xtrain', ytrain ; gamma=G , cost=C)\n",
    "ypredict, decision_values = svmpredict(model, Xtest');\n",
    "acc = mean(ypredict .== ytest) * 100;\n",
    "println(\"accuracy: \", acc)\n",
    "println(\"Cost: \", C, \" Gamma: \", G)\n",
    "display(accs)"
   ]
  },
  {
   "cell_type": "markdown",
   "metadata": {},
   "source": [
    "Dowker-time Macrophages H0"
   ]
  },
  {
   "cell_type": "code",
   "execution_count": 29,
   "metadata": {},
   "outputs": [
    {
     "name": "stdout",
     "output_type": "stream",
     "text": [
      "accuracy: 77.57009345794393\n",
      "Cost: 100.0 Gamma: 0.1\n"
     ]
    },
    {
     "data": {
      "text/plain": [
       "8×8 Matrix{Any}:\n",
       "    \"Costs->\"   0.0001   0.001   0.01    0.1      1.0     10.0     100.0\n",
       "   0.0001      46.729   46.729  46.729  46.729   46.729   46.729    71.9626\n",
       "   0.001       46.729   46.729  46.729  46.729   46.729   71.9626   74.7664\n",
       "   0.01        46.729   46.729  46.729  46.729   72.8972  78.5047   78.5047\n",
       "   0.1         46.729   46.729  46.729  73.8318  75.7009  78.5047   84.1121\n",
       "   1.0         46.729   46.729  46.729  74.7664  77.5701  83.1776   79.4393\n",
       "  10.0         46.729   46.729  46.729  57.0093  74.7664  74.7664   71.9626\n",
       " 100.0         46.729   46.729  46.729  46.729   54.2056  57.0093   56.0748"
      ]
     },
     "metadata": {},
     "output_type": "display_data"
    }
   ],
   "source": [
    "# load features into dataframe\n",
    "df_dowkertime_m_h0 = DataFrame(ids=Int64[],times=Int64[],labels=[])\n",
    "for i in 1:400\n",
    "    colname = string(\"feature_\",i)\n",
    "    df_dowkertime_m_h0[!,colname] = Float64[]\n",
    "end\n",
    "location_m_time_h0 = \"persistence_images\\\\dowkertime\\\\macrophage_time_h0\\\\\"\n",
    "files_dowker_m_time_h0 = readdir(workdir*\"\\\\\"*location_m_time_h0)\n",
    "for f in files_dowker_m_time_h0\n",
    "    id,time = parse_file(f)\n",
    "    id = parse(Int64,id)\n",
    "    time = parse(Int64,time)\n",
    "    image = load_object(location_m_time_h0*f)\n",
    "    row = Any[]\n",
    "    label = getBinaryLabel(id,time)\n",
    "    append!(row,id)\n",
    "    append!(row,time)\n",
    "    append!(row,label)\n",
    "    for x in image\n",
    "        append!(row,x)\n",
    "    end\n",
    "    push!(df_dowkertime_m_h0,row)\n",
    "end\n",
    "\n",
    "# rescale features to [0,1]\n",
    "X = Matrix(df_dowkertime_m_h0[:,4:end])\n",
    "\n",
    "dt = fit(UnitRangeTransform, X; dims=1, unit=true)\n",
    "\n",
    "Xn = StatsBase.transform(dt,X)\n",
    "for i in 1:size(X)[1]\n",
    "    df_dowkertime_m_h0[i,:][4:end] = Xn[i,:]\n",
    "end\n",
    "\n",
    "# randomly undersample imbalanced data \n",
    "df_dowkertime_m_h0 = random_undersample(df_dowkertime_m_h0)\n",
    "\n",
    "# randomly sample training, test and validation sets\n",
    "df_dowkertime_m_h0=df_dowkertime_m_h0[shuffle(1:nrow(df_dowkertime_m_h0)),:];   \n",
    "X = Matrix(df_dowkertime_m_h0[:,4:end]);    \n",
    "y = df_dowkertime_m_h0.labels;\n",
    "Xtrain, Xtest, ytrain, ytest = train_test_split(X,y,test_size=1-train_ratio); # train-test split\n",
    "Xval, Xtest, yval, ytest = train_test_split(Xtest,ytest,test_size= (test_ratio)/(test_ratio+validation_ratio)); # test-validation split\n",
    "\n",
    "# optimise hyperparameters\n",
    "C,G,accs = parameter_optimisation(Xtrain,ytrain,Xval,yval,costs,gammas)\n",
    "\n",
    "# report final accuracy on test set\n",
    "\n",
    "model = svmtrain(Xtrain', ytrain ; gamma=G , cost=C)\n",
    "ypredict, decision_values = svmpredict(model, Xtest');\n",
    "acc = mean(ypredict .== ytest) * 100;\n",
    "println(\"accuracy: \", acc)\n",
    "println(\"Cost: \", C, \" Gamma: \", G)\n",
    "display(accs)"
   ]
  },
  {
   "cell_type": "markdown",
   "metadata": {},
   "source": [
    "Dowker-time Macrophages H1"
   ]
  },
  {
   "cell_type": "code",
   "execution_count": 30,
   "metadata": {},
   "outputs": [
    {
     "name": "stdout",
     "output_type": "stream",
     "text": [
      "accuracy: 79.43925233644859\n",
      "Cost: 10.0 Gamma: 1.0\n"
     ]
    },
    {
     "data": {
      "text/plain": [
       "8×8 Matrix{Any}:\n",
       "    \"Costs->\"   0.0001   0.001    0.01     0.1      1.0     10.0     100.0\n",
       "   0.0001      54.2056  54.2056  54.2056  54.2056  54.2056  54.2056   54.2056\n",
       "   0.001       54.2056  54.2056  54.2056  54.2056  54.2056  54.2056   55.1402\n",
       "   0.01        54.2056  54.2056  54.2056  54.2056  54.2056  57.0093   56.0748\n",
       "   0.1         54.2056  54.2056  54.2056  54.2056  58.8785  74.7664   72.8972\n",
       "   1.0         54.2056  54.2056  54.2056  56.0748  71.9626  75.7009   74.7664\n",
       "  10.0         54.2056  54.2056  54.2056  69.1589  71.028   70.0935   71.9626\n",
       " 100.0         54.2056  54.2056  54.2056  63.5514  71.028   70.0935   70.0935"
      ]
     },
     "metadata": {},
     "output_type": "display_data"
    }
   ],
   "source": [
    "# load features into dataframe\n",
    "df_dowkertime_m_h1 = DataFrame(ids=Int64[],times=Int64[],labels=[])\n",
    "for i in 1:400\n",
    "    colname = string(\"feature_\",i)\n",
    "    df_dowkertime_m_h1[!,colname] = Float64[]\n",
    "end\n",
    "location_m_time_h1 = \"persistence_images\\\\dowkertime\\\\macrophage_time_h1\\\\\"\n",
    "files_dowker_m_time_h1 = readdir(workdir*\"\\\\\"*location_m_time_h1)\n",
    "for f in files_dowker_m_time_h1\n",
    "    id,time = parse_file(f)\n",
    "    id = parse(Int64,id)\n",
    "    time = parse(Int64,time)\n",
    "    image = load_object(location_m_time_h1*f)\n",
    "    row = Any[]\n",
    "    label = getBinaryLabel(id,time)\n",
    "    append!(row,id)\n",
    "    append!(row,time)\n",
    "    append!(row,label)\n",
    "    for x in image\n",
    "        append!(row,x)\n",
    "    end\n",
    "    push!(df_dowkertime_m_h1,row)\n",
    "end\n",
    "\n",
    "# rescale features to [0,1]\n",
    "X = Matrix(df_dowkertime_m_h1[:,4:end])\n",
    "\n",
    "dt = fit(UnitRangeTransform, X; dims=1, unit=true)\n",
    "\n",
    "Xn = StatsBase.transform(dt,X)\n",
    "for i in 1:size(X)[1]\n",
    "    df_dowkertime_m_h1[i,:][4:end] = Xn[i,:]\n",
    "end\n",
    "\n",
    "# randomly undersample imbalanced data \n",
    "df_dowkertime_m_h1 = random_undersample(df_dowkertime_m_h1)\n",
    "\n",
    "# randomly sample training, test and validation sets\n",
    "df_dowkertime_m_h1=df_dowkertime_m_h1[shuffle(1:nrow(df_dowkertime_m_h1)),:];   \n",
    "X = Matrix(df_dowkertime_m_h1[:,4:end]);    \n",
    "y = df_dowkertime_m_h1.labels;\n",
    "Xtrain, Xtest, ytrain, ytest = train_test_split(X,y,test_size=1-train_ratio); # train-test split\n",
    "Xval, Xtest, yval, ytest = train_test_split(Xtest,ytest,test_size= (test_ratio)/(test_ratio+validation_ratio)); # test-validation split\n",
    "\n",
    "# optimise hyperparameters\n",
    "C,G,accs = parameter_optimisation(Xtrain,ytrain,Xval,yval,costs,gammas)\n",
    "\n",
    "# report final accuracy on test set\n",
    "\n",
    "model = svmtrain(Xtrain', ytrain ; gamma=G , cost=C)\n",
    "ypredict, decision_values = svmpredict(model, Xtest');\n",
    "acc = mean(ypredict .== ytest) * 100;\n",
    "println(\"accuracy: \", acc)\n",
    "println(\"Cost: \", C, \" Gamma: \", G)\n",
    "display(accs)"
   ]
  },
  {
   "cell_type": "markdown",
   "metadata": {},
   "source": [
    "Dowker-time Tumour H0"
   ]
  },
  {
   "cell_type": "code",
   "execution_count": 31,
   "metadata": {},
   "outputs": [
    {
     "name": "stdout",
     "output_type": "stream",
     "text": [
      "accuracy: 77.57009345794393\n",
      "Cost: 100.0 Gamma: 1.0\n"
     ]
    },
    {
     "data": {
      "text/plain": [
       "8×8 Matrix{Any}:\n",
       "    \"Costs->\"   0.0001   0.001   0.01    0.1      1.0     10.0     100.0\n",
       "   0.0001      46.729   46.729  46.729  46.729   46.729   46.729    57.9439\n",
       "   0.001       46.729   46.729  46.729  46.729   46.729   57.9439   58.8785\n",
       "   0.01        46.729   46.729  46.729  46.729   57.9439  58.8785   67.2897\n",
       "   0.1         46.729   46.729  46.729  57.9439  57.9439  69.1589   75.7009\n",
       "   1.0         46.729   46.729  46.729  68.2243  70.0935  75.7009   77.5701\n",
       "  10.0         46.729   46.729  46.729  63.5514  71.028   77.5701   74.7664\n",
       " 100.0         46.729   46.729  46.729  66.3551  73.8318  73.8318   73.8318"
      ]
     },
     "metadata": {},
     "output_type": "display_data"
    }
   ],
   "source": [
    "# load features into dataframe\n",
    "df_dowkertime_t_h0 = DataFrame(ids=Int64[],times=Int64[],labels=[])\n",
    "for i in 1:400\n",
    "    colname = string(\"feature_\",i)\n",
    "    df_dowkertime_t_h0[!,colname] = Float64[]\n",
    "end\n",
    "location_t_time_h0 = \"persistence_images\\\\dowkertime\\\\tumour_time_h0\\\\\"\n",
    "files_dowker_t_time_h0 = readdir(workdir*\"\\\\\"*location_t_time_h0)\n",
    "for f in files_dowker_t_time_h0\n",
    "    id,time = parse_file(f)\n",
    "    id = parse(Int64,id)\n",
    "    time = parse(Int64,time)\n",
    "    image = load_object(location_t_time_h0*f)\n",
    "    row = Any[]\n",
    "    label = getBinaryLabel(id,time)\n",
    "    append!(row,id)\n",
    "    append!(row,time)\n",
    "    append!(row,label)\n",
    "    for x in image\n",
    "        append!(row,x)\n",
    "    end\n",
    "    push!(df_dowkertime_t_h0,row)\n",
    "end\n",
    "\n",
    "# rescale features to [0,1]\n",
    "X = Matrix(df_dowkertime_t_h0[:,4:end])\n",
    "\n",
    "dt = fit(UnitRangeTransform, X; dims=1, unit=true)\n",
    "\n",
    "Xn = StatsBase.transform(dt,X)\n",
    "for i in 1:size(X)[1]\n",
    "    df_dowkertime_t_h0[i,:][4:end] = Xn[i,:]\n",
    "end\n",
    "\n",
    "# randomly undersample imbalanced data \n",
    "df_dowkertime_t_h0 = random_undersample(df_dowkertime_t_h0)\n",
    "\n",
    "# randomly sample training, test and validation sets\n",
    "df_dowkertime_t_h0=df_dowkertime_t_h0[shuffle(1:nrow(df_dowkertime_t_h0)),:];   \n",
    "X = Matrix(df_dowkertime_t_h0[:,4:end]);    \n",
    "y = df_dowkertime_t_h0.labels;\n",
    "Xtrain, Xtest, ytrain, ytest = train_test_split(X,y,test_size=1-train_ratio); # train-test split\n",
    "Xval, Xtest, yval, ytest = train_test_split(Xtest,ytest,test_size= (test_ratio)/(test_ratio+validation_ratio)); # test-validation split\n",
    "\n",
    "# optimise hyperparameters\n",
    "C,G,accs = parameter_optimisation(Xtrain,ytrain,Xval,yval,costs,gammas)\n",
    "\n",
    "# report final accuracy on test set\n",
    "\n",
    "model = svmtrain(Xtrain', ytrain ; gamma=G , cost=C)\n",
    "ypredict, decision_values = svmpredict(model, Xtest');\n",
    "acc = mean(ypredict .== ytest) * 100;\n",
    "println(\"accuracy: \", acc)\n",
    "println(\"Cost: \", C, \" Gamma: \", G)\n",
    "display(accs)"
   ]
  },
  {
   "cell_type": "markdown",
   "metadata": {},
   "source": [
    "Dowker-time Tumour H1"
   ]
  },
  {
   "cell_type": "code",
   "execution_count": 32,
   "metadata": {},
   "outputs": [
    {
     "name": "stdout",
     "output_type": "stream",
     "text": [
      "accuracy: 82.2429906542056\n",
      "Cost: 10.0 Gamma: 1.0\n"
     ]
    },
    {
     "data": {
      "text/plain": [
       "8×8 Matrix{Any}:\n",
       "    \"Costs->\"   0.0001   0.001    0.01     0.1      1.0     10.0     100.0\n",
       "   0.0001      41.1215  41.1215  41.1215  41.1215  41.1215  41.1215   73.8318\n",
       "   0.001       41.1215  41.1215  41.1215  41.1215  41.1215  73.8318   79.4393\n",
       "   0.01        41.1215  41.1215  41.1215  41.1215  72.8972  81.3084   82.243\n",
       "   0.1         41.1215  41.1215  41.1215  70.0935  80.3738  82.243    83.1776\n",
       "   1.0         41.1215  41.1215  41.1215  78.5047  81.3084  84.1121   76.6355\n",
       "  10.0         41.1215  41.1215  41.1215  71.9626  77.5701  78.5047   71.028\n",
       " 100.0         41.1215  41.1215  41.1215  41.1215  68.2243  68.2243   68.2243"
      ]
     },
     "metadata": {},
     "output_type": "display_data"
    }
   ],
   "source": [
    "# load features into dataframe\n",
    "df_dowkertime_t_h1 = DataFrame(ids=Int64[],times=Int64[],labels=[])\n",
    "for i in 1:400\n",
    "    colname = string(\"feature_\",i)\n",
    "    df_dowkertime_t_h1[!,colname] = Float64[]\n",
    "end\n",
    "location_t_time_h1 = \"persistence_images\\\\dowkertime\\\\tumour_time_h1\\\\\"\n",
    "files_dowker_t_time_h1 = readdir(workdir*\"\\\\\"*location_t_time_h1)\n",
    "for f in files_dowker_t_time_h1\n",
    "    id,time = parse_file(f)\n",
    "    id = parse(Int64,id)\n",
    "    time = parse(Int64,time)\n",
    "    image = load_object(location_t_time_h1*f)\n",
    "    row = Any[]\n",
    "    label = getBinaryLabel(id,time)\n",
    "    append!(row,id)\n",
    "    append!(row,time)\n",
    "    append!(row,label)\n",
    "    for x in image\n",
    "        append!(row,x)\n",
    "    end\n",
    "    push!(df_dowkertime_t_h1,row)\n",
    "end\n",
    "\n",
    "# rescale features to [0,1]\n",
    "X = Matrix(df_dowkertime_t_h1[:,4:end])\n",
    "\n",
    "dt = fit(UnitRangeTransform, X; dims=1, unit=true)\n",
    "\n",
    "Xn = StatsBase.transform(dt,X)\n",
    "for i in 1:size(X)[1]\n",
    "    df_dowkertime_t_h1[i,:][4:end] = Xn[i,:]\n",
    "end\n",
    "\n",
    "# randomly undersample imbalanced data \n",
    "df_dowkertime_t_h1 = random_undersample(df_dowkertime_t_h1)\n",
    "\n",
    "# randomly sample training, test and validation sets\n",
    "df_dowkertime_t_h1=df_dowkertime_t_h1[shuffle(1:nrow(df_dowkertime_t_h1)),:];   \n",
    "X = Matrix(df_dowkertime_t_h1[:,4:end]);    \n",
    "y = df_dowkertime_t_h1.labels;\n",
    "Xtrain, Xtest, ytrain, ytest = train_test_split(X,y,test_size=1-train_ratio); # train-test split\n",
    "Xval, Xtest, yval, ytest = train_test_split(Xtest,ytest,test_size= (test_ratio)/(test_ratio+validation_ratio)); # test-validation split\n",
    "\n",
    "# optimise hyperparameters\n",
    "C,G,accs = parameter_optimisation(Xtrain,ytrain,Xval,yval,costs,gammas)\n",
    "\n",
    "# report final accuracy on test set\n",
    "\n",
    "model = svmtrain(Xtrain', ytrain ; gamma=G , cost=C)\n",
    "ypredict, decision_values = svmpredict(model, Xtest');\n",
    "acc = mean(ypredict .== ytest) * 100;\n",
    "println(\"accuracy: \", acc)\n",
    "println(\"Cost: \", C, \" Gamma: \", G)\n",
    "display(accs)"
   ]
  }
 ],
 "metadata": {
  "kernelspec": {
   "display_name": "Julia 1.7.2",
   "language": "julia",
   "name": "julia-1.7"
  },
  "language_info": {
   "file_extension": ".jl",
   "mimetype": "application/julia",
   "name": "julia",
   "version": "1.7.2"
  },
  "orig_nbformat": 4,
  "vscode": {
   "interpreter": {
    "hash": "09c6cbd744a3e802c1b5f435d264ee7d2f5cdf10497892df26b386a33f32af57"
   }
  }
 },
 "nbformat": 4,
 "nbformat_minor": 2
}
