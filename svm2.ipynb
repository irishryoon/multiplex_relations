{
 "cells": [
  {
   "cell_type": "code",
   "execution_count": 40,
   "metadata": {},
   "outputs": [
    {
     "name": "stderr",
     "output_type": "stream",
     "text": [
      "WARNING: replacing module ext.\n",
      "┌ Warning: Module model_selection has been ported to Julia - try `import ScikitLearn: CrossValidation` instead\n",
      "└ @ ScikitLearn.Skcore C:\\Users\\jaydh\\.julia\\packages\\ScikitLearn\\ssekP\\src\\Skcore.jl:179\n",
      "WARNING: redefinition of constant train_test_split. This may fail, cause incorrect answers, or produce other errors.\n"
     ]
    },
    {
     "data": {
      "text/plain": [
       "0.2"
      ]
     },
     "execution_count": 40,
     "metadata": {},
     "output_type": "execute_result"
    }
   ],
   "source": [
    "include(\"compute_ph2.jl\")\n",
    "using LIBSVM\n",
    "using RDatasets\n",
    "using Printf\n",
    "using Statistics\n",
    "using Random\n",
    "using .ext\n",
    "using Plots\n",
    "using GLM\n",
    "using StatsBase\n",
    "using ScikitLearn\n",
    "using JLD2\n",
    "@sk_import model_selection: train_test_split\n",
    "workdir = pwd()\n",
    "\n",
    "train_ratio = 0.6\n",
    "validation_ratio = 0.2\n",
    "test_ratio = 0.2"
   ]
  },
  {
   "cell_type": "code",
   "execution_count": 41,
   "metadata": {},
   "outputs": [
    {
     "data": {
      "text/plain": [
       "parameter_optimisation (generic function with 2 methods)"
      ]
     },
     "execution_count": 41,
     "metadata": {},
     "output_type": "execute_result"
    }
   ],
   "source": [
    "function random_undersample(df)\n",
    "    class_0 = countmap(df.labels)[0];\n",
    "    class_1 = countmap(df.labels)[1];\n",
    "\n",
    "    Random.seed!(1);\n",
    "    df=df[shuffle(1:nrow(df)),:];   \n",
    "\n",
    "    if class_0 > class_1 \n",
    "        # randomly undersample class 0\n",
    "\n",
    "        prob_to_delete = (class_0-class_1)/(class_0);\n",
    "        rows_to_delete = [];\n",
    "        for row in 1:length(df.labels)\n",
    "            if df[row,:labels] == 0\n",
    "                if rand() < prob_to_delete\n",
    "                    append!(rows_to_delete,row);\n",
    "                end\n",
    "            end\n",
    "        end\n",
    "        delete!(df,rows_to_delete);\n",
    "    elseif class_1 > class_0 \n",
    "        # randomly undersample class 1\n",
    "\n",
    "        prob_to_delete = (class_1-class_0)/(class_1);\n",
    "        rows_to_delete = [];\n",
    "        for row in 1:length(df.labels)\n",
    "            if df[row,:labels] == 1\n",
    "                if rand() < prob_to_delete\n",
    "                    append!(rows_to_delete,row);\n",
    "                end\n",
    "            end\n",
    "        end\n",
    "        delete!(df,rows_to_delete);\n",
    "    end\n",
    "    return df\n",
    "end\n",
    "\n",
    "function parameter_optimisation(Xtrain,ytrain,Xval,yval, costs, gammas)\n",
    "    Cs = [] \n",
    "    Gs = []\n",
    "    maxi = 0\n",
    "    for i=1:1:7\n",
    "        G = gammas[i]\n",
    "        for j=1:1:7\n",
    "            C = costs[j]\n",
    "            model = svmtrain(Xtrain', ytrain ; gamma=G , cost=C)\n",
    "            ypredict, decision_values = svmpredict(model, Xval');\n",
    "            acc = mean(ypredict .== yval) * 100;\n",
    "            if acc > maxi \n",
    "                #println(\"current max: \",acc )\n",
    "                maxi = acc\n",
    "                append!(Cs,C)\n",
    "                append!(Gs,G)\n",
    "            end\n",
    "        end\n",
    "    end\n",
    "    return (Cs[end],Gs[end])\n",
    "end"
   ]
  },
  {
   "cell_type": "code",
   "execution_count": 28,
   "metadata": {},
   "outputs": [],
   "source": [
    "# hyperparameter ranges\n",
    "gammas = [0.0001, 0.001, 0.01, 0.1, 1.0, 10.0, 100.0];\n",
    "costs = gammas;"
   ]
  },
  {
   "cell_type": "markdown",
   "metadata": {},
   "source": [
    "VR H0 Tumour Cells"
   ]
  },
  {
   "cell_type": "code",
   "execution_count": 81,
   "metadata": {},
   "outputs": [
    {
     "name": "stdout",
     "output_type": "stream",
     "text": [
      "accuracy: 79.43925233644859\n",
      "Cost: 100.0 Gamma: 100.0\n"
     ]
    }
   ],
   "source": [
    "# load features into dataframe\n",
    "df_vr_tumour_h0 = DataFrame(ids=Int64[],times=Int64[],labels=[])\n",
    "for i in 1:20\n",
    "    colname = string(\"feature_\",i)\n",
    "    df_vr_tumour_h0[!,colname] = Float64[]\n",
    "end\n",
    "location_tumour_h0 = \"persistence_images\\\\vr\\\\tumour_h0\\\\\"\n",
    "files_vr_tumour_h0 = readdir(workdir*\"\\\\\"*location_tumour_h0)\n",
    "for f in files_vr_tumour_h0\n",
    "    id,time = parse_file(f)\n",
    "    id = parse(Int64,id)\n",
    "    time = parse(Int64,time)\n",
    "    image = load_object(location_tumour_h0*f)\n",
    "    row = Any[]\n",
    "    label = getBinaryLabel(id,time)\n",
    "    append!(row,id)\n",
    "    append!(row,time)\n",
    "    append!(row,label)\n",
    "    for x in image\n",
    "        append!(row,x)\n",
    "    end\n",
    "    push!(df_vr_tumour_h0,row)\n",
    "end\n",
    "\n",
    "# rescale features to [0,1]\n",
    "X = Matrix(df_vr_tumour_h0[:,4:end])\n",
    "\n",
    "dt = fit(UnitRangeTransform, X; dims=1, unit=true)\n",
    "\n",
    "Xn = StatsBase.transform(dt,X)\n",
    "for i in 1:size(X)[1]\n",
    "    df_vr_tumour_h0[i,:][4:end] = Xn[i,:]\n",
    "end\n",
    "\n",
    "# randomly undersample imbalanced data \n",
    "df_vr_tumour_h0 = random_undersample(df_vr_tumour_h0)\n",
    "\n",
    "# randomly sample training, test and validation sets\n",
    "df_vr_tumour_h0=df_vr_tumour_h0[shuffle(1:nrow(df_vr_tumour_h0)),:];   \n",
    "X = Matrix(df_vr_tumour_h0[:,4:end]);    \n",
    "y = df_vr_tumour_h0.labels;\n",
    "Xtrain, Xtest, ytrain, ytest = train_test_split(X,y,test_size=1-train_ratio); # train-test split\n",
    "Xval, Xtest, yval, ytest = train_test_split(Xtest,ytest,test_size= (test_ratio)/(test_ratio+validation_ratio)); # test-validation split\n",
    "\n",
    "# optimise hyperparameters\n",
    "C,G = parameter_optimisation(Xtrain,ytrain,Xval,yval)\n",
    "\n",
    "# report final accuracy on test set\n",
    "\n",
    "model = svmtrain(Xtrain', ytrain ; gamma=G , cost=C)\n",
    "ypredict, decision_values = svmpredict(model, Xtest');\n",
    "acc = mean(ypredict .== ytest) * 100;\n",
    "println(\"accuracy: \", acc)\n",
    "println(\"Cost: \", C, \" Gamma: \", G)\n"
   ]
  },
  {
   "cell_type": "markdown",
   "metadata": {},
   "source": [
    "VR H1 Tumour cells"
   ]
  },
  {
   "cell_type": "code",
   "execution_count": 82,
   "metadata": {},
   "outputs": [
    {
     "name": "stdout",
     "output_type": "stream",
     "text": [
      "accuracy: 84.11214953271028\n",
      "Cost: 10.0 Gamma: 1.0\n"
     ]
    }
   ],
   "source": [
    "# load features into dataframe\n",
    "df_vr_tumour_h1 = DataFrame(ids=Int64[],times=Int64[],labels=[])\n",
    "for i in 1:400\n",
    "    colname = string(\"feature_\",i)\n",
    "    df_vr_tumour_h1[!,colname] = Float64[]\n",
    "end\n",
    "location_tumour_h1 = \"persistence_images\\\\vr\\\\tumour_h1\\\\\"\n",
    "files_vr_tumour_h1 = readdir(workdir*\"\\\\\"*location_tumour_h1)\n",
    "for f in files_vr_tumour_h1\n",
    "    id,time = parse_file(f)\n",
    "    id = parse(Int64,id)\n",
    "    time = parse(Int64,time)\n",
    "    image = load_object(location_tumour_h1*f)\n",
    "    row = Any[]\n",
    "    label = getBinaryLabel(id,time)\n",
    "    append!(row,id)\n",
    "    append!(row,time)\n",
    "    append!(row,label)\n",
    "    for x in image\n",
    "        append!(row,x)\n",
    "    end\n",
    "    push!(df_vr_tumour_h1,row)\n",
    "end\n",
    "\n",
    "# rescale features to [0,1]\n",
    "X = Matrix(df_vr_tumour_h1[:,4:end])\n",
    "\n",
    "dt = fit(UnitRangeTransform, X; dims=1, unit=true)\n",
    "\n",
    "Xn = StatsBase.transform(dt,X)\n",
    "for i in 1:size(X)[1]\n",
    "    df_vr_tumour_h1[i,:][4:end] = Xn[i,:]\n",
    "end\n",
    "\n",
    "# randomly undersample imbalanced data \n",
    "df_vr_tumour_h1 = random_undersample(df_vr_tumour_h1)\n",
    "\n",
    "# randomly sample training, test and validation sets\n",
    "df_vr_tumour_h1=df_vr_tumour_h1[shuffle(1:nrow(df_vr_tumour_h1)),:];   \n",
    "X = Matrix(df_vr_tumour_h1[:,4:end]);    \n",
    "y = df_vr_tumour_h1.labels;\n",
    "Xtrain, Xtest, ytrain, ytest = train_test_split(X,y,test_size=1-train_ratio); # train-test split\n",
    "Xval, Xtest, yval, ytest = train_test_split(Xtest,ytest,test_size= (test_ratio)/(test_ratio+validation_ratio)); # test-validation split\n",
    "\n",
    "# optimise hyperparameters\n",
    "C,G = parameter_optimisation(Xtrain,ytrain,Xval,yval)\n",
    "\n",
    "# report final accuracy on test set\n",
    "\n",
    "model = svmtrain(Xtrain', ytrain ; gamma=G , cost=C)\n",
    "ypredict, decision_values = svmpredict(model, Xtest');\n",
    "acc = mean(ypredict .== ytest) * 100;\n",
    "println(\"accuracy: \", acc)\n",
    "println(\"Cost: \", C, \" Gamma: \", G)\n"
   ]
  }
 ],
 "metadata": {
  "kernelspec": {
   "display_name": "Julia 1.7.2",
   "language": "julia",
   "name": "julia-1.7"
  },
  "language_info": {
   "file_extension": ".jl",
   "mimetype": "application/julia",
   "name": "julia",
   "version": "1.7.2"
  },
  "orig_nbformat": 4,
  "vscode": {
   "interpreter": {
    "hash": "09c6cbd744a3e802c1b5f435d264ee7d2f5cdf10497892df26b386a33f32af57"
   }
  }
 },
 "nbformat": 4,
 "nbformat_minor": 2
}
