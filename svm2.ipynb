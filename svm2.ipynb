{
 "cells": [
  {
   "cell_type": "code",
   "execution_count": 98,
   "metadata": {},
   "outputs": [
    {
     "name": "stderr",
     "output_type": "stream",
     "text": [
      "WARNING: replacing module ext.\n",
      "┌ Warning: Module model_selection has been ported to Julia - try `import ScikitLearn: CrossValidation` instead\n",
      "└ @ ScikitLearn.Skcore C:\\Users\\jaydh\\.julia\\packages\\ScikitLearn\\ssekP\\src\\Skcore.jl:179\n",
      "WARNING: redefinition of constant train_test_split. This may fail, cause incorrect answers, or produce other errors.\n",
      "WARNING: redefinition of constant SVC. This may fail, cause incorrect answers, or produce other errors.\n"
     ]
    },
    {
     "data": {
      "text/plain": [
       "0.2"
      ]
     },
     "execution_count": 98,
     "metadata": {},
     "output_type": "execute_result"
    }
   ],
   "source": [
    "include(\"compute_ph2.jl\")\n",
    "using LIBSVM\n",
    "using RDatasets\n",
    "using Printf\n",
    "using Statistics\n",
    "using Random\n",
    "using .ext\n",
    "using Plots\n",
    "using GLM\n",
    "using StatsBase\n",
    "using ScikitLearn\n",
    "using ScikitLearn.GridSearch: RandomizedSearchCV\n",
    "using JLD2\n",
    "using PyCall\n",
    "stats = pyimport(\"scipy.stats\")\n",
    "@sk_import model_selection: train_test_split\n",
    "@sk_import svm: SVC\n",
    "workdir = pwd()\n",
    "\n",
    "train_ratio = 0.6\n",
    "validation_ratio = 0.2\n",
    "test_ratio = 0.2"
   ]
  },
  {
   "cell_type": "code",
   "execution_count": 104,
   "metadata": {},
   "outputs": [
    {
     "data": {
      "text/plain": [
       "random_oversample (generic function with 1 method)"
      ]
     },
     "execution_count": 104,
     "metadata": {},
     "output_type": "execute_result"
    }
   ],
   "source": [
    "function random_oversample(df)\n",
    "    class_0 = countmap(df.labels)[0];\n",
    "    class_1 = countmap(df.labels)[1];\n",
    "    Random.seed!(1);\n",
    "    df=df[shuffle(1:nrow(df)),:]; \n",
    "    # EMPTY COPY OF df\n",
    "    duplicated_rows = copy(df)\n",
    "    delete!(duplicated_rows,1:length(df.labels))\n",
    "    if class_0 > class_1\n",
    "        # class_0 larger -> duplicate class_1\n",
    "        # need to add class_0-class_1 duplicates -> duplicate a given class 1 row with probability class_0-class_1/class_1\n",
    "        prob_to_add = (class_0-class_1)/(class_1);\n",
    "        for row in eachrow(df)\n",
    "            if row.labels == 1\n",
    "                if rand() < prob_to_add\n",
    "                    append!(duplicated_rows,DataFrame(row))\n",
    "                end\n",
    "            end\n",
    "        end\n",
    "        append!(df,duplicated_rows)\n",
    "    elseif class_1 > class_0 \n",
    "        prob_to_add = (class_1-class_0)/(class_0);\n",
    "        for row in eachrow(df)\n",
    "            if row.labels == 0\n",
    "                if rand() < prob_to_add\n",
    "                    append!(duplicated_rows,DataFrame(row))\n",
    "                end\n",
    "            end\n",
    "        end\n",
    "        append!(df,duplicated_rows)\n",
    "    end\n",
    "    return df\n",
    "end"
   ]
  },
  {
   "cell_type": "code",
   "execution_count": 105,
   "metadata": {},
   "outputs": [
    {
     "data": {
      "text/plain": [
       "train_svm (generic function with 1 method)"
      ]
     },
     "execution_count": 105,
     "metadata": {},
     "output_type": "execute_result"
    }
   ],
   "source": [
    "function random_undersample(df)\n",
    "    class_0 = countmap(df.labels)[0];\n",
    "    class_1 = countmap(df.labels)[1];\n",
    "\n",
    "    Random.seed!(1);\n",
    "    df=df[shuffle(1:nrow(df)),:];   \n",
    "\n",
    "    if class_0 > class_1 \n",
    "        # randomly undersample class 0\n",
    "\n",
    "        prob_to_delete = (class_0-class_1)/(class_0);\n",
    "        rows_to_delete = [];\n",
    "        for row in 1:length(df.labels)\n",
    "            if df[row,:labels] == 0\n",
    "                if rand() < prob_to_delete\n",
    "                    append!(rows_to_delete,row);\n",
    "                end\n",
    "            end\n",
    "        end\n",
    "        delete!(df,rows_to_delete);\n",
    "    elseif class_1 > class_0 \n",
    "        # randomly undersample class 1\n",
    "\n",
    "        prob_to_delete = (class_1-class_0)/(class_1);\n",
    "        rows_to_delete = [];\n",
    "        for row in 1:length(df.labels)\n",
    "            if df[row,:labels] == 1\n",
    "                if rand() < prob_to_delete\n",
    "                    append!(rows_to_delete,row);\n",
    "                end\n",
    "            end\n",
    "        end\n",
    "        delete!(df,rows_to_delete);\n",
    "    end\n",
    "    return df\n",
    "end\n",
    "\n",
    "function parameter_optimisation(Xtrain,ytrain,Xval,yval, costs, gammas)\n",
    "    Cs = [] \n",
    "    Gs = []\n",
    "    accs = zeros(7,7)\n",
    "    maxi = 0\n",
    "    for i=1:1:7\n",
    "        G = gammas[i]\n",
    "        for j=1:1:7\n",
    "            C = costs[j]\n",
    "            model = svmtrain(Xtrain', ytrain ; gamma=G , cost=C)\n",
    "            ypredict, decision_values = svmpredict(model, Xval');\n",
    "            acc = mean(ypredict .== yval) * 100;\n",
    "            accs[i,j] = acc\n",
    "            if acc > maxi \n",
    "                #println(\"current max: \",acc )\n",
    "                maxi = acc\n",
    "                append!(Cs,C)\n",
    "                append!(Gs,G)\n",
    "            end\n",
    "        end\n",
    "    end\n",
    "\n",
    "    c = [0.0001 0.001 0.01 0.1 1.0 10.0 100.0]\n",
    "    g = [\"Costs->\";0.0001;0.001;0.01;0.1;1.0;10.0;100.0]\n",
    "    accs2=vcat(c,accs)\n",
    "    accs3=hcat(g,accs2)\n",
    "    return (Cs[end],Gs[end],accs3)\n",
    "end\n",
    "function train_svm(Xtrain,ytrain,Xtest,ytest)\n",
    "    sampler(a, b) = stats.loguniform(a, b) # samples from range (a,b) according to log uniform distribution \n",
    "\n",
    "    # specify parameters and distributions to sample from\n",
    "    param_dist = Dict(\"C\" => sampler(1e-6, 1000.0),\n",
    "                    \"gamma\" => sampler(1e-6, 1000.0))\n",
    "\n",
    "    # define classifier\n",
    "    clf = SVC()\n",
    "\n",
    "    # Do random parameter search\n",
    "    n_iter_search = 100\n",
    "    random_search = RandomizedSearchCV(clf, \n",
    "                                        param_dist,\n",
    "                                    n_iter=n_iter_search, \n",
    "                                        random_state=MersenneTwister(42),\n",
    "                                        refit=true)\n",
    "\n",
    "    #start = time()\n",
    "    ScikitLearn.fit!(random_search, Xtrain, ytrain)\n",
    "    #@printf(\"RandomizedSearchCV took %.2f seconds for %d candidates, parameter settings.\\n\", (time() - start), n_iter_search)\n",
    "    #display(random_search.grid_scores_)\n",
    "    best = random_search.best_params_\n",
    "    C = get(best, :C, \"Error\")\n",
    "    G = get(best, :gamma, \"Error\")\n",
    "    return [ScikitLearn.score(random_search, Xtest, ytest),C,G]\n",
    "end"
   ]
  },
  {
   "cell_type": "markdown",
   "metadata": {},
   "source": [
    "VR H0 Tumour Cells"
   ]
  },
  {
   "cell_type": "code",
   "execution_count": 106,
   "metadata": {},
   "outputs": [
    {
     "name": "stdout",
     "output_type": "stream",
     "text": [
      "Accuracy: 85.86065573770492\n",
      "Cost: 355.74116142592516\n",
      "Gamma: 236.59964959443886\n"
     ]
    }
   ],
   "source": [
    "# load features into dataframe\n",
    "df_vr_tumour_h0 = DataFrame(ids=Int64[],times=Int64[],labels=[])\n",
    "for i in 1:20\n",
    "    colname = string(\"feature_\",i)\n",
    "    df_vr_tumour_h0[!,colname] = Float64[]\n",
    "end\n",
    "location_tumour_h0 = \"persistence_images\\\\vr\\\\tumour_h0\\\\\"\n",
    "files_vr_tumour_h0 = readdir(workdir*\"\\\\\"*location_tumour_h0)\n",
    "for f in files_vr_tumour_h0\n",
    "    id,time = parse_file(f)\n",
    "    id = parse(Int64,id)\n",
    "    time = parse(Int64,time)\n",
    "    image = load_object(location_tumour_h0*f)\n",
    "    row = Any[]\n",
    "    label = getBinaryLabel(id,time)\n",
    "    append!(row,id)\n",
    "    append!(row,time)\n",
    "    append!(row,label)\n",
    "    for x in image\n",
    "        append!(row,x)\n",
    "    end\n",
    "    push!(df_vr_tumour_h0,row)\n",
    "end\n",
    "\n",
    "# rescale features to [0,1]\n",
    "X = Matrix(df_vr_tumour_h0[:,4:end])\n",
    "\n",
    "dt = fit(UnitRangeTransform, X; dims=1, unit=true)\n",
    "\n",
    "Xn = StatsBase.transform(dt,X)\n",
    "for i in 1:size(X)[1]\n",
    "    df_vr_tumour_h0[i,:][4:end] = Xn[i,:]\n",
    "end\n",
    "\n",
    "# randomly undersample imbalanced data \n",
    "df_vr_tumour_h0 = random_oversample(df_vr_tumour_h0)\n",
    "df_vr_tumour_h0 = random_oversample(df_vr_tumour_h0)\n",
    "\n",
    "# randomly sample training, test and validation sets\n",
    "df_vr_tumour_h0=df_vr_tumour_h0[shuffle(1:nrow(df_vr_tumour_h0)),:];   \n",
    "X = Matrix(df_vr_tumour_h0[:,4:end]);    \n",
    "y = df_vr_tumour_h0.labels;\n",
    "Xtrain, Xtest, ytrain, ytest = train_test_split(X,y,test_size=0.3); # train-test split\n",
    "accuracy,C,G = train_svm(Xtrain,ytrain,Xtest,ytest)\n",
    "println(\"Accuracy: \", accuracy*100)\n",
    "println(\"Cost: \", C)\n",
    "println(\"Gamma: \", G)"
   ]
  },
  {
   "cell_type": "markdown",
   "metadata": {},
   "source": [
    "VR H1 Tumour cells"
   ]
  },
  {
   "cell_type": "code",
   "execution_count": 107,
   "metadata": {},
   "outputs": [
    {
     "name": "stdout",
     "output_type": "stream",
     "text": [
      "Accuracy: 92.00819672131148\n",
      "Cost: 4.716105360449407\n",
      "Gamma: 478.99066203695105\n"
     ]
    }
   ],
   "source": [
    "# load features into dataframe\n",
    "df_vr_tumour_h1 = DataFrame(ids=Int64[],times=Int64[],labels=[])\n",
    "for i in 1:400\n",
    "    colname = string(\"feature_\",i)\n",
    "    df_vr_tumour_h1[!,colname] = Float64[]\n",
    "end\n",
    "location_tumour_h1 = \"persistence_images\\\\vr\\\\tumour_h1\\\\\"\n",
    "files_vr_tumour_h1 = readdir(workdir*\"\\\\\"*location_tumour_h1)\n",
    "for f in files_vr_tumour_h1\n",
    "    id,time = parse_file(f)\n",
    "    id = parse(Int64,id)\n",
    "    time = parse(Int64,time)\n",
    "    image = load_object(location_tumour_h1*f)\n",
    "    row = Any[]\n",
    "    label = getBinaryLabel(id,time)\n",
    "    append!(row,id)\n",
    "    append!(row,time)\n",
    "    append!(row,label)\n",
    "    for x in image\n",
    "        append!(row,x)\n",
    "    end\n",
    "    push!(df_vr_tumour_h1,row)\n",
    "end\n",
    "\n",
    "# rescale features to [0,1]\n",
    "X = Matrix(df_vr_tumour_h1[:,4:end])\n",
    "\n",
    "dt = fit(UnitRangeTransform, X; dims=1, unit=true)\n",
    "\n",
    "Xn = StatsBase.transform(dt,X)\n",
    "for i in 1:size(X)[1]\n",
    "    df_vr_tumour_h1[i,:][4:end] = Xn[i,:]\n",
    "end\n",
    "\n",
    "# randomly undersample imbalanced data \n",
    "df_vr_tumour_h1 = random_oversample(df_vr_tumour_h1)\n",
    "df_vr_tumour_h1 = random_oversample(df_vr_tumour_h1)\n",
    "\n",
    "# randomly sample training, test and validation sets\n",
    "df_vr_tumour_h1=df_vr_tumour_h1[shuffle(1:nrow(df_vr_tumour_h1)),:];   \n",
    "X = Matrix(df_vr_tumour_h1[:,4:end]);    \n",
    "y = df_vr_tumour_h1.labels;\n",
    "Xtrain, Xtest, ytrain, ytest = train_test_split(X,y,test_size=0.3); # train-test split\n",
    "accuracy,C,G = train_svm(Xtrain,ytrain,Xtest,ytest)\n",
    "println(\"Accuracy: \", accuracy*100)\n",
    "println(\"Cost: \", C)\n",
    "println(\"Gamma: \", G)"
   ]
  },
  {
   "cell_type": "markdown",
   "metadata": {},
   "source": [
    "VR H0 Macrophages"
   ]
  },
  {
   "cell_type": "code",
   "execution_count": 108,
   "metadata": {},
   "outputs": [
    {
     "name": "stdout",
     "output_type": "stream",
     "text": [
      "Accuracy: 92.60780287474333\n",
      "Cost: 355.74116142592516\n",
      "Gamma: 236.59964959443886\n"
     ]
    }
   ],
   "source": [
    "# load features into dataframe\n",
    "df_vr_macrophage_h0 = DataFrame(ids=Int64[],times=Int64[],labels=[])\n",
    "for i in 1:20\n",
    "    colname = string(\"feature_\",i)\n",
    "    df_vr_macrophage_h0[!,colname] = Float64[]\n",
    "end\n",
    "location_macrophage_h0 = \"persistence_images\\\\vr\\\\macrophages_h0\\\\\"\n",
    "files_vr_macrophage_h0 = readdir(workdir*\"\\\\\"*location_macrophage_h0)\n",
    "for f in files_vr_macrophage_h0\n",
    "    id,time = parse_file(f)\n",
    "    id = parse(Int64,id)\n",
    "    time = parse(Int64,time)\n",
    "    image = load_object(location_macrophage_h0*f)\n",
    "    row = Any[]\n",
    "    label = getBinaryLabel(id,time)\n",
    "    append!(row,id)\n",
    "    append!(row,time)\n",
    "    append!(row,label)\n",
    "    for x in image\n",
    "        append!(row,x)\n",
    "    end\n",
    "    push!(df_vr_macrophage_h0,row)\n",
    "end\n",
    "\n",
    "# rescale features to [0,1]\n",
    "X = Matrix(df_vr_macrophage_h0[:,4:end])\n",
    "\n",
    "dt = fit(UnitRangeTransform, X; dims=1, unit=true)\n",
    "\n",
    "Xn = StatsBase.transform(dt,X)\n",
    "for i in 1:size(X)[1]\n",
    "    df_vr_macrophage_h0[i,:][4:end] = Xn[i,:]\n",
    "end\n",
    "\n",
    "# randomly undersample imbalanced data \n",
    "df_vr_macrophage_h0 = random_oversample(df_vr_macrophage_h0)\n",
    "df_vr_macrophage_h0 = random_oversample(df_vr_macrophage_h0)\n",
    "\n",
    "# randomly sample training, test and validation sets\n",
    "df_vr_macrophage_h0=df_vr_macrophage_h0[shuffle(1:nrow(df_vr_macrophage_h0)),:];   \n",
    "X = Matrix(df_vr_macrophage_h0[:,4:end]);    \n",
    "y = df_vr_macrophage_h0.labels;\n",
    "Xtrain, Xtest, ytrain, ytest = train_test_split(X,y,test_size=0.3); # train-test split\n",
    "accuracy,C,G = train_svm(Xtrain,ytrain,Xtest,ytest)\n",
    "println(\"Accuracy: \", accuracy*100)\n",
    "println(\"Cost: \", C)\n",
    "println(\"Gamma: \", G)"
   ]
  },
  {
   "cell_type": "markdown",
   "metadata": {},
   "source": [
    "VR H1 Macrophages"
   ]
  },
  {
   "cell_type": "code",
   "execution_count": 110,
   "metadata": {},
   "outputs": [
    {
     "name": "stdout",
     "output_type": "stream",
     "text": [
      "Accuracy: 88.50102669404517\n",
      "Cost: 4.631969129570603\n",
      "Gamma: 61.98272266930091\n"
     ]
    }
   ],
   "source": [
    "# load features into dataframe\n",
    "df_vr_macrophage_h1 = DataFrame(ids=Int64[],times=Int64[],labels=[])\n",
    "for i in 1:400\n",
    "    colname = string(\"feature_\",i)\n",
    "    df_vr_macrophage_h1[!,colname] = Float64[]\n",
    "end\n",
    "location_macrophage_h1 = \"persistence_images\\\\vr\\\\macrophages_h1\\\\\"\n",
    "files_vr_macrophage_h1 = readdir(workdir*\"\\\\\"*location_macrophage_h1)\n",
    "for f in files_vr_macrophage_h1\n",
    "    id,time = parse_file(f)\n",
    "    id = parse(Int64,id)\n",
    "    time = parse(Int64,time)\n",
    "    image = load_object(location_macrophage_h1*f)\n",
    "    row = Any[]\n",
    "    label = getBinaryLabel(id,time)\n",
    "    append!(row,id)\n",
    "    append!(row,time)\n",
    "    append!(row,label)\n",
    "    for x in image\n",
    "        append!(row,x)\n",
    "    end\n",
    "    push!(df_vr_macrophage_h1,row)\n",
    "end\n",
    "\n",
    "# rescale features to [0,1]\n",
    "X = Matrix(df_vr_macrophage_h1[:,4:end])\n",
    "\n",
    "dt = fit(UnitRangeTransform, X; dims=1, unit=true)\n",
    "\n",
    "Xn = StatsBase.transform(dt,X)\n",
    "for i in 1:size(X)[1]\n",
    "    df_vr_macrophage_h1[i,:][4:end] = Xn[i,:]\n",
    "end\n",
    "\n",
    "# randomly undersample imbalanced data \n",
    "df_vr_macrophage_h1 = random_oversample(df_vr_macrophage_h1)\n",
    "df_vr_macrophage_h1 = random_oversample(df_vr_macrophage_h1)\n",
    "\n",
    "# randomly sample training, test and validation sets\n",
    "df_vr_macrophage_h1=df_vr_macrophage_h1[shuffle(1:nrow(df_vr_macrophage_h1)),:];   \n",
    "X = Matrix(df_vr_macrophage_h1[:,4:end]);    \n",
    "y = df_vr_macrophage_h1.labels;\n",
    "Xtrain, Xtest, ytrain, ytest = train_test_split(X,y,test_size=0.3); # train-test split\n",
    "accuracy,C,G = train_svm(Xtrain,ytrain,Xtest,ytest)\n",
    "println(\"Accuracy: \", accuracy*100)\n",
    "println(\"Cost: \", C)\n",
    "println(\"Gamma: \", G)"
   ]
  },
  {
   "cell_type": "markdown",
   "metadata": {},
   "source": [
    "Dowker H0 macrophage-tumour"
   ]
  },
  {
   "cell_type": "code",
   "execution_count": 112,
   "metadata": {},
   "outputs": [
    {
     "name": "stdout",
     "output_type": "stream",
     "text": [
      "Accuracy: 97.3305954825462\n",
      "Cost: 4.716105360449407\n",
      "Gamma: 478.99066203695105\n"
     ]
    }
   ],
   "source": [
    "# load features into dataframe\n",
    "df_dowker_mt_h0 = DataFrame(ids=Int64[],times=Int64[],labels=[])\n",
    "for i in 1:400\n",
    "    colname = string(\"feature_\",i)\n",
    "    df_dowker_mt_h0[!,colname] = Float64[]\n",
    "end\n",
    "location_mt_h0 = \"persistence_images\\\\dowker\\\\macrophage_tumour_h0\\\\\"\n",
    "files_dowker_mt_h0 = readdir(workdir*\"\\\\\"*location_mt_h0)\n",
    "for f in files_dowker_mt_h0\n",
    "    id,time = parse_file(f)\n",
    "    id = parse(Int64,id)\n",
    "    time = parse(Int64,time)\n",
    "    image = load_object(location_mt_h0*f)\n",
    "    row = Any[]\n",
    "    label = getBinaryLabel(id,time)\n",
    "    append!(row,id)\n",
    "    append!(row,time)\n",
    "    append!(row,label)\n",
    "    for x in image\n",
    "        append!(row,x)\n",
    "    end\n",
    "    push!(df_dowker_mt_h0,row)\n",
    "end\n",
    "\n",
    "# rescale features to [0,1]\n",
    "X = Matrix(df_dowker_mt_h0[:,4:end])\n",
    "\n",
    "dt = fit(UnitRangeTransform, X; dims=1, unit=true)\n",
    "\n",
    "Xn = StatsBase.transform(dt,X)\n",
    "for i in 1:size(X)[1]\n",
    "    df_dowker_mt_h0[i,:][4:end] = Xn[i,:]\n",
    "end\n",
    "\n",
    "# randomly undersample imbalanced data \n",
    "df_dowker_mt_h0 = random_oversample(df_dowker_mt_h0)\n",
    "df_dowker_mt_h0 = random_oversample(df_dowker_mt_h0)\n",
    "\n",
    "# randomly sample training, test and validation sets\n",
    "df_dowker_mt_h0=df_dowker_mt_h0[shuffle(1:nrow(df_dowker_mt_h0)),:];   \n",
    "X = Matrix(df_dowker_mt_h0[:,4:end]);    \n",
    "y = df_dowker_mt_h0.labels;\n",
    "Xtrain, Xtest, ytrain, ytest = train_test_split(X,y,test_size=0.3); # train-test split\n",
    "accuracy,C,G = train_svm(Xtrain,ytrain,Xtest,ytest)\n",
    "println(\"Accuracy: \", accuracy*100)\n",
    "println(\"Cost: \", C)\n",
    "println(\"Gamma: \", G)\n"
   ]
  },
  {
   "cell_type": "markdown",
   "metadata": {},
   "source": [
    "Dowker H1 macrophage-tumour"
   ]
  },
  {
   "cell_type": "code",
   "execution_count": 113,
   "metadata": {},
   "outputs": [
    {
     "name": "stdout",
     "output_type": "stream",
     "text": [
      "Accuracy: 95.27720739219713\n",
      "Cost: 4.716105360449407\n",
      "Gamma: 478.99066203695105\n"
     ]
    }
   ],
   "source": [
    "# load features into dataframe\n",
    "df_dowker_mt_h1 = DataFrame(ids=Int64[],times=Int64[],labels=[])\n",
    "for i in 1:400\n",
    "    colname = string(\"feature_\",i)\n",
    "    df_dowker_mt_h1[!,colname] = Float64[]\n",
    "end\n",
    "location_mt_h1 = \"persistence_images\\\\dowker\\\\macrophage_tumour_h1\\\\\"\n",
    "files_dowker_mt_h1 = readdir(workdir*\"\\\\\"*location_mt_h1)\n",
    "for f in files_dowker_mt_h1\n",
    "    id,time = parse_file(f)\n",
    "    id = parse(Int64,id)\n",
    "    time = parse(Int64,time)\n",
    "    image = load_object(location_mt_h1*f)\n",
    "    row = Any[]\n",
    "    label = getBinaryLabel(id,time)\n",
    "    append!(row,id)\n",
    "    append!(row,time)\n",
    "    append!(row,label)\n",
    "    for x in image\n",
    "        append!(row,x)\n",
    "    end\n",
    "    push!(df_dowker_mt_h1,row)\n",
    "end\n",
    "\n",
    "# rescale features to [0,1]\n",
    "X = Matrix(df_dowker_mt_h1[:,4:end])\n",
    "\n",
    "dt = fit(UnitRangeTransform, X; dims=1, unit=true)\n",
    "\n",
    "Xn = StatsBase.transform(dt,X)\n",
    "for i in 1:size(X)[1]\n",
    "    df_dowker_mt_h1[i,:][4:end] = Xn[i,:]\n",
    "end\n",
    "\n",
    "# randomly undersample imbalanced data \n",
    "df_dowker_mt_h1 = random_oversample(df_dowker_mt_h1)\n",
    "df_dowker_mt_h1 = random_oversample(df_dowker_mt_h1)\n",
    "\n",
    "# randomly sample training, test and validation sets\n",
    "df_dowker_mt_h1=df_dowker_mt_h1[shuffle(1:nrow(df_dowker_mt_h1)),:];   \n",
    "X = Matrix(df_dowker_mt_h1[:,4:end]);    \n",
    "y = df_dowker_mt_h1.labels;\n",
    "Xtrain, Xtest, ytrain, ytest = train_test_split(X,y,test_size=0.3); # train-test split\n",
    "accuracy,C,G = train_svm(Xtrain,ytrain,Xtest,ytest)\n",
    "println(\"Accuracy: \", accuracy*100)\n",
    "println(\"Cost: \", C)\n",
    "println(\"Gamma: \", G)"
   ]
  },
  {
   "cell_type": "markdown",
   "metadata": {},
   "source": [
    "Dowker H0 Tumour-vessel"
   ]
  },
  {
   "cell_type": "code",
   "execution_count": 114,
   "metadata": {},
   "outputs": [
    {
     "name": "stdout",
     "output_type": "stream",
     "text": [
      "Accuracy: 96.30390143737166\n",
      "Cost: 4.716105360449407\n",
      "Gamma: 478.99066203695105\n"
     ]
    }
   ],
   "source": [
    "# load features into dataframe\n",
    "df_dowker_tv_h0 = DataFrame(ids=Int64[],times=Int64[],labels=[])\n",
    "for i in 1:400\n",
    "    colname = string(\"feature_\",i)\n",
    "    df_dowker_tv_h0[!,colname] = Float64[]\n",
    "end\n",
    "location_tv_h0 = \"persistence_images\\\\dowker\\\\tumour_vessel_h0\\\\\"\n",
    "files_dowker_tv_h0 = readdir(workdir*\"\\\\\"*location_tv_h0)\n",
    "for f in files_dowker_tv_h0\n",
    "    id,time = parse_file(f)\n",
    "    id = parse(Int64,id)\n",
    "    time = parse(Int64,time)\n",
    "    image = load_object(location_tv_h0*f)\n",
    "    row = Any[]\n",
    "    label = getBinaryLabel(id,time)\n",
    "    append!(row,id)\n",
    "    append!(row,time)\n",
    "    append!(row,label)\n",
    "    for x in image\n",
    "        append!(row,x)\n",
    "    end\n",
    "    push!(df_dowker_tv_h0,row)\n",
    "end\n",
    "\n",
    "# rescale features to [0,1]\n",
    "X = Matrix(df_dowker_tv_h0[:,4:end])\n",
    "\n",
    "dt = fit(UnitRangeTransform, X; dims=1, unit=true)\n",
    "\n",
    "Xn = StatsBase.transform(dt,X)\n",
    "for i in 1:size(X)[1]\n",
    "    df_dowker_tv_h0[i,:][4:end] = Xn[i,:]\n",
    "end\n",
    "\n",
    "# randomly undersample imbalanced data \n",
    "df_dowker_tv_h0 = random_oversample(df_dowker_tv_h0)\n",
    "df_dowker_tv_h0 = random_oversample(df_dowker_tv_h0)\n",
    "\n",
    "# randomly sample training, test and validation sets\n",
    "df_dowker_tv_h0=df_dowker_tv_h0[shuffle(1:nrow(df_dowker_tv_h0)),:];   \n",
    "X = Matrix(df_dowker_tv_h0[:,4:end]);    \n",
    "y = df_dowker_tv_h0.labels;\n",
    "Xtrain, Xtest, ytrain, ytest = train_test_split(X,y,test_size=0.3); # train-test split\n",
    "accuracy,C,G = train_svm(Xtrain,ytrain,Xtest,ytest)\n",
    "println(\"Accuracy: \", accuracy*100)\n",
    "println(\"Cost: \", C)\n",
    "println(\"Gamma: \", G)"
   ]
  },
  {
   "cell_type": "markdown",
   "metadata": {},
   "source": [
    "Dowker H1 Tumour-vessel"
   ]
  },
  {
   "cell_type": "code",
   "execution_count": 115,
   "metadata": {},
   "outputs": [
    {
     "name": "stdout",
     "output_type": "stream",
     "text": [
      "Accuracy: 93.63449691991786\n",
      "Cost: 4.716105360449407\n",
      "Gamma: 478.99066203695105\n"
     ]
    }
   ],
   "source": [
    "# load features into dataframe\n",
    "df_dowker_tv_h1 = DataFrame(ids=Int64[],times=Int64[],labels=[])\n",
    "for i in 1:400\n",
    "    colname = string(\"feature_\",i)\n",
    "    df_dowker_tv_h1[!,colname] = Float64[]\n",
    "end\n",
    "location_tv_h1 = \"persistence_images\\\\dowker\\\\tumour_vessel_h1\\\\\"\n",
    "files_dowker_tv_h1 = readdir(workdir*\"\\\\\"*location_tv_h1)\n",
    "for f in files_dowker_tv_h1\n",
    "    id,time = parse_file(f)\n",
    "    id = parse(Int64,id)\n",
    "    time = parse(Int64,time)\n",
    "    image = load_object(location_tv_h1*f)\n",
    "    row = Any[]\n",
    "    label = getBinaryLabel(id,time)\n",
    "    append!(row,id)\n",
    "    append!(row,time)\n",
    "    append!(row,label)\n",
    "    for x in image\n",
    "        append!(row,x)\n",
    "    end\n",
    "    push!(df_dowker_tv_h1,row)\n",
    "end\n",
    "\n",
    "# rescale features to [0,1]\n",
    "X = Matrix(df_dowker_tv_h1[:,4:end])\n",
    "\n",
    "dt = fit(UnitRangeTransform, X; dims=1, unit=true)\n",
    "\n",
    "Xn = StatsBase.transform(dt,X)\n",
    "for i in 1:size(X)[1]\n",
    "    df_dowker_tv_h1[i,:][4:end] = Xn[i,:]\n",
    "end\n",
    "\n",
    "# randomly undersample imbalanced data \n",
    "df_dowker_tv_h1 = random_oversample(df_dowker_tv_h1)\n",
    "df_dowker_tv_h1 = random_oversample(df_dowker_tv_h1)\n",
    "\n",
    "# randomly sample training, test and validation sets\n",
    "df_dowker_tv_h1=df_dowker_tv_h1[shuffle(1:nrow(df_dowker_tv_h1)),:];   \n",
    "X = Matrix(df_dowker_tv_h1[:,4:end]);    \n",
    "y = df_dowker_tv_h1.labels;\n",
    "Xtrain, Xtest, ytrain, ytest = train_test_split(X,y,test_size=0.3); # train-test split\n",
    "accuracy,C,G = train_svm(Xtrain,ytrain,Xtest,ytest)\n",
    "println(\"Accuracy: \", accuracy*100)\n",
    "println(\"Cost: \", C)\n",
    "println(\"Gamma: \", G)"
   ]
  },
  {
   "cell_type": "markdown",
   "metadata": {},
   "source": [
    "Dowker H0 Macrophage-vessel"
   ]
  },
  {
   "cell_type": "code",
   "execution_count": 116,
   "metadata": {},
   "outputs": [
    {
     "name": "stdout",
     "output_type": "stream",
     "text": [
      "Accuracy: 92.81314168377823\n",
      "Cost: 302.8199194537099\n",
      "Gamma: 1.4829712322553499\n"
     ]
    }
   ],
   "source": [
    "# load features into dataframe\n",
    "df_dowker_mv_h0 = DataFrame(ids=Int64[],times=Int64[],labels=[])\n",
    "for i in 1:400\n",
    "    colname = string(\"feature_\",i)\n",
    "    df_dowker_mv_h0[!,colname] = Float64[]\n",
    "end\n",
    "location_mv_h0 = \"persistence_images\\\\dowker\\\\macrophage_vessel_h0\\\\\"\n",
    "files_dowker_mv_h0 = readdir(workdir*\"\\\\\"*location_mv_h0)\n",
    "for f in files_dowker_mv_h0\n",
    "    id,time = parse_file(f)\n",
    "    id = parse(Int64,id)\n",
    "    time = parse(Int64,time)\n",
    "    image = load_object(location_mv_h0*f)\n",
    "    row = Any[]\n",
    "    label = getBinaryLabel(id,time)\n",
    "    append!(row,id)\n",
    "    append!(row,time)\n",
    "    append!(row,label)\n",
    "    for x in image\n",
    "        append!(row,x)\n",
    "    end\n",
    "    push!(df_dowker_mv_h0,row)\n",
    "end\n",
    "\n",
    "# rescale features to [0,1]\n",
    "X = Matrix(df_dowker_mv_h0[:,4:end])\n",
    "\n",
    "dt = fit(UnitRangeTransform, X; dims=1, unit=true)\n",
    "\n",
    "Xn = StatsBase.transform(dt,X)\n",
    "for i in 1:size(X)[1]\n",
    "    df_dowker_mv_h0[i,:][4:end] = Xn[i,:]\n",
    "end\n",
    "\n",
    "# randomly undersample imbalanced data \n",
    "df_dowker_mv_h0 = random_oversample(df_dowker_mv_h0)\n",
    "df_dowker_mv_h0 = random_oversample(df_dowker_mv_h0)\n",
    "\n",
    "# randomly sample training, test and validation sets\n",
    "df_dowker_mv_h0=df_dowker_mv_h0[shuffle(1:nrow(df_dowker_mv_h0)),:];   \n",
    "X = Matrix(df_dowker_mv_h0[:,4:end]);    \n",
    "y = df_dowker_mv_h0.labels;\n",
    "Xtrain, Xtest, ytrain, ytest = train_test_split(X,y,test_size=0.3); # train-test split\n",
    "accuracy,C,G = train_svm(Xtrain,ytrain,Xtest,ytest)\n",
    "println(\"Accuracy: \", accuracy*100)\n",
    "println(\"Cost: \", C)\n",
    "println(\"Gamma: \", G)"
   ]
  },
  {
   "cell_type": "markdown",
   "metadata": {},
   "source": [
    "Dowker H1 Macrophage-vessel"
   ]
  },
  {
   "cell_type": "code",
   "execution_count": 117,
   "metadata": {},
   "outputs": [
    {
     "name": "stdout",
     "output_type": "stream",
     "text": [
      "Accuracy: 87.88501026694045\n",
      "Cost: 355.74116142592516\n",
      "Gamma: 236.59964959443886\n"
     ]
    }
   ],
   "source": [
    "# load features into dataframe\n",
    "df_dowker_mv_h1 = DataFrame(ids=Int64[],times=Int64[],labels=[])\n",
    "for i in 1:400\n",
    "    colname = string(\"feature_\",i)\n",
    "    df_dowker_mv_h1[!,colname] = Float64[]\n",
    "end\n",
    "location_mv_h1 = \"persistence_images\\\\dowker\\\\macrophage_vessel_h1\\\\\"\n",
    "files_dowker_mv_h1 = readdir(workdir*\"\\\\\"*location_mv_h1)\n",
    "for f in files_dowker_mv_h1\n",
    "    id,time = parse_file(f)\n",
    "    id = parse(Int64,id)\n",
    "    time = parse(Int64,time)\n",
    "    image = load_object(location_mv_h1*f)\n",
    "    row = Any[]\n",
    "    label = getBinaryLabel(id,time)\n",
    "    append!(row,id)\n",
    "    append!(row,time)\n",
    "    append!(row,label)\n",
    "    for x in image\n",
    "        append!(row,x)\n",
    "    end\n",
    "    push!(df_dowker_mv_h1,row)\n",
    "end\n",
    "\n",
    "# rescale features to [0,1]\n",
    "X = Matrix(df_dowker_mv_h1[:,4:end])\n",
    "\n",
    "dt = fit(UnitRangeTransform, X; dims=1, unit=true)\n",
    "\n",
    "Xn = StatsBase.transform(dt,X)\n",
    "for i in 1:size(X)[1]\n",
    "    df_dowker_mv_h1[i,:][4:end] = Xn[i,:]\n",
    "end\n",
    "\n",
    "# randomly undersample imbalanced data \n",
    "df_dowker_mv_h1 = random_oversample(df_dowker_mv_h1)\n",
    "df_dowker_mv_h1 = random_oversample(df_dowker_mv_h1)\n",
    "\n",
    "# randomly sample training, test and validation sets\n",
    "df_dowker_mv_h1=df_dowker_mv_h1[shuffle(1:nrow(df_dowker_mv_h1)),:];   \n",
    "X = Matrix(df_dowker_mv_h1[:,4:end]);    \n",
    "y = df_dowker_mv_h1.labels;\n",
    "Xtrain, Xtest, ytrain, ytest = train_test_split(X,y,test_size=0.3); # train-test split\n",
    "accuracy,C,G = train_svm(Xtrain,ytrain,Xtest,ytest)\n",
    "println(\"Accuracy: \", accuracy*100)\n",
    "println(\"Cost: \", C)\n",
    "println(\"Gamma: \", G)"
   ]
  },
  {
   "cell_type": "markdown",
   "metadata": {},
   "source": [
    "Dowker-time Macrophages H0"
   ]
  },
  {
   "cell_type": "code",
   "execution_count": 118,
   "metadata": {},
   "outputs": [
    {
     "name": "stdout",
     "output_type": "stream",
     "text": [
      "Accuracy: 90.75975359342917\n",
      "Cost: 70.9615991894713\n",
      "Gamma: 4.037568747604432\n"
     ]
    }
   ],
   "source": [
    "# load features into dataframe\n",
    "df_dowkertime_m_h0 = DataFrame(ids=Int64[],times=Int64[],labels=[])\n",
    "for i in 1:400\n",
    "    colname = string(\"feature_\",i)\n",
    "    df_dowkertime_m_h0[!,colname] = Float64[]\n",
    "end\n",
    "location_m_time_h0 = \"persistence_images\\\\dowkertime\\\\macrophage_time_h0\\\\\"\n",
    "files_dowker_m_time_h0 = readdir(workdir*\"\\\\\"*location_m_time_h0)\n",
    "for f in files_dowker_m_time_h0\n",
    "    id,time = parse_file(f)\n",
    "    id = parse(Int64,id)\n",
    "    time = parse(Int64,time)\n",
    "    image = load_object(location_m_time_h0*f)\n",
    "    row = Any[]\n",
    "    label = getBinaryLabel(id,time)\n",
    "    append!(row,id)\n",
    "    append!(row,time)\n",
    "    append!(row,label)\n",
    "    for x in image\n",
    "        append!(row,x)\n",
    "    end\n",
    "    push!(df_dowkertime_m_h0,row)\n",
    "end\n",
    "\n",
    "# rescale features to [0,1]\n",
    "X = Matrix(df_dowkertime_m_h0[:,4:end])\n",
    "\n",
    "dt = fit(UnitRangeTransform, X; dims=1, unit=true)\n",
    "\n",
    "Xn = StatsBase.transform(dt,X)\n",
    "for i in 1:size(X)[1]\n",
    "    df_dowkertime_m_h0[i,:][4:end] = Xn[i,:]\n",
    "end\n",
    "\n",
    "# randomly undersample imbalanced data \n",
    "df_dowkertime_m_h0 = random_oversample(df_dowkertime_m_h0)\n",
    "df_dowkertime_m_h0 = random_oversample(df_dowkertime_m_h0)\n",
    "\n",
    "# randomly sample training, test and validation sets\n",
    "df_dowkertime_m_h0=df_dowkertime_m_h0[shuffle(1:nrow(df_dowkertime_m_h0)),:];   \n",
    "X = Matrix(df_dowkertime_m_h0[:,4:end]);    \n",
    "y = df_dowkertime_m_h0.labels;\n",
    "Xtrain, Xtest, ytrain, ytest = train_test_split(X,y,test_size=0.3); # train-test split\n",
    "accuracy,C,G = train_svm(Xtrain,ytrain,Xtest,ytest)\n",
    "println(\"Accuracy: \", accuracy*100)\n",
    "println(\"Cost: \", C)\n",
    "println(\"Gamma: \", G)"
   ]
  },
  {
   "cell_type": "markdown",
   "metadata": {},
   "source": [
    "Dowker-time Macrophages H1"
   ]
  },
  {
   "cell_type": "code",
   "execution_count": 119,
   "metadata": {},
   "outputs": [
    {
     "name": "stdout",
     "output_type": "stream",
     "text": [
      "Accuracy: 87.67967145790554\n",
      "Cost: 4.716105360449407\n",
      "Gamma: 478.99066203695105\n"
     ]
    }
   ],
   "source": [
    "# load features into dataframe\n",
    "df_dowkertime_m_h1 = DataFrame(ids=Int64[],times=Int64[],labels=[])\n",
    "for i in 1:400\n",
    "    colname = string(\"feature_\",i)\n",
    "    df_dowkertime_m_h1[!,colname] = Float64[]\n",
    "end\n",
    "location_m_time_h1 = \"persistence_images\\\\dowkertime\\\\macrophage_time_h1\\\\\"\n",
    "files_dowker_m_time_h1 = readdir(workdir*\"\\\\\"*location_m_time_h1)\n",
    "for f in files_dowker_m_time_h1\n",
    "    id,time = parse_file(f)\n",
    "    id = parse(Int64,id)\n",
    "    time = parse(Int64,time)\n",
    "    image = load_object(location_m_time_h1*f)\n",
    "    row = Any[]\n",
    "    label = getBinaryLabel(id,time)\n",
    "    append!(row,id)\n",
    "    append!(row,time)\n",
    "    append!(row,label)\n",
    "    for x in image\n",
    "        append!(row,x)\n",
    "    end\n",
    "    push!(df_dowkertime_m_h1,row)\n",
    "end\n",
    "\n",
    "# rescale features to [0,1]\n",
    "X = Matrix(df_dowkertime_m_h1[:,4:end])\n",
    "\n",
    "dt = fit(UnitRangeTransform, X; dims=1, unit=true)\n",
    "\n",
    "Xn = StatsBase.transform(dt,X)\n",
    "for i in 1:size(X)[1]\n",
    "    df_dowkertime_m_h1[i,:][4:end] = Xn[i,:]\n",
    "end\n",
    "\n",
    "# randomly undersample imbalanced data \n",
    "df_dowkertime_m_h1 = random_oversample(df_dowkertime_m_h1)\n",
    "df_dowkertime_m_h1 = random_oversample(df_dowkertime_m_h1)\n",
    "\n",
    "\n",
    "# randomly sample training, test and validation sets\n",
    "df_dowkertime_m_h1=df_dowkertime_m_h1[shuffle(1:nrow(df_dowkertime_m_h1)),:];   \n",
    "X = Matrix(df_dowkertime_m_h1[:,4:end]);    \n",
    "y = df_dowkertime_m_h1.labels;\n",
    "Xtrain, Xtest, ytrain, ytest = train_test_split(X,y,test_size=0.3); # train-test split\n",
    "accuracy,C,G = train_svm(Xtrain,ytrain,Xtest,ytest)\n",
    "println(\"Accuracy: \", accuracy*100)\n",
    "println(\"Cost: \", C)\n",
    "println(\"Gamma: \", G)"
   ]
  },
  {
   "cell_type": "markdown",
   "metadata": {},
   "source": [
    "Dowker-time Tumour H0"
   ]
  },
  {
   "cell_type": "code",
   "execution_count": 120,
   "metadata": {},
   "outputs": [
    {
     "name": "stdout",
     "output_type": "stream",
     "text": [
      "Accuracy: 91.17043121149896\n",
      "Cost: 355.74116142592516\n",
      "Gamma: 236.59964959443886\n"
     ]
    }
   ],
   "source": [
    "# load features into dataframe\n",
    "df_dowkertime_t_h0 = DataFrame(ids=Int64[],times=Int64[],labels=[])\n",
    "for i in 1:400\n",
    "    colname = string(\"feature_\",i)\n",
    "    df_dowkertime_t_h0[!,colname] = Float64[]\n",
    "end\n",
    "location_t_time_h0 = \"persistence_images\\\\dowkertime\\\\tumour_time_h0\\\\\"\n",
    "files_dowker_t_time_h0 = readdir(workdir*\"\\\\\"*location_t_time_h0)\n",
    "for f in files_dowker_t_time_h0\n",
    "    id,time = parse_file(f)\n",
    "    id = parse(Int64,id)\n",
    "    time = parse(Int64,time)\n",
    "    image = load_object(location_t_time_h0*f)\n",
    "    row = Any[]\n",
    "    label = getBinaryLabel(id,time)\n",
    "    append!(row,id)\n",
    "    append!(row,time)\n",
    "    append!(row,label)\n",
    "    for x in image\n",
    "        append!(row,x)\n",
    "    end\n",
    "    push!(df_dowkertime_t_h0,row)\n",
    "end\n",
    "\n",
    "# rescale features to [0,1]\n",
    "X = Matrix(df_dowkertime_t_h0[:,4:end])\n",
    "\n",
    "dt = fit(UnitRangeTransform, X; dims=1, unit=true)\n",
    "\n",
    "Xn = StatsBase.transform(dt,X)\n",
    "for i in 1:size(X)[1]\n",
    "    df_dowkertime_t_h0[i,:][4:end] = Xn[i,:]\n",
    "end\n",
    "\n",
    "# randomly undersample imbalanced data \n",
    "df_dowkertime_t_h0 = random_oversample(df_dowkertime_t_h0)\n",
    "df_dowkertime_t_h0 = random_oversample(df_dowkertime_t_h0)\n",
    "\n",
    "# randomly sample training, test and validation sets\n",
    "df_dowkertime_t_h0=df_dowkertime_t_h0[shuffle(1:nrow(df_dowkertime_t_h0)),:];   \n",
    "X = Matrix(df_dowkertime_t_h0[:,4:end]);    \n",
    "y = df_dowkertime_t_h0.labels;\n",
    "Xtrain, Xtest, ytrain, ytest = train_test_split(X,y,test_size=0.3); # train-test split\n",
    "accuracy,C,G = train_svm(Xtrain,ytrain,Xtest,ytest)\n",
    "println(\"Accuracy: \", accuracy*100)\n",
    "println(\"Cost: \", C)\n",
    "println(\"Gamma: \", G)"
   ]
  },
  {
   "cell_type": "markdown",
   "metadata": {},
   "source": [
    "Dowker-time Tumour H1"
   ]
  },
  {
   "cell_type": "code",
   "execution_count": 121,
   "metadata": {},
   "outputs": [
    {
     "name": "stdout",
     "output_type": "stream",
     "text": [
      "Accuracy: 87.26899383983573\n",
      "Cost: 70.9615991894713\n",
      "Gamma: 4.037568747604432\n"
     ]
    }
   ],
   "source": [
    "# load features into dataframe\n",
    "df_dowkertime_t_h1 = DataFrame(ids=Int64[],times=Int64[],labels=[])\n",
    "for i in 1:400\n",
    "    colname = string(\"feature_\",i)\n",
    "    df_dowkertime_t_h1[!,colname] = Float64[]\n",
    "end\n",
    "location_t_time_h1 = \"persistence_images\\\\dowkertime\\\\tumour_time_h1\\\\\"\n",
    "files_dowker_t_time_h1 = readdir(workdir*\"\\\\\"*location_t_time_h1)\n",
    "for f in files_dowker_t_time_h1\n",
    "    id,time = parse_file(f)\n",
    "    id = parse(Int64,id)\n",
    "    time = parse(Int64,time)\n",
    "    image = load_object(location_t_time_h1*f)\n",
    "    row = Any[]\n",
    "    label = getBinaryLabel(id,time)\n",
    "    append!(row,id)\n",
    "    append!(row,time)\n",
    "    append!(row,label)\n",
    "    for x in image\n",
    "        append!(row,x)\n",
    "    end\n",
    "    push!(df_dowkertime_t_h1,row)\n",
    "end\n",
    "\n",
    "# rescale features to [0,1]\n",
    "X = Matrix(df_dowkertime_t_h1[:,4:end])\n",
    "\n",
    "dt = fit(UnitRangeTransform, X; dims=1, unit=true)\n",
    "\n",
    "Xn = StatsBase.transform(dt,X)\n",
    "for i in 1:size(X)[1]\n",
    "    df_dowkertime_t_h1[i,:][4:end] = Xn[i,:]\n",
    "end\n",
    "\n",
    "# randomly undersample imbalanced data \n",
    "df_dowkertime_t_h1 = random_oversample(df_dowkertime_t_h1)\n",
    "df_dowkertime_t_h1 = random_oversample(df_dowkertime_t_h1)\n",
    "\n",
    "# randomly sample training, test and validation sets\n",
    "df_dowkertime_t_h1=df_dowkertime_t_h1[shuffle(1:nrow(df_dowkertime_t_h1)),:];   \n",
    "X = Matrix(df_dowkertime_t_h1[:,4:end]);    \n",
    "y = df_dowkertime_t_h1.labels;\n",
    "Xtrain, Xtest, ytrain, ytest = train_test_split(X,y,test_size=0.3); # train-test split\n",
    "accuracy,C,G = train_svm(Xtrain,ytrain,Xtest,ytest)\n",
    "println(\"Accuracy: \", accuracy*100)\n",
    "println(\"Cost: \", C)\n",
    "println(\"Gamma: \", G)"
   ]
  },
  {
   "cell_type": "markdown",
   "metadata": {},
   "source": [
    "# Example hyperparameter tuning"
   ]
  },
  {
   "cell_type": "code",
   "execution_count": 6,
   "metadata": {},
   "outputs": [
    {
     "data": {
      "text/plain": [
       "PyObject <class 'sklearn.svm._classes.SVC'>"
      ]
     },
     "execution_count": 6,
     "metadata": {},
     "output_type": "execute_result"
    }
   ],
   "source": [
    "using ScikitLearn.GridSearch: RandomizedSearchCV\n",
    "using PyCall\n",
    "stats = pyimport(\"scipy.stats\")\n",
    "\n",
    "using ScikitLearn\n",
    "@sk_import svm: SVC"
   ]
  },
  {
   "cell_type": "markdown",
   "metadata": {},
   "source": [
    "<b>To Jay: The following is copy-pasted from your code </b>"
   ]
  },
  {
   "cell_type": "code",
   "execution_count": 91,
   "metadata": {},
   "outputs": [],
   "source": [
    "# load features into dataframe\n",
    "df_vr_tumour_h0 = DataFrame(ids=Int64[],times=Int64[],labels=[])\n",
    "for i in 1:20\n",
    "    colname = string(\"feature_\",i)\n",
    "    df_vr_tumour_h0[!,colname] = Float64[]\n",
    "end\n",
    "location_tumour_h0 = \"persistence_images/vr/tumour_h0/\"\n",
    "files_vr_tumour_h0 = readdir(workdir*\"/\"*location_tumour_h0)\n",
    "for f in files_vr_tumour_h0\n",
    "    id,time = parse_file(f)\n",
    "    id = parse(Int64,id)\n",
    "    time = parse(Int64,time)\n",
    "    image = load_object(location_tumour_h0*f)\n",
    "    row = Any[]\n",
    "    label = getBinaryLabel(id,time)\n",
    "    append!(row,id)\n",
    "    append!(row,time)\n",
    "    append!(row,label)\n",
    "    for x in image\n",
    "        append!(row,x)\n",
    "    end\n",
    "    push!(df_vr_tumour_h0,row)\n",
    "end\n",
    "\n",
    "# rescale features to [0,1]\n",
    "X = Matrix(df_vr_tumour_h0[:,4:end])\n",
    "\n",
    "dt = fit(UnitRangeTransform, X; dims=1, unit=true)\n",
    "\n",
    "Xn = StatsBase.transform(dt,X)\n",
    "for i in 1:size(X)[1]\n",
    "    df_vr_tumour_h0[i,:][4:end] = Xn[i,:]\n",
    "end\n"
   ]
  },
  {
   "cell_type": "markdown",
   "metadata": {},
   "source": [
    "<b> To Jay: all the labels appear as 0, so I get an error when I run `random_undersample` </b>"
   ]
  },
  {
   "cell_type": "code",
   "execution_count": 97,
   "metadata": {},
   "outputs": [
    {
     "data": {
      "text/plain": [
       "Dict{Any, Int64} with 2 entries:\n",
       "  0 => 813\n",
       "  1 => 812"
      ]
     },
     "execution_count": 97,
     "metadata": {},
     "output_type": "execute_result"
    }
   ],
   "source": [
    "countmap(df_vr_tumour_h0.labels)"
   ]
  },
  {
   "cell_type": "code",
   "execution_count": 10,
   "metadata": {},
   "outputs": [
    {
     "data": {
      "text/html": [
       "<table class=\"data-frame\"><thead><tr><th></th><th>ids</th><th>times</th><th>labels</th><th>feature_1</th><th>feature_2</th><th>feature_3</th><th>feature_4</th><th>feature_5</th></tr><tr><th></th><th>Int64</th><th>Int64</th><th>Any</th><th>Float64</th><th>Float64</th><th>Float64</th><th>Float64</th><th>Float64</th></tr></thead><tbody><p>535 rows × 23 columns (omitted printing of 15 columns)</p><tr><th>1</th><td>91</td><td>300</td><td>0</td><td>0.458359</td><td>0.461496</td><td>0.013393</td><td>2.11021e-6</td><td>5.00343e-12</td></tr><tr><th>2</th><td>1571</td><td>450</td><td>1</td><td>0.675793</td><td>0.692533</td><td>0.0213001</td><td>3.79939e-6</td><td>1.16308e-11</td></tr><tr><th>3</th><td>641</td><td>300</td><td>0</td><td>0.420838</td><td>0.430217</td><td>0.0137939</td><td>3.17459e-6</td><td>1.95533e-11</td></tr><tr><th>4</th><td>781</td><td>350</td><td>0</td><td>0.331712</td><td>0.404442</td><td>0.0244088</td><td>2.34428e-5</td><td>7.30758e-10</td></tr><tr><th>5</th><td>1491</td><td>350</td><td>1</td><td>0.183007</td><td>0.254272</td><td>0.0189514</td><td>1.3159e-5</td><td>1.85992e-10</td></tr><tr><th>6</th><td>1511</td><td>450</td><td>1</td><td>0.374143</td><td>0.455698</td><td>0.0289253</td><td>2.80537e-5</td><td>8.30814e-10</td></tr><tr><th>7</th><td>1551</td><td>400</td><td>1</td><td>0.495057</td><td>0.543941</td><td>0.0224264</td><td>9.55764e-6</td><td>1.2368e-10</td></tr><tr><th>8</th><td>6120</td><td>350</td><td>0</td><td>0.548479</td><td>0.545557</td><td>0.0155623</td><td>2.40914e-6</td><td>5.6079e-12</td></tr><tr><th>9</th><td>531</td><td>400</td><td>0</td><td>0.557761</td><td>0.57479</td><td>0.0186424</td><td>4.28215e-6</td><td>2.53164e-11</td></tr><tr><th>10</th><td>1281</td><td>350</td><td>1</td><td>0.176635</td><td>0.277255</td><td>0.0366505</td><td>8.6886e-5</td><td>5.53405e-9</td></tr><tr><th>11</th><td>861</td><td>450</td><td>1</td><td>0.605762</td><td>0.668828</td><td>0.0295985</td><td>1.59785e-5</td><td>2.81136e-10</td></tr><tr><th>12</th><td>1151</td><td>350</td><td>1</td><td>0.380825</td><td>0.426102</td><td>0.0170921</td><td>5.86495e-6</td><td>5.49168e-11</td></tr><tr><th>13</th><td>6100</td><td>400</td><td>0</td><td>0.0439243</td><td>0.205932</td><td>0.452085</td><td>0.0920696</td><td>0.00144226</td></tr><tr><th>14</th><td>1281</td><td>400</td><td>1</td><td>0.0342685</td><td>0.122126</td><td>0.200354</td><td>0.0280363</td><td>0.0097738</td></tr><tr><th>15</th><td>6180</td><td>250</td><td>0</td><td>0.196011</td><td>0.22273</td><td>0.00938662</td><td>3.37372e-6</td><td>3.01325e-11</td></tr><tr><th>16</th><td>1241</td><td>400</td><td>1</td><td>0.604148</td><td>0.615834</td><td>0.0184048</td><td>3.0414e-6</td><td>7.77136e-12</td></tr><tr><th>17</th><td>601</td><td>500</td><td>1</td><td>0.247081</td><td>0.485762</td><td>0.388363</td><td>0.0554612</td><td>0.000213695</td></tr><tr><th>18</th><td>7020</td><td>500</td><td>0</td><td>0.780931</td><td>0.764939</td><td>0.021283</td><td>3.20269e-6</td><td>7.22369e-12</td></tr><tr><th>19</th><td>1341</td><td>350</td><td>1</td><td>0.381354</td><td>0.425957</td><td>0.0198479</td><td>1.03255e-5</td><td>1.42691e-10</td></tr><tr><th>20</th><td>1011</td><td>400</td><td>1</td><td>0.519634</td><td>0.553111</td><td>0.018465</td><td>3.83043e-6</td><td>1.53135e-11</td></tr><tr><th>21</th><td>1051</td><td>250</td><td>0</td><td>0.305737</td><td>0.311924</td><td>0.00930926</td><td>1.53712e-6</td><td>3.96428e-12</td></tr><tr><th>22</th><td>7040</td><td>300</td><td>0</td><td>0.450646</td><td>0.451377</td><td>0.0129955</td><td>2.0299e-6</td><td>4.76788e-12</td></tr><tr><th>23</th><td>1011</td><td>450</td><td>1</td><td>0.511888</td><td>0.568055</td><td>0.0215085</td><td>5.54155e-6</td><td>2.87851e-11</td></tr><tr><th>24</th><td>1371</td><td>250</td><td>1</td><td>0.283638</td><td>0.287483</td><td>0.00841997</td><td>1.33814e-6</td><td>3.1969e-12</td></tr><tr><th>25</th><td>1051</td><td>400</td><td>0</td><td>0.55578</td><td>0.59254</td><td>0.0245144</td><td>1.93551e-5</td><td>6.49055e-10</td></tr><tr><th>26</th><td>1341</td><td>450</td><td>1</td><td>0.476387</td><td>0.51618</td><td>0.0200886</td><td>6.85727e-6</td><td>6.44742e-11</td></tr><tr><th>27</th><td>1331</td><td>400</td><td>1</td><td>0.367173</td><td>0.447119</td><td>0.0719417</td><td>0.00171996</td><td>8.40406e-7</td></tr><tr><th>28</th><td>6190</td><td>300</td><td>0</td><td>0.444691</td><td>0.443776</td><td>0.0127137</td><td>1.97613e-6</td><td>4.61738e-12</td></tr><tr><th>29</th><td>641</td><td>250</td><td>0</td><td>0.285113</td><td>0.290675</td><td>0.00860203</td><td>1.38421e-6</td><td>3.35523e-12</td></tr><tr><th>30</th><td>621</td><td>250</td><td>0</td><td>0.279813</td><td>0.285345</td><td>0.00853574</td><td>1.41122e-6</td><td>3.6036e-12</td></tr><tr><th>&vellip;</th><td>&vellip;</td><td>&vellip;</td><td>&vellip;</td><td>&vellip;</td><td>&vellip;</td><td>&vellip;</td><td>&vellip;</td><td>&vellip;</td></tr></tbody></table>"
      ],
      "text/latex": [
       "\\begin{tabular}{r|ccccccccc}\n",
       "\t& ids & times & labels & feature\\_1 & feature\\_2 & feature\\_3 & feature\\_4 & feature\\_5 & \\\\\n",
       "\t\\hline\n",
       "\t& Int64 & Int64 & Any & Float64 & Float64 & Float64 & Float64 & Float64 & \\\\\n",
       "\t\\hline\n",
       "\t1 & 91 & 300 & 0 & 0.458359 & 0.461496 & 0.013393 & 2.11021e-6 & 5.00343e-12 & $\\dots$ \\\\\n",
       "\t2 & 1571 & 450 & 1 & 0.675793 & 0.692533 & 0.0213001 & 3.79939e-6 & 1.16308e-11 & $\\dots$ \\\\\n",
       "\t3 & 641 & 300 & 0 & 0.420838 & 0.430217 & 0.0137939 & 3.17459e-6 & 1.95533e-11 & $\\dots$ \\\\\n",
       "\t4 & 781 & 350 & 0 & 0.331712 & 0.404442 & 0.0244088 & 2.34428e-5 & 7.30758e-10 & $\\dots$ \\\\\n",
       "\t5 & 1491 & 350 & 1 & 0.183007 & 0.254272 & 0.0189514 & 1.3159e-5 & 1.85992e-10 & $\\dots$ \\\\\n",
       "\t6 & 1511 & 450 & 1 & 0.374143 & 0.455698 & 0.0289253 & 2.80537e-5 & 8.30814e-10 & $\\dots$ \\\\\n",
       "\t7 & 1551 & 400 & 1 & 0.495057 & 0.543941 & 0.0224264 & 9.55764e-6 & 1.2368e-10 & $\\dots$ \\\\\n",
       "\t8 & 6120 & 350 & 0 & 0.548479 & 0.545557 & 0.0155623 & 2.40914e-6 & 5.6079e-12 & $\\dots$ \\\\\n",
       "\t9 & 531 & 400 & 0 & 0.557761 & 0.57479 & 0.0186424 & 4.28215e-6 & 2.53164e-11 & $\\dots$ \\\\\n",
       "\t10 & 1281 & 350 & 1 & 0.176635 & 0.277255 & 0.0366505 & 8.6886e-5 & 5.53405e-9 & $\\dots$ \\\\\n",
       "\t11 & 861 & 450 & 1 & 0.605762 & 0.668828 & 0.0295985 & 1.59785e-5 & 2.81136e-10 & $\\dots$ \\\\\n",
       "\t12 & 1151 & 350 & 1 & 0.380825 & 0.426102 & 0.0170921 & 5.86495e-6 & 5.49168e-11 & $\\dots$ \\\\\n",
       "\t13 & 6100 & 400 & 0 & 0.0439243 & 0.205932 & 0.452085 & 0.0920696 & 0.00144226 & $\\dots$ \\\\\n",
       "\t14 & 1281 & 400 & 1 & 0.0342685 & 0.122126 & 0.200354 & 0.0280363 & 0.0097738 & $\\dots$ \\\\\n",
       "\t15 & 6180 & 250 & 0 & 0.196011 & 0.22273 & 0.00938662 & 3.37372e-6 & 3.01325e-11 & $\\dots$ \\\\\n",
       "\t16 & 1241 & 400 & 1 & 0.604148 & 0.615834 & 0.0184048 & 3.0414e-6 & 7.77136e-12 & $\\dots$ \\\\\n",
       "\t17 & 601 & 500 & 1 & 0.247081 & 0.485762 & 0.388363 & 0.0554612 & 0.000213695 & $\\dots$ \\\\\n",
       "\t18 & 7020 & 500 & 0 & 0.780931 & 0.764939 & 0.021283 & 3.20269e-6 & 7.22369e-12 & $\\dots$ \\\\\n",
       "\t19 & 1341 & 350 & 1 & 0.381354 & 0.425957 & 0.0198479 & 1.03255e-5 & 1.42691e-10 & $\\dots$ \\\\\n",
       "\t20 & 1011 & 400 & 1 & 0.519634 & 0.553111 & 0.018465 & 3.83043e-6 & 1.53135e-11 & $\\dots$ \\\\\n",
       "\t21 & 1051 & 250 & 0 & 0.305737 & 0.311924 & 0.00930926 & 1.53712e-6 & 3.96428e-12 & $\\dots$ \\\\\n",
       "\t22 & 7040 & 300 & 0 & 0.450646 & 0.451377 & 0.0129955 & 2.0299e-6 & 4.76788e-12 & $\\dots$ \\\\\n",
       "\t23 & 1011 & 450 & 1 & 0.511888 & 0.568055 & 0.0215085 & 5.54155e-6 & 2.87851e-11 & $\\dots$ \\\\\n",
       "\t24 & 1371 & 250 & 1 & 0.283638 & 0.287483 & 0.00841997 & 1.33814e-6 & 3.1969e-12 & $\\dots$ \\\\\n",
       "\t25 & 1051 & 400 & 0 & 0.55578 & 0.59254 & 0.0245144 & 1.93551e-5 & 6.49055e-10 & $\\dots$ \\\\\n",
       "\t26 & 1341 & 450 & 1 & 0.476387 & 0.51618 & 0.0200886 & 6.85727e-6 & 6.44742e-11 & $\\dots$ \\\\\n",
       "\t27 & 1331 & 400 & 1 & 0.367173 & 0.447119 & 0.0719417 & 0.00171996 & 8.40406e-7 & $\\dots$ \\\\\n",
       "\t28 & 6190 & 300 & 0 & 0.444691 & 0.443776 & 0.0127137 & 1.97613e-6 & 4.61738e-12 & $\\dots$ \\\\\n",
       "\t29 & 641 & 250 & 0 & 0.285113 & 0.290675 & 0.00860203 & 1.38421e-6 & 3.35523e-12 & $\\dots$ \\\\\n",
       "\t30 & 621 & 250 & 0 & 0.279813 & 0.285345 & 0.00853574 & 1.41122e-6 & 3.6036e-12 & $\\dots$ \\\\\n",
       "\t$\\dots$ & $\\dots$ & $\\dots$ & $\\dots$ & $\\dots$ & $\\dots$ & $\\dots$ & $\\dots$ & $\\dots$ &  \\\\\n",
       "\\end{tabular}\n"
      ],
      "text/plain": [
       "\u001b[1m535×23 DataFrame\u001b[0m\n",
       "\u001b[1m Row \u001b[0m│\u001b[1m ids   \u001b[0m\u001b[1m times \u001b[0m\u001b[1m labels \u001b[0m\u001b[1m feature_1 \u001b[0m\u001b[1m feature_2 \u001b[0m\u001b[1m feature_3  \u001b[0m\u001b[1m feature_4  \u001b[0m\u001b[1m fea\u001b[0m ⋯\n",
       "\u001b[1m     \u001b[0m│\u001b[90m Int64 \u001b[0m\u001b[90m Int64 \u001b[0m\u001b[90m Any    \u001b[0m\u001b[90m Float64   \u001b[0m\u001b[90m Float64   \u001b[0m\u001b[90m Float64    \u001b[0m\u001b[90m Float64    \u001b[0m\u001b[90m Flo\u001b[0m ⋯\n",
       "─────┼──────────────────────────────────────────────────────────────────────────\n",
       "   1 │    91    300  0       0.458359    0.461496  0.013393    2.11021e-6  5.0 ⋯\n",
       "   2 │  1571    450  1       0.675793    0.692533  0.0213001   3.79939e-6  1.1\n",
       "   3 │   641    300  0       0.420838    0.430217  0.0137939   3.17459e-6  1.9\n",
       "   4 │   781    350  0       0.331712    0.404442  0.0244088   2.34428e-5  7.3\n",
       "   5 │  1491    350  1       0.183007    0.254272  0.0189514   1.3159e-5   1.8 ⋯\n",
       "   6 │  1511    450  1       0.374143    0.455698  0.0289253   2.80537e-5  8.3\n",
       "   7 │  1551    400  1       0.495057    0.543941  0.0224264   9.55764e-6  1.2\n",
       "   8 │  6120    350  0       0.548479    0.545557  0.0155623   2.40914e-6  5.6\n",
       "   9 │   531    400  0       0.557761    0.57479   0.0186424   4.28215e-6  2.5 ⋯\n",
       "  10 │  1281    350  1       0.176635    0.277255  0.0366505   8.6886e-5   5.5\n",
       "  11 │   861    450  1       0.605762    0.668828  0.0295985   1.59785e-5  2.8\n",
       "  ⋮  │   ⋮      ⋮      ⋮         ⋮          ⋮          ⋮           ⋮           ⋱\n",
       " 526 │  1581    500  1       0.77519     0.795192  0.0249939   4.76243e-6  1.6\n",
       " 527 │   801    300  0       0.365216    0.378852  0.0123441   2.69119e-6  1.3 ⋯\n",
       " 528 │  1191    450  1       0.588289    0.630478  0.0219134   5.13942e-6  2.6\n",
       " 529 │  6990    300  0       0.377828    0.40214   0.0133001   2.69732e-6  1.0\n",
       " 530 │  1411    350  1       0.456792    0.47895   0.015165    2.74198e-6  8.0\n",
       " 531 │  1231    300  0       0.374871    0.380418  0.0112467   1.82273e-6  4.5 ⋯\n",
       " 532 │   331    300  0       0.48581     0.482613  0.0137304   2.11817e-6  4.9\n",
       " 533 │  1491    250  0       0.218084    0.239963  0.0153353   2.87582e-5  1.4\n",
       " 534 │     1    300  0       0.434596    0.43236   0.0123216   1.90376e-6  4.4\n",
       " 535 │  1171    250  0       0.259997    0.270416  0.00858006  1.61849e-6  5.4 ⋯\n",
       "\u001b[36m                                                 16 columns and 514 rows omitted\u001b[0m"
      ]
     },
     "execution_count": 10,
     "metadata": {},
     "output_type": "execute_result"
    }
   ],
   "source": [
    "# randomly undersample imbalanced data \n",
    "df_vr_tumour_h0 = random_undersample(df_vr_tumour_h0)"
   ]
  },
  {
   "cell_type": "markdown",
   "metadata": {},
   "source": [
    "<b>To Jay: Please note I changed the train/ test split ratio to 0.7. This is because we use the RandomizedSearchCV, which will do its own cross validation when doing hyperparameter tuning </b>"
   ]
  },
  {
   "cell_type": "code",
   "execution_count": 14,
   "metadata": {},
   "outputs": [
    {
     "ename": "LoadError",
     "evalue": "UndefVarError: Xtrain not defined",
     "output_type": "error",
     "traceback": [
      "UndefVarError: Xtrain not defined",
      "",
      "Stacktrace:",
      " [1] top-level scope",
      "   @ In[14]:18",
      " [2] eval",
      "   @ .\\boot.jl:373 [inlined]",
      " [3] include_string(mapexpr::typeof(REPL.softscope), mod::Module, code::String, filename::String)",
      "   @ Base .\\loading.jl:1196"
     ]
    }
   ],
   "source": [
    "sampler(a, b) = stats.loguniform(a, b) # samples from range (a,b) according to log uniform distribution \n",
    "\n",
    "# specify parameters and distributions to sample from\n",
    "param_dist = Dict(\"C\" => sampler(1e-6, 100.0),\n",
    "                  \"gamma\" => sampler(1e-6, 100.0))\n",
    "\n",
    "# define classifier\n",
    "clf = SVC()\n",
    "\n",
    "# Do random parameter search\n",
    "n_iter_search = 20\n",
    "random_search = RandomizedSearchCV(clf, \n",
    "                                    param_dist,\n",
    "                                   n_iter=n_iter_search, \n",
    "                                    random_state=MersenneTwister(42))\n",
    "\n",
    "start = time()\n",
    "ScikitLearn.fit!(random_search, Xtrain, ytrain)\n",
    "@printf(\"RandomizedSearchCV took %.2f seconds for %d candidates, parameter settings.\\n\", (time() - start), n_iter_search)\n",
    "\n",
    "report(random_search.grid_scores_)"
   ]
  },
  {
   "cell_type": "markdown",
   "metadata": {},
   "source": [
    "<b>We'll then train SVM on the entire training data and report the accuracy on the test set </b>"
   ]
  },
  {
   "cell_type": "code",
   "execution_count": null,
   "metadata": {},
   "outputs": [],
   "source": [
    "\n",
    "# report final accuracy on test set\n",
    "\n",
    "model = svmtrain(Xtrain', ytrain ; gamma=G , cost=C)\n",
    "ypredict, decision_values = svmpredict(model, Xtest');\n",
    "acc = mean(ypredict .== ytest) * 100;\n",
    "println(\"accuracy: \", acc)\n",
    "println(\"Cost: \", C, \" Gamma: \", G)\n",
    "display(accs)"
   ]
  }
 ],
 "metadata": {
  "kernelspec": {
   "display_name": "Julia 1.7.2",
   "language": "julia",
   "name": "julia-1.7"
  },
  "language_info": {
   "file_extension": ".jl",
   "mimetype": "application/julia",
   "name": "julia",
   "version": "1.7.2"
  },
  "vscode": {
   "interpreter": {
    "hash": "09c6cbd744a3e802c1b5f435d264ee7d2f5cdf10497892df26b386a33f32af57"
   }
  }
 },
 "nbformat": 4,
 "nbformat_minor": 2
}
