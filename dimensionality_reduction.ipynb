{
 "cells": [
  {
   "cell_type": "code",
   "execution_count": 88,
   "metadata": {},
   "outputs": [],
   "source": [
    "using CSV\n",
    "using JLD2\n",
    "using DataFrames\n",
    "using Distances\n",
    "using MultivariateStats\n",
    "using PlotlyJS\n",
    "using UMAP\n",
    "using TSne\n",
    "using Statistics\n",
    "using StatsBase\n"
   ]
  },
  {
   "cell_type": "code",
   "execution_count": 16,
   "metadata": {},
   "outputs": [
    {
     "data": {
      "text/plain": [
       "populatePHdata (generic function with 2 methods)"
      ]
     },
     "execution_count": 16,
     "metadata": {},
     "output_type": "execute_result"
    }
   ],
   "source": [
    "function populatePHdata(imagepath, size, att)\n",
    "    df = DataFrame(ids=Int64[],times=Int64[],labels=[])\n",
    "    for i in 1:size\n",
    "        colname = string(\"feature_\",att,\"_\",i)\n",
    "        df[!,colname] = Float64[]\n",
    "    end\n",
    "    for i in 1:972\n",
    "        id = simulation_df[i,\"id\"]\n",
    "        time = simulation_df[i,\"time\"]\n",
    "        label = simulation_df[i,\"label\"]\n",
    "        imagename = string(id)*\"_\"*string(time)*\"_img.jld2\"\n",
    "        V = load_object(imagepath*imagename)\n",
    "        row = Any[]\n",
    "        append!(row,id)\n",
    "        append!(row,time)\n",
    "        append!(row,label)\n",
    "        for x in V\n",
    "            append!(row,x)\n",
    "        end\n",
    "        push!(df,row)\n",
    "    end\n",
    "    return df\n",
    "\n",
    "end"
   ]
  },
  {
   "cell_type": "code",
   "execution_count": 8,
   "metadata": {},
   "outputs": [],
   "source": [
    "simulation_df = CSV.read(\"labels.csv\", DataFrame);"
   ]
  },
  {
   "cell_type": "code",
   "execution_count": 30,
   "metadata": {},
   "outputs": [
    {
     "data": {
      "text/html": [
       "<table class=\"data-frame\"><thead><tr><th></th><th>ids</th><th>times</th><th>labels</th><th>feature_TV1_1</th><th>feature_TV1_2</th><th>feature_TV1_3</th><th>feature_TV1_4</th></tr><tr><th></th><th>Int64</th><th>Int64</th><th>Any</th><th>Float64</th><th>Float64</th><th>Float64</th><th>Float64</th></tr></thead><tbody><p>972 rows × 403 columns (omitted printing of 396 columns)</p><tr><th>1</th><td>1</td><td>250</td><td>0</td><td>3.60749e-59</td><td>8.29969e-59</td><td>1.71574e-58</td><td>3.1873e-58</td></tr><tr><th>2</th><td>1</td><td>300</td><td>0</td><td>1.58676e-55</td><td>4.60146e-55</td><td>1.19869e-54</td><td>2.80541e-54</td></tr><tr><th>3</th><td>1</td><td>350</td><td>0</td><td>4.74845e-52</td><td>4.59123e-52</td><td>4.28239e-52</td><td>4.30385e-52</td></tr><tr><th>4</th><td>1</td><td>400</td><td>0</td><td>4.58209e-54</td><td>1.37013e-53</td><td>3.6802e-53</td><td>8.88064e-53</td></tr><tr><th>5</th><td>1</td><td>450</td><td>0</td><td>3.31305e-56</td><td>8.88734e-56</td><td>2.14181e-55</td><td>4.63771e-55</td></tr><tr><th>6</th><td>1</td><td>500</td><td>0</td><td>4.6854e-58</td><td>1.10876e-57</td><td>2.35749e-57</td><td>4.50434e-57</td></tr><tr><th>7</th><td>11</td><td>250</td><td>0</td><td>8.51172e-61</td><td>1.88014e-60</td><td>3.73179e-60</td><td>6.65637e-60</td></tr><tr><th>8</th><td>11</td><td>300</td><td>0</td><td>4.90397e-52</td><td>4.7434e-52</td><td>4.12462e-52</td><td>3.22456e-52</td></tr><tr><th>9</th><td>11</td><td>350</td><td>0</td><td>2.03058e-54</td><td>5.85924e-54</td><td>1.51877e-53</td><td>3.53692e-53</td></tr><tr><th>10</th><td>11</td><td>400</td><td>0</td><td>3.98405e-52</td><td>3.81385e-52</td><td>3.53265e-52</td><td>3.55107e-52</td></tr><tr><th>11</th><td>11</td><td>450</td><td>0</td><td>9.31279e-53</td><td>8.4998e-53</td><td>7.10323e-53</td><td>5.63598e-53</td></tr><tr><th>12</th><td>11</td><td>500</td><td>0</td><td>8.39714e-48</td><td>7.6909e-48</td><td>6.33196e-48</td><td>4.68599e-48</td></tr><tr><th>13</th><td>21</td><td>250</td><td>0</td><td>8.62435e-59</td><td>1.96288e-58</td><td>4.0142e-58</td><td>7.37713e-58</td></tr><tr><th>14</th><td>21</td><td>300</td><td>0</td><td>1.63905e-51</td><td>1.51198e-51</td><td>1.27548e-51</td><td>1.02101e-51</td></tr><tr><th>15</th><td>21</td><td>350</td><td>0</td><td>1.34714e-50</td><td>1.2568e-50</td><td>1.14497e-50</td><td>1.17352e-50</td></tr><tr><th>16</th><td>21</td><td>400</td><td>0</td><td>1.50473e-51</td><td>5.60623e-51</td><td>1.87578e-50</td><td>5.63703e-50</td></tr><tr><th>17</th><td>21</td><td>450</td><td>0</td><td>2.0721e-47</td><td>1.87509e-47</td><td>1.5291e-47</td><td>1.13266e-47</td></tr><tr><th>18</th><td>21</td><td>500</td><td>0</td><td>1.43468e-44</td><td>1.37696e-44</td><td>1.18798e-44</td><td>9.21323e-45</td></tr><tr><th>19</th><td>31</td><td>250</td><td>0</td><td>5.01634e-61</td><td>1.01639e-60</td><td>1.85064e-60</td><td>3.02835e-60</td></tr><tr><th>20</th><td>31</td><td>300</td><td>0</td><td>9.82942e-57</td><td>2.54756e-56</td><td>5.93203e-56</td><td>1.24111e-55</td></tr><tr><th>21</th><td>31</td><td>350</td><td>0</td><td>6.78882e-53</td><td>2.23084e-52</td><td>6.58424e-52</td><td>1.74567e-51</td></tr><tr><th>22</th><td>31</td><td>400</td><td>0</td><td>1.33104e-51</td><td>4.84732e-51</td><td>1.58534e-50</td><td>4.65706e-50</td></tr><tr><th>23</th><td>31</td><td>450</td><td>0</td><td>3.41361e-50</td><td>1.30722e-49</td><td>4.49541e-49</td><td>1.38846e-48</td></tr><tr><th>24</th><td>31</td><td>500</td><td>0</td><td>6.34684e-52</td><td>2.28189e-51</td><td>7.36803e-51</td><td>2.13689e-50</td></tr><tr><th>25</th><td>41</td><td>250</td><td>0</td><td>4.30084e-62</td><td>8.65357e-62</td><td>1.56468e-61</td><td>2.54264e-61</td></tr><tr><th>26</th><td>41</td><td>300</td><td>0</td><td>1.3411e-56</td><td>3.33356e-56</td><td>7.44481e-56</td><td>1.49399e-55</td></tr><tr><th>27</th><td>41</td><td>350</td><td>0</td><td>1.37678e-51</td><td>4.90354e-51</td><td>1.56848e-50</td><td>4.50635e-50</td></tr><tr><th>28</th><td>41</td><td>400</td><td>0</td><td>1.02021e-49</td><td>4.23731e-49</td><td>1.58029e-48</td><td>5.2928e-48</td></tr><tr><th>29</th><td>41</td><td>450</td><td>0</td><td>1.13525e-49</td><td>5.07838e-49</td><td>2.0397e-48</td><td>7.35646e-48</td></tr><tr><th>30</th><td>41</td><td>500</td><td>0</td><td>3.07679e-50</td><td>1.18387e-49</td><td>4.0907e-49</td><td>1.26949e-48</td></tr><tr><th>&vellip;</th><td>&vellip;</td><td>&vellip;</td><td>&vellip;</td><td>&vellip;</td><td>&vellip;</td><td>&vellip;</td><td>&vellip;</td></tr></tbody></table>"
      ],
      "text/latex": [
       "\\begin{tabular}{r|cccccccc}\n",
       "\t& ids & times & labels & feature\\_TV1\\_1 & feature\\_TV1\\_2 & feature\\_TV1\\_3 & feature\\_TV1\\_4 & \\\\\n",
       "\t\\hline\n",
       "\t& Int64 & Int64 & Any & Float64 & Float64 & Float64 & Float64 & \\\\\n",
       "\t\\hline\n",
       "\t1 & 1 & 250 & 0 & 3.60749e-59 & 8.29969e-59 & 1.71574e-58 & 3.1873e-58 & $\\dots$ \\\\\n",
       "\t2 & 1 & 300 & 0 & 1.58676e-55 & 4.60146e-55 & 1.19869e-54 & 2.80541e-54 & $\\dots$ \\\\\n",
       "\t3 & 1 & 350 & 0 & 4.74845e-52 & 4.59123e-52 & 4.28239e-52 & 4.30385e-52 & $\\dots$ \\\\\n",
       "\t4 & 1 & 400 & 0 & 4.58209e-54 & 1.37013e-53 & 3.6802e-53 & 8.88064e-53 & $\\dots$ \\\\\n",
       "\t5 & 1 & 450 & 0 & 3.31305e-56 & 8.88734e-56 & 2.14181e-55 & 4.63771e-55 & $\\dots$ \\\\\n",
       "\t6 & 1 & 500 & 0 & 4.6854e-58 & 1.10876e-57 & 2.35749e-57 & 4.50434e-57 & $\\dots$ \\\\\n",
       "\t7 & 11 & 250 & 0 & 8.51172e-61 & 1.88014e-60 & 3.73179e-60 & 6.65637e-60 & $\\dots$ \\\\\n",
       "\t8 & 11 & 300 & 0 & 4.90397e-52 & 4.7434e-52 & 4.12462e-52 & 3.22456e-52 & $\\dots$ \\\\\n",
       "\t9 & 11 & 350 & 0 & 2.03058e-54 & 5.85924e-54 & 1.51877e-53 & 3.53692e-53 & $\\dots$ \\\\\n",
       "\t10 & 11 & 400 & 0 & 3.98405e-52 & 3.81385e-52 & 3.53265e-52 & 3.55107e-52 & $\\dots$ \\\\\n",
       "\t11 & 11 & 450 & 0 & 9.31279e-53 & 8.4998e-53 & 7.10323e-53 & 5.63598e-53 & $\\dots$ \\\\\n",
       "\t12 & 11 & 500 & 0 & 8.39714e-48 & 7.6909e-48 & 6.33196e-48 & 4.68599e-48 & $\\dots$ \\\\\n",
       "\t13 & 21 & 250 & 0 & 8.62435e-59 & 1.96288e-58 & 4.0142e-58 & 7.37713e-58 & $\\dots$ \\\\\n",
       "\t14 & 21 & 300 & 0 & 1.63905e-51 & 1.51198e-51 & 1.27548e-51 & 1.02101e-51 & $\\dots$ \\\\\n",
       "\t15 & 21 & 350 & 0 & 1.34714e-50 & 1.2568e-50 & 1.14497e-50 & 1.17352e-50 & $\\dots$ \\\\\n",
       "\t16 & 21 & 400 & 0 & 1.50473e-51 & 5.60623e-51 & 1.87578e-50 & 5.63703e-50 & $\\dots$ \\\\\n",
       "\t17 & 21 & 450 & 0 & 2.0721e-47 & 1.87509e-47 & 1.5291e-47 & 1.13266e-47 & $\\dots$ \\\\\n",
       "\t18 & 21 & 500 & 0 & 1.43468e-44 & 1.37696e-44 & 1.18798e-44 & 9.21323e-45 & $\\dots$ \\\\\n",
       "\t19 & 31 & 250 & 0 & 5.01634e-61 & 1.01639e-60 & 1.85064e-60 & 3.02835e-60 & $\\dots$ \\\\\n",
       "\t20 & 31 & 300 & 0 & 9.82942e-57 & 2.54756e-56 & 5.93203e-56 & 1.24111e-55 & $\\dots$ \\\\\n",
       "\t21 & 31 & 350 & 0 & 6.78882e-53 & 2.23084e-52 & 6.58424e-52 & 1.74567e-51 & $\\dots$ \\\\\n",
       "\t22 & 31 & 400 & 0 & 1.33104e-51 & 4.84732e-51 & 1.58534e-50 & 4.65706e-50 & $\\dots$ \\\\\n",
       "\t23 & 31 & 450 & 0 & 3.41361e-50 & 1.30722e-49 & 4.49541e-49 & 1.38846e-48 & $\\dots$ \\\\\n",
       "\t24 & 31 & 500 & 0 & 6.34684e-52 & 2.28189e-51 & 7.36803e-51 & 2.13689e-50 & $\\dots$ \\\\\n",
       "\t25 & 41 & 250 & 0 & 4.30084e-62 & 8.65357e-62 & 1.56468e-61 & 2.54264e-61 & $\\dots$ \\\\\n",
       "\t26 & 41 & 300 & 0 & 1.3411e-56 & 3.33356e-56 & 7.44481e-56 & 1.49399e-55 & $\\dots$ \\\\\n",
       "\t27 & 41 & 350 & 0 & 1.37678e-51 & 4.90354e-51 & 1.56848e-50 & 4.50635e-50 & $\\dots$ \\\\\n",
       "\t28 & 41 & 400 & 0 & 1.02021e-49 & 4.23731e-49 & 1.58029e-48 & 5.2928e-48 & $\\dots$ \\\\\n",
       "\t29 & 41 & 450 & 0 & 1.13525e-49 & 5.07838e-49 & 2.0397e-48 & 7.35646e-48 & $\\dots$ \\\\\n",
       "\t30 & 41 & 500 & 0 & 3.07679e-50 & 1.18387e-49 & 4.0907e-49 & 1.26949e-48 & $\\dots$ \\\\\n",
       "\t$\\dots$ & $\\dots$ & $\\dots$ & $\\dots$ & $\\dots$ & $\\dots$ & $\\dots$ & $\\dots$ &  \\\\\n",
       "\\end{tabular}\n"
      ],
      "text/plain": [
       "\u001b[1m972×403 DataFrame\u001b[0m\n",
       "\u001b[1m Row \u001b[0m│\u001b[1m ids   \u001b[0m\u001b[1m times \u001b[0m\u001b[1m labels \u001b[0m\u001b[1m feature_TV1_1 \u001b[0m\u001b[1m feature_TV1_2 \u001b[0m\u001b[1m feature_TV1_3 \u001b[0m\u001b[1m feat\u001b[0m ⋯\n",
       "\u001b[1m     \u001b[0m│\u001b[90m Int64 \u001b[0m\u001b[90m Int64 \u001b[0m\u001b[90m Any    \u001b[0m\u001b[90m Float64       \u001b[0m\u001b[90m Float64       \u001b[0m\u001b[90m Float64       \u001b[0m\u001b[90m Floa\u001b[0m ⋯\n",
       "─────┼──────────────────────────────────────────────────────────────────────────\n",
       "   1 │     1    250  0         3.60749e-59    8.29969e-59    1.71574e-58    3. ⋯\n",
       "   2 │     1    300  0         1.58676e-55    4.60146e-55    1.19869e-54    2.\n",
       "   3 │     1    350  0         4.74845e-52    4.59123e-52    4.28239e-52    4.\n",
       "   4 │     1    400  0         4.58209e-54    1.37013e-53    3.6802e-53     8.\n",
       "   5 │     1    450  0         3.31305e-56    8.88734e-56    2.14181e-55    4. ⋯\n",
       "   6 │     1    500  0         4.6854e-58     1.10876e-57    2.35749e-57    4.\n",
       "   7 │    11    250  0         8.51172e-61    1.88014e-60    3.73179e-60    6.\n",
       "   8 │    11    300  0         4.90397e-52    4.7434e-52     4.12462e-52    3.\n",
       "   9 │    11    350  0         2.03058e-54    5.85924e-54    1.51877e-53    3. ⋯\n",
       "  10 │    11    400  0         3.98405e-52    3.81385e-52    3.53265e-52    3.\n",
       "  11 │    11    450  0         9.31279e-53    8.4998e-53     7.10323e-53    5.\n",
       "  ⋮  │   ⋮      ⋮      ⋮           ⋮              ⋮              ⋮             ⋱\n",
       " 963 │  1393    500  1         3.27205e-47    8.50138e-47    1.98445e-46    4.\n",
       " 964 │  1443    500  0         0.0            0.0            0.0            0. ⋯\n",
       " 965 │  1462    450  0         0.0            0.0            0.0            0.\n",
       " 966 │  1462    500  0         0.0            0.0            0.0            0.\n",
       " 967 │  1602    250  0         9.74496e-67    1.0983e-66     1.11271e-66    1.\n",
       " 968 │  1602    300  0         3.07219e-66    3.8215e-66     4.27301e-66    4. ⋯\n",
       " 969 │  1602    350  1         1.68451e-64    2.15546e-64    2.47922e-64    2.\n",
       " 970 │  1602    400  0         5.47241e-63    7.78389e-63    9.95193e-63    1.\n",
       " 971 │  1602    450  1         0.000267084    0.000242564    0.000198025    0.\n",
       " 972 │  1602    500  1         4.65485e-64    6.40907e-64    7.93201e-64    8. ⋯\n",
       "\u001b[36m                                                397 columns and 951 rows omitted\u001b[0m"
      ]
     },
     "execution_count": 30,
     "metadata": {},
     "output_type": "execute_result"
    }
   ],
   "source": [
    "df_vr_tumour_h0 = populatePHdata(\"persistence_images\\\\vr\\\\tumour_h0\\\\\",20,\"T0\")\n",
    "df_vr_tumour_h1 = populatePHdata(\"persistence_images\\\\vr\\\\tumour_h1\\\\\",400,\"T1\")\n",
    "df_vr_macrophage_h0 = populatePHdata(\"persistence_images\\\\vr\\\\macrophages_h0\\\\\",20,\"M0\")\n",
    "df_vr_macrophage_h1 = populatePHdata(\"persistence_images\\\\vr\\\\macrophages_h1\\\\\",400,\"M1\")\n",
    "df_dowker_mt_h0 = populatePHdata(\"persistence_images\\\\dowker\\\\macrophage_tumour_h0\\\\\",400,\"MT0\")\n",
    "df_dowker_mt_h1 = populatePHdata(\"persistence_images\\\\dowker\\\\macrophage_tumour_h1\\\\\",400,\"MT1\")\n",
    "df_dowker_mv_h0 = populatePHdata(\"persistence_images\\\\dowker\\\\macrophage_vessel_h0\\\\\",400,\"MV0\")\n",
    "df_dowker_mv_h1 = populatePHdata(\"persistence_images\\\\dowker\\\\macrophage_vessel_h1\\\\\",400,\"MV1\")\n",
    "df_dowker_tv_h0 = populatePHdata(\"persistence_images\\\\dowker\\\\tumour_vessel_h0\\\\\",400,\"TV0\")\n",
    "df_dowker_tv_h1 = populatePHdata(\"persistence_images\\\\dowker\\\\tumour_vessel_h1\\\\\",400,\"TV1\")\n"
   ]
  },
  {
   "cell_type": "code",
   "execution_count": 32,
   "metadata": {},
   "outputs": [],
   "source": [
    "VR_df = hcat(df_vr_tumour_h0,\n",
    "             df_vr_tumour_h1[!,4:end],\n",
    "             df_vr_macrophage_h0[!,4:end],\n",
    "             df_vr_macrophage_h1[!,4:end]);\n",
    "Dowker_df = hcat(df_dowker_mt_h0,\n",
    "                 df_dowker_mt_h1[!,4:end],\n",
    "                 df_dowker_mv_h0[!,4:end],\n",
    "                 df_dowker_mv_h1[!,4:end],\n",
    "                 df_dowker_tv_h0[!,4:end],\n",
    "                 df_dowker_tv_h1[!,4:end]\n",
    ");"
   ]
  },
  {
   "cell_type": "code",
   "execution_count": 94,
   "metadata": {},
   "outputs": [
    {
     "data": {
      "text/plain": [
       "\"dowker.svg\""
      ]
     },
     "execution_count": 94,
     "metadata": {},
     "output_type": "execute_result"
    }
   ],
   "source": [
    "df = Dowker_df\n",
    "X=Matrix(df[:,4:end])\n",
    "y=df.labels;\n",
    "R = Distances.pairwise(Euclidean(), X, dims=1);\n",
    "mds = classical_mds(R,2)';\n",
    "#mds = umap(X',2)'\n",
    "#mds=UMP'\n",
    "# M1 dominant points\n",
    "x0 = mds[y .==0, 1]\n",
    "y0 = mds[y .==0, 2]\n",
    "# M2 dominant points\n",
    "x1 = mds[y .==1, 1]\n",
    "y1 = mds[y .==1, 2]\n",
    "# plot M1 and M2 dominant points\n",
    "p=PlotlyJS.plot(\n",
    "    [\n",
    "        PlotlyJS.scatter(\n",
    "            x=x0,\n",
    "            y=y0,\n",
    "            mode=\"markers\",\n",
    "            marker = attr(color=\"#215467\",size=10,opacity=.5)\n",
    "        ),\n",
    "        PlotlyJS.scatter(\n",
    "            x=x1,\n",
    "            y=y1,\n",
    "            mode=\"markers\",\n",
    "            marker = attr(color=\"#FB8500\",size=10,opacity=.8)\n",
    "        )\n",
    "    ],\n",
    "    PlotlyJS.Layout(\n",
    "        width=600,\n",
    "        height=600\n",
    "    )\n",
    ")\n",
    "#savefig(p,\"dowker.svg\")"
   ]
  },
  {
   "cell_type": "code",
   "execution_count": 95,
   "metadata": {},
   "outputs": [
    {
     "data": {
      "text/plain": [
       "\"rips.svg\""
      ]
     },
     "execution_count": 95,
     "metadata": {},
     "output_type": "execute_result"
    }
   ],
   "source": [
    "df = VR_df\n",
    "X=Matrix(df[:,4:end])\n",
    "y=df.labels;\n",
    "R = Distances.pairwise(Euclidean(), X, dims=1);\n",
    "mds = classical_mds(R,2)';\n",
    "#mds = umap(X',2)'\n",
    "\n",
    "# M1 dominant points\n",
    "x0 = mds[y .==0, 1]\n",
    "y0 = mds[y .==0, 2]\n",
    "# M2 dominant points\n",
    "x1 = mds[y .==1, 1]\n",
    "y1 = mds[y .==1, 2]\n",
    "# plot M1 and M2 dominant points\n",
    "p=PlotlyJS.plot(\n",
    "    [\n",
    "        PlotlyJS.scatter(\n",
    "            x=x0,\n",
    "            y=y0,\n",
    "            mode=\"markers\",\n",
    "            marker = attr(color=\"#215467\",size=10,opacity=.5)\n",
    "        ),\n",
    "        PlotlyJS.scatter(\n",
    "            x=x1,\n",
    "            y=y1,\n",
    "            mode=\"markers\",\n",
    "            marker = attr(color=\"#FB8500\",size=10,opacity=.8)\n",
    "        )\n",
    "    ],\n",
    "    PlotlyJS.Layout(\n",
    "        width=600,\n",
    "        height=600\n",
    "    )\n",
    ")\n",
    "#savefig(p,\"rips.svg\")"
   ]
  },
  {
   "cell_type": "code",
   "execution_count": 55,
   "metadata": {},
   "outputs": [
    {
     "data": {
      "text/plain": [
       "\"vr_combined.csv\""
      ]
     },
     "execution_count": 55,
     "metadata": {},
     "output_type": "execute_result"
    }
   ],
   "source": [
    "#CSV.write(\"dowker_combined.csv\",Dowker_df)\n",
    "#CSV.write(\"vr_combined.csv\",VR_df)"
   ]
  }
 ],
 "metadata": {
  "kernelspec": {
   "display_name": "Julia 1.7.2",
   "language": "julia",
   "name": "julia-1.7"
  },
  "language_info": {
   "file_extension": ".jl",
   "mimetype": "application/julia",
   "name": "julia",
   "version": "1.7.2"
  },
  "orig_nbformat": 4
 },
 "nbformat": 4,
 "nbformat_minor": 2
}
