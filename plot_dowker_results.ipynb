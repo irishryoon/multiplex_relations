{
 "cells": [
  {
   "cell_type": "code",
   "execution_count": 1,
   "metadata": {},
   "outputs": [],
   "source": [
    "import glob\n",
    "import matplotlib.pyplot as plt\n",
    "import numpy as np\n",
    "import pandas as pd\n",
    "import plotly.express as px\n",
    "import plotly.graph_objects as go\n",
    "import tqdm\n",
    "import pickle\n",
    "import warnings\n",
    "from plotly.subplots import make_subplots\n",
    "warnings.simplefilter(\"ignore\")"
   ]
  },
  {
   "cell_type": "code",
   "execution_count": 2,
   "metadata": {},
   "outputs": [],
   "source": [
    "vr_tumour_h0=pd.read_csv('analysis_results/vr_tumour_h0_accuracies.csv')['vector'].to_list()\n",
    "vr_tumour_h1=pd.read_csv('analysis_results/vr_tumour_h1_accuracies.csv')['vector'].to_list()\n",
    "vr_macrophage_h0=pd.read_csv('analysis_results/vr_macrophage_h0_accuracies.csv')['vector'].to_list()\n",
    "vr_macrophage_h1=pd.read_csv('analysis_results/vr_macrophage_h1_accuracies.csv')['vector'].to_list()\n",
    "\n",
    "dowker_mt_h0=pd.read_csv('analysis_results/dowker_mt_h0_accuracies.csv')['vector'].to_list()\n",
    "dowker_mt_h1=pd.read_csv('analysis_results/dowker_mt_h1_accuracies.csv')['vector'].to_list()\n",
    "dowker_mv_h0=pd.read_csv('analysis_results/dowker_mv_h0_accuracies.csv')['vector'].to_list()\n",
    "dowker_mv_h1=pd.read_csv('analysis_results/dowker_mv_h1_accuracies.csv')['vector'].to_list()\n",
    "dowker_tv_h0=pd.read_csv('analysis_results/dowker_tv_h0_accuracies.csv')['vector'].to_list()\n",
    "dowker_tv_h1=pd.read_csv('analysis_results/dowker_tv_h1_accuracies.csv')['vector'].to_list()\n",
    "\n",
    "combined_vr = pd.read_csv('analysis_results/vr_accuracy.csv')['vector'].to_list()\n",
    "combined_dowker = pd.read_csv('analysis_results/dowker_accuracy.csv')['vector'].to_list()\n",
    "\n",
    "simple = pd.read_csv('analysis_results/simple_accuracy.csv')['vector'].to_list()"
   ]
  },
  {
   "cell_type": "code",
   "execution_count": 3,
   "metadata": {},
   "outputs": [],
   "source": [
    "accs = [\n",
    "        combined_vr,\n",
    "        combined_dowker,\n",
    "        vr_tumour_h0,\n",
    "        vr_tumour_h1,\n",
    "        vr_macrophage_h0,\n",
    "        vr_macrophage_h1,\n",
    "        dowker_mt_h0,\n",
    "        dowker_mt_h1,\n",
    "        dowker_tv_h0,\n",
    "        dowker_tv_h1,\n",
    "        dowker_mv_h0,\n",
    "        dowker_mv_h1\n",
    "]\n",
    "names = [\n",
    "\"VR\",\n",
    "\"DKR\",\n",
    "\" T H0\",\n",
    "\" T H1\",\n",
    "\" M H0\",\n",
    "\" M H1\",\n",
    "\" M-T H0\",\n",
    "\" M-T H1\",\n",
    "\" T-V H0\",\n",
    "\" T-V H1\",\n",
    "\" M-V H0\",\n",
    "\" M-V H1\"\n",
    "]\n",
    "grp = [\n",
    "    \"VR\",\n",
    "    \"Dowker\",\n",
    "\"VR\",\n",
    "\"VR\",\n",
    "\"VR\",\n",
    "\"VR\",\n",
    "\"Dowker\",\n",
    "\"Dowker\",\n",
    "\"Dowker\",\n",
    "\"Dowker\",\n",
    "\"Dowker\",\n",
    "\"Dowker\"\n",
    "]\n",
    "clrs = [\n",
    "    '#3D9970',\n",
    "'#3D5871',\n",
    "'#3D9970',\n",
    "'#3D9970',\n",
    "'#3D9970',\n",
    "'#3D9970',\n",
    "'#3D5871',\n",
    "'#3D5871',\n",
    "'#3D5871',\n",
    "'#3D5871',\n",
    "'#3D5871',\n",
    "'#3D5871'\n",
    "]\n",
    "titles = [\"Vietoris-Rips\",\"Dowker\",\"Vietoris-Rips\",\"Vietoris-Rips\",\"Vietoris-Rips\",\"Vietoris-Rips\",\n",
    "\"Dowker\",\"Dowker\",\"Dowker\",\"Dowker\",\"Dowker\",\"Dowker\"]"
   ]
  },
  {
   "cell_type": "code",
   "execution_count": 4,
   "metadata": {},
   "outputs": [
    {
     "data": {
      "application/vnd.plotly.v1+json": {
       "config": {
        "plotlyServerURL": "https://plot.ly"
       },
       "data": [
        {
         "boxpoints": "all",
         "legendgroup": "VR",
         "legendgrouptitle": {
          "text": "Vietoris-Rips"
         },
         "marker": {
          "color": "#3D9970"
         },
         "name": "VR",
         "showlegend": true,
         "text": "VR",
         "type": "box",
         "width": 0.5,
         "y": [
          87.32876712328768,
          82.1917808219178,
          83.56164383561644,
          82.1917808219178,
          86.64383561643835,
          83.56164383561644,
          86.3013698630137,
          85.27397260273972,
          83.56164383561644,
          84.93150684931507
         ]
        },
        {
         "boxpoints": "all",
         "legendgroup": "Dowker",
         "legendgrouptitle": {
          "text": "Dowker"
         },
         "marker": {
          "color": "#3D5871"
         },
         "name": "DKR",
         "showlegend": true,
         "text": "DKR",
         "type": "box",
         "width": 0.5,
         "y": [
          87.32876712328768,
          86.64383561643835,
          86.64383561643835,
          89.38356164383562,
          86.3013698630137,
          86.3013698630137,
          86.64383561643835,
          88.01369863013699,
          85.95890410958904,
          86.3013698630137
         ]
        },
        {
         "boxpoints": "all",
         "legendgroup": "VR",
         "legendgrouptitle": {
          "text": "Vietoris-Rips"
         },
         "marker": {
          "color": "#3D9970"
         },
         "name": " T H0",
         "showlegend": true,
         "text": " T H0",
         "type": "box",
         "width": 0.5,
         "y": [
          80.82191780821918,
          82.1917808219178,
          81.16438356164383,
          83.21917808219177,
          82.1917808219178,
          82.87671232876713,
          83.9041095890411,
          80.47945205479452,
          80.82191780821918,
          82.87671232876713
         ]
        },
        {
         "boxpoints": "all",
         "legendgroup": "VR",
         "legendgrouptitle": {
          "text": "Vietoris-Rips"
         },
         "marker": {
          "color": "#3D9970"
         },
         "name": " T H1",
         "showlegend": true,
         "text": " T H1",
         "type": "box",
         "width": 0.5,
         "y": [
          83.56164383561644,
          83.9041095890411,
          84.93150684931507,
          81.84931506849315,
          82.53424657534246,
          84.58904109589042,
          83.9041095890411,
          83.9041095890411,
          82.1917808219178,
          82.53424657534246
         ]
        },
        {
         "boxpoints": "all",
         "legendgroup": "VR",
         "legendgrouptitle": {
          "text": "Vietoris-Rips"
         },
         "marker": {
          "color": "#3D9970"
         },
         "name": " M H0",
         "showlegend": true,
         "text": " M H0",
         "type": "box",
         "width": 0.5,
         "y": [
          78.08219178082192,
          79.7945205479452,
          80.82191780821918,
          79.1095890410959,
          77.3972602739726,
          81.5068493150685,
          77.05479452054794,
          79.7945205479452,
          79.7945205479452,
          78.08219178082192
         ]
        },
        {
         "boxpoints": "all",
         "legendgroup": "VR",
         "legendgrouptitle": {
          "text": "Vietoris-Rips"
         },
         "marker": {
          "color": "#3D9970"
         },
         "name": " M H1",
         "showlegend": true,
         "text": " M H1",
         "type": "box",
         "width": 0.5,
         "y": [
          77.73972602739725,
          79.45205479452055,
          80.13698630136986,
          81.5068493150685,
          79.1095890410959,
          82.1917808219178,
          79.1095890410959,
          78.76712328767124,
          78.08219178082192,
          80.47945205479452
         ]
        },
        {
         "boxpoints": "all",
         "legendgroup": "Dowker",
         "legendgrouptitle": {
          "text": "Dowker"
         },
         "marker": {
          "color": "#3D5871"
         },
         "name": " M-T H0",
         "showlegend": true,
         "text": " M-T H0",
         "type": "box",
         "width": 0.5,
         "y": [
          86.3013698630137,
          86.98630136986301,
          86.64383561643835,
          84.58904109589042,
          86.3013698630137,
          88.01369863013699,
          85.27397260273972,
          85.61643835616438,
          83.56164383561644,
          83.56164383561644
         ]
        },
        {
         "boxpoints": "all",
         "legendgroup": "Dowker",
         "legendgrouptitle": {
          "text": "Dowker"
         },
         "marker": {
          "color": "#3D5871"
         },
         "name": " M-T H1",
         "showlegend": true,
         "text": " M-T H1",
         "type": "box",
         "width": 0.5,
         "y": [
          81.5068493150685,
          83.56164383561644,
          81.5068493150685,
          81.16438356164383,
          82.1917808219178,
          83.21917808219177,
          81.84931506849315,
          83.9041095890411,
          83.9041095890411,
          84.58904109589042
         ]
        },
        {
         "boxpoints": "all",
         "legendgroup": "Dowker",
         "legendgrouptitle": {
          "text": "Dowker"
         },
         "marker": {
          "color": "#3D5871"
         },
         "name": " T-V H0",
         "showlegend": true,
         "text": " T-V H0",
         "type": "box",
         "width": 0.5,
         "y": [
          89.38356164383562,
          88.01369863013699,
          87.67123287671232,
          89.38356164383562,
          89.72602739726028,
          88.01369863013699,
          89.72602739726028,
          90.75342465753424,
          88.35616438356165,
          87.32876712328768
         ]
        },
        {
         "boxpoints": "all",
         "legendgroup": "Dowker",
         "legendgrouptitle": {
          "text": "Dowker"
         },
         "marker": {
          "color": "#3D5871"
         },
         "name": " T-V H1",
         "showlegend": true,
         "text": " T-V H1",
         "type": "box",
         "width": 0.5,
         "y": [
          71.57534246575342,
          72.6027397260274,
          71.57534246575342,
          72.6027397260274,
          73.97260273972603,
          70.8904109589041,
          75.34246575342466,
          69.52054794520548,
          71.91780821917808,
          73.28767123287672
         ]
        },
        {
         "boxpoints": "all",
         "legendgroup": "Dowker",
         "legendgrouptitle": {
          "text": "Dowker"
         },
         "marker": {
          "color": "#3D5871"
         },
         "name": " M-V H0",
         "showlegend": true,
         "text": " M-V H0",
         "type": "box",
         "width": 0.5,
         "y": [
          80.47945205479452,
          80.13698630136986,
          80.82191780821918,
          79.1095890410959,
          80.82191780821918,
          81.16438356164383,
          79.1095890410959,
          79.7945205479452,
          80.82191780821918,
          80.47945205479452
         ]
        },
        {
         "boxpoints": "all",
         "legendgroup": "Dowker",
         "legendgrouptitle": {
          "text": "Dowker"
         },
         "marker": {
          "color": "#3D5871"
         },
         "name": " M-V H1",
         "showlegend": true,
         "text": " M-V H1",
         "type": "box",
         "width": 0.5,
         "y": [
          73.28767123287672,
          75.68493150684932,
          73.28767123287672,
          73.63013698630137,
          75.34246575342466,
          71.23287671232876,
          71.91780821917808,
          72.94520547945206,
          72.26027397260275,
          73.63013698630137
         ]
        }
       ],
       "layout": {
        "autosize": false,
        "font": {
         "size": 16
        },
        "legend": {
         "font": {
          "size": 13
         },
         "tracegroupgap": 10
        },
        "shapes": [
         {
          "fillcolor": "red",
          "line": {
           "width": 0
          },
          "opacity": 0.1,
          "type": "rect",
          "x0": -1,
          "x1": 12,
          "xref": "x",
          "y0": 79.45205479452055,
          "y1": 83.9041095890411,
          "yref": "y"
         },
         {
          "line": {
           "color": "red",
           "width": 2
          },
          "opacity": 1,
          "type": "line",
          "x0": -1,
          "x1": 12,
          "xref": "x",
          "y0": 81.84931506849315,
          "y1": 81.84931506849315,
          "yref": "y"
         }
        ],
        "template": {
         "data": {
          "bar": [
           {
            "error_x": {
             "color": "#2a3f5f"
            },
            "error_y": {
             "color": "#2a3f5f"
            },
            "marker": {
             "line": {
              "color": "#E5ECF6",
              "width": 0.5
             },
             "pattern": {
              "fillmode": "overlay",
              "size": 10,
              "solidity": 0.2
             }
            },
            "type": "bar"
           }
          ],
          "barpolar": [
           {
            "marker": {
             "line": {
              "color": "#E5ECF6",
              "width": 0.5
             },
             "pattern": {
              "fillmode": "overlay",
              "size": 10,
              "solidity": 0.2
             }
            },
            "type": "barpolar"
           }
          ],
          "carpet": [
           {
            "aaxis": {
             "endlinecolor": "#2a3f5f",
             "gridcolor": "white",
             "linecolor": "white",
             "minorgridcolor": "white",
             "startlinecolor": "#2a3f5f"
            },
            "baxis": {
             "endlinecolor": "#2a3f5f",
             "gridcolor": "white",
             "linecolor": "white",
             "minorgridcolor": "white",
             "startlinecolor": "#2a3f5f"
            },
            "type": "carpet"
           }
          ],
          "choropleth": [
           {
            "colorbar": {
             "outlinewidth": 0,
             "ticks": ""
            },
            "type": "choropleth"
           }
          ],
          "contour": [
           {
            "colorbar": {
             "outlinewidth": 0,
             "ticks": ""
            },
            "colorscale": [
             [
              0,
              "#0d0887"
             ],
             [
              0.1111111111111111,
              "#46039f"
             ],
             [
              0.2222222222222222,
              "#7201a8"
             ],
             [
              0.3333333333333333,
              "#9c179e"
             ],
             [
              0.4444444444444444,
              "#bd3786"
             ],
             [
              0.5555555555555556,
              "#d8576b"
             ],
             [
              0.6666666666666666,
              "#ed7953"
             ],
             [
              0.7777777777777778,
              "#fb9f3a"
             ],
             [
              0.8888888888888888,
              "#fdca26"
             ],
             [
              1,
              "#f0f921"
             ]
            ],
            "type": "contour"
           }
          ],
          "contourcarpet": [
           {
            "colorbar": {
             "outlinewidth": 0,
             "ticks": ""
            },
            "type": "contourcarpet"
           }
          ],
          "heatmap": [
           {
            "colorbar": {
             "outlinewidth": 0,
             "ticks": ""
            },
            "colorscale": [
             [
              0,
              "#0d0887"
             ],
             [
              0.1111111111111111,
              "#46039f"
             ],
             [
              0.2222222222222222,
              "#7201a8"
             ],
             [
              0.3333333333333333,
              "#9c179e"
             ],
             [
              0.4444444444444444,
              "#bd3786"
             ],
             [
              0.5555555555555556,
              "#d8576b"
             ],
             [
              0.6666666666666666,
              "#ed7953"
             ],
             [
              0.7777777777777778,
              "#fb9f3a"
             ],
             [
              0.8888888888888888,
              "#fdca26"
             ],
             [
              1,
              "#f0f921"
             ]
            ],
            "type": "heatmap"
           }
          ],
          "heatmapgl": [
           {
            "colorbar": {
             "outlinewidth": 0,
             "ticks": ""
            },
            "colorscale": [
             [
              0,
              "#0d0887"
             ],
             [
              0.1111111111111111,
              "#46039f"
             ],
             [
              0.2222222222222222,
              "#7201a8"
             ],
             [
              0.3333333333333333,
              "#9c179e"
             ],
             [
              0.4444444444444444,
              "#bd3786"
             ],
             [
              0.5555555555555556,
              "#d8576b"
             ],
             [
              0.6666666666666666,
              "#ed7953"
             ],
             [
              0.7777777777777778,
              "#fb9f3a"
             ],
             [
              0.8888888888888888,
              "#fdca26"
             ],
             [
              1,
              "#f0f921"
             ]
            ],
            "type": "heatmapgl"
           }
          ],
          "histogram": [
           {
            "marker": {
             "pattern": {
              "fillmode": "overlay",
              "size": 10,
              "solidity": 0.2
             }
            },
            "type": "histogram"
           }
          ],
          "histogram2d": [
           {
            "colorbar": {
             "outlinewidth": 0,
             "ticks": ""
            },
            "colorscale": [
             [
              0,
              "#0d0887"
             ],
             [
              0.1111111111111111,
              "#46039f"
             ],
             [
              0.2222222222222222,
              "#7201a8"
             ],
             [
              0.3333333333333333,
              "#9c179e"
             ],
             [
              0.4444444444444444,
              "#bd3786"
             ],
             [
              0.5555555555555556,
              "#d8576b"
             ],
             [
              0.6666666666666666,
              "#ed7953"
             ],
             [
              0.7777777777777778,
              "#fb9f3a"
             ],
             [
              0.8888888888888888,
              "#fdca26"
             ],
             [
              1,
              "#f0f921"
             ]
            ],
            "type": "histogram2d"
           }
          ],
          "histogram2dcontour": [
           {
            "colorbar": {
             "outlinewidth": 0,
             "ticks": ""
            },
            "colorscale": [
             [
              0,
              "#0d0887"
             ],
             [
              0.1111111111111111,
              "#46039f"
             ],
             [
              0.2222222222222222,
              "#7201a8"
             ],
             [
              0.3333333333333333,
              "#9c179e"
             ],
             [
              0.4444444444444444,
              "#bd3786"
             ],
             [
              0.5555555555555556,
              "#d8576b"
             ],
             [
              0.6666666666666666,
              "#ed7953"
             ],
             [
              0.7777777777777778,
              "#fb9f3a"
             ],
             [
              0.8888888888888888,
              "#fdca26"
             ],
             [
              1,
              "#f0f921"
             ]
            ],
            "type": "histogram2dcontour"
           }
          ],
          "mesh3d": [
           {
            "colorbar": {
             "outlinewidth": 0,
             "ticks": ""
            },
            "type": "mesh3d"
           }
          ],
          "parcoords": [
           {
            "line": {
             "colorbar": {
              "outlinewidth": 0,
              "ticks": ""
             }
            },
            "type": "parcoords"
           }
          ],
          "pie": [
           {
            "automargin": true,
            "type": "pie"
           }
          ],
          "scatter": [
           {
            "fillpattern": {
             "fillmode": "overlay",
             "size": 10,
             "solidity": 0.2
            },
            "type": "scatter"
           }
          ],
          "scatter3d": [
           {
            "line": {
             "colorbar": {
              "outlinewidth": 0,
              "ticks": ""
             }
            },
            "marker": {
             "colorbar": {
              "outlinewidth": 0,
              "ticks": ""
             }
            },
            "type": "scatter3d"
           }
          ],
          "scattercarpet": [
           {
            "marker": {
             "colorbar": {
              "outlinewidth": 0,
              "ticks": ""
             }
            },
            "type": "scattercarpet"
           }
          ],
          "scattergeo": [
           {
            "marker": {
             "colorbar": {
              "outlinewidth": 0,
              "ticks": ""
             }
            },
            "type": "scattergeo"
           }
          ],
          "scattergl": [
           {
            "marker": {
             "colorbar": {
              "outlinewidth": 0,
              "ticks": ""
             }
            },
            "type": "scattergl"
           }
          ],
          "scattermapbox": [
           {
            "marker": {
             "colorbar": {
              "outlinewidth": 0,
              "ticks": ""
             }
            },
            "type": "scattermapbox"
           }
          ],
          "scatterpolar": [
           {
            "marker": {
             "colorbar": {
              "outlinewidth": 0,
              "ticks": ""
             }
            },
            "type": "scatterpolar"
           }
          ],
          "scatterpolargl": [
           {
            "marker": {
             "colorbar": {
              "outlinewidth": 0,
              "ticks": ""
             }
            },
            "type": "scatterpolargl"
           }
          ],
          "scatterternary": [
           {
            "marker": {
             "colorbar": {
              "outlinewidth": 0,
              "ticks": ""
             }
            },
            "type": "scatterternary"
           }
          ],
          "surface": [
           {
            "colorbar": {
             "outlinewidth": 0,
             "ticks": ""
            },
            "colorscale": [
             [
              0,
              "#0d0887"
             ],
             [
              0.1111111111111111,
              "#46039f"
             ],
             [
              0.2222222222222222,
              "#7201a8"
             ],
             [
              0.3333333333333333,
              "#9c179e"
             ],
             [
              0.4444444444444444,
              "#bd3786"
             ],
             [
              0.5555555555555556,
              "#d8576b"
             ],
             [
              0.6666666666666666,
              "#ed7953"
             ],
             [
              0.7777777777777778,
              "#fb9f3a"
             ],
             [
              0.8888888888888888,
              "#fdca26"
             ],
             [
              1,
              "#f0f921"
             ]
            ],
            "type": "surface"
           }
          ],
          "table": [
           {
            "cells": {
             "fill": {
              "color": "#EBF0F8"
             },
             "line": {
              "color": "white"
             }
            },
            "header": {
             "fill": {
              "color": "#C8D4E3"
             },
             "line": {
              "color": "white"
             }
            },
            "type": "table"
           }
          ]
         },
         "layout": {
          "annotationdefaults": {
           "arrowcolor": "#2a3f5f",
           "arrowhead": 0,
           "arrowwidth": 1
          },
          "autotypenumbers": "strict",
          "coloraxis": {
           "colorbar": {
            "outlinewidth": 0,
            "ticks": ""
           }
          },
          "colorscale": {
           "diverging": [
            [
             0,
             "#8e0152"
            ],
            [
             0.1,
             "#c51b7d"
            ],
            [
             0.2,
             "#de77ae"
            ],
            [
             0.3,
             "#f1b6da"
            ],
            [
             0.4,
             "#fde0ef"
            ],
            [
             0.5,
             "#f7f7f7"
            ],
            [
             0.6,
             "#e6f5d0"
            ],
            [
             0.7,
             "#b8e186"
            ],
            [
             0.8,
             "#7fbc41"
            ],
            [
             0.9,
             "#4d9221"
            ],
            [
             1,
             "#276419"
            ]
           ],
           "sequential": [
            [
             0,
             "#0d0887"
            ],
            [
             0.1111111111111111,
             "#46039f"
            ],
            [
             0.2222222222222222,
             "#7201a8"
            ],
            [
             0.3333333333333333,
             "#9c179e"
            ],
            [
             0.4444444444444444,
             "#bd3786"
            ],
            [
             0.5555555555555556,
             "#d8576b"
            ],
            [
             0.6666666666666666,
             "#ed7953"
            ],
            [
             0.7777777777777778,
             "#fb9f3a"
            ],
            [
             0.8888888888888888,
             "#fdca26"
            ],
            [
             1,
             "#f0f921"
            ]
           ],
           "sequentialminus": [
            [
             0,
             "#0d0887"
            ],
            [
             0.1111111111111111,
             "#46039f"
            ],
            [
             0.2222222222222222,
             "#7201a8"
            ],
            [
             0.3333333333333333,
             "#9c179e"
            ],
            [
             0.4444444444444444,
             "#bd3786"
            ],
            [
             0.5555555555555556,
             "#d8576b"
            ],
            [
             0.6666666666666666,
             "#ed7953"
            ],
            [
             0.7777777777777778,
             "#fb9f3a"
            ],
            [
             0.8888888888888888,
             "#fdca26"
            ],
            [
             1,
             "#f0f921"
            ]
           ]
          },
          "colorway": [
           "#636efa",
           "#EF553B",
           "#00cc96",
           "#ab63fa",
           "#FFA15A",
           "#19d3f3",
           "#FF6692",
           "#B6E880",
           "#FF97FF",
           "#FECB52"
          ],
          "font": {
           "color": "#2a3f5f"
          },
          "geo": {
           "bgcolor": "white",
           "lakecolor": "white",
           "landcolor": "#E5ECF6",
           "showlakes": true,
           "showland": true,
           "subunitcolor": "white"
          },
          "hoverlabel": {
           "align": "left"
          },
          "hovermode": "closest",
          "mapbox": {
           "style": "light"
          },
          "paper_bgcolor": "white",
          "plot_bgcolor": "#E5ECF6",
          "polar": {
           "angularaxis": {
            "gridcolor": "white",
            "linecolor": "white",
            "ticks": ""
           },
           "bgcolor": "#E5ECF6",
           "radialaxis": {
            "gridcolor": "white",
            "linecolor": "white",
            "ticks": ""
           }
          },
          "scene": {
           "xaxis": {
            "backgroundcolor": "#E5ECF6",
            "gridcolor": "white",
            "gridwidth": 2,
            "linecolor": "white",
            "showbackground": true,
            "ticks": "",
            "zerolinecolor": "white"
           },
           "yaxis": {
            "backgroundcolor": "#E5ECF6",
            "gridcolor": "white",
            "gridwidth": 2,
            "linecolor": "white",
            "showbackground": true,
            "ticks": "",
            "zerolinecolor": "white"
           },
           "zaxis": {
            "backgroundcolor": "#E5ECF6",
            "gridcolor": "white",
            "gridwidth": 2,
            "linecolor": "white",
            "showbackground": true,
            "ticks": "",
            "zerolinecolor": "white"
           }
          },
          "shapedefaults": {
           "line": {
            "color": "#2a3f5f"
           }
          },
          "ternary": {
           "aaxis": {
            "gridcolor": "white",
            "linecolor": "white",
            "ticks": ""
           },
           "baxis": {
            "gridcolor": "white",
            "linecolor": "white",
            "ticks": ""
           },
           "bgcolor": "#E5ECF6",
           "caxis": {
            "gridcolor": "white",
            "linecolor": "white",
            "ticks": ""
           }
          },
          "title": {
           "x": 0.05
          },
          "xaxis": {
           "automargin": true,
           "gridcolor": "white",
           "linecolor": "white",
           "ticks": "",
           "title": {
            "standoff": 15
           },
           "zerolinecolor": "white",
           "zerolinewidth": 2
          },
          "yaxis": {
           "automargin": true,
           "gridcolor": "white",
           "linecolor": "white",
           "ticks": "",
           "title": {
            "standoff": 15
           },
           "zerolinecolor": "white",
           "zerolinewidth": 2
          }
         }
        },
        "width": 1200,
        "xaxis": {
         "gridwidth": 1,
         "showgrid": true,
         "title": {
          "text": "Method"
         }
        },
        "yaxis": {
         "dtick": 2,
         "gridwidth": 1,
         "range": [
          68,
          93
         ],
         "showgrid": true,
         "title": {
          "text": "Accuracy"
         }
        }
       }
      }
     },
     "metadata": {},
     "output_type": "display_data"
    }
   ],
   "source": [
    "fig = go.Figure()\n",
    "\n",
    "for i in range(12):\n",
    "    fig.add_trace(\n",
    "        go.Box(\n",
    "            y=accs[i],\n",
    "            name = names[i],\n",
    "            marker_color=clrs[i],\n",
    "            boxpoints='all',\n",
    "            legendgroup=grp[i],\n",
    "            legendgrouptitle_text=titles[i],\n",
    "            text= names[i],\n",
    "            #whiskerwidth=.9,\n",
    "            showlegend=True,\n",
    "            width=.5\n",
    "        )\n",
    "    )\n",
    "\n",
    "simple_min = np.min(simple)\n",
    "simple_median = np.median(simple)\n",
    "simple_max = np.max(simple)\n",
    "\n",
    "simple_box = go.layout.Shape(\n",
    "    type=\"rect\",\n",
    "    xref=\"x\",\n",
    "    yref=\"y\",\n",
    "    x0=-1,\n",
    "    y0=simple_min,\n",
    "    x1=12,\n",
    "    y1=simple_max,\n",
    "    line=dict(color=None,width=0),\n",
    "    fillcolor=\"red\",\n",
    "    opacity=0.1\n",
    ")\n",
    "\n",
    "simple_median_marker = go.layout.Shape(\n",
    "    type=\"line\",\n",
    "    xref=\"x\",\n",
    "    yref=\"y\",\n",
    "    x0=-1,\n",
    "    y0=simple_median,\n",
    "    x1=12,\n",
    "    y1=simple_median,\n",
    "    line=dict(color=\"red\", width=2),\n",
    "    opacity = 1\n",
    ")\n",
    "\n",
    "fig.add_shape(simple_box)\n",
    "fig.add_shape(simple_median_marker)\n",
    "fig.update_layout(legend_tracegroupgap=10,legend=dict(font=dict(size=13)))\n",
    "fig.update_xaxes(title=\"Method\")\n",
    "fig.update_yaxes(title=\"Accuracy\")\n",
    "fig.update_layout(font=dict(size=16),yaxis=dict(showgrid=True,gridwidth=1,dtick=2,range=(68,93)),xaxis=dict(showgrid=True,gridwidth=1)\n",
    ")\n",
    "fig.update_layout(autosize=False,width=1200)\n",
    "fig.show()\n",
    "#fig.write_image(\"svm.pdf\",engine=\"kaleido\")"
   ]
  }
 ],
 "metadata": {
  "kernelspec": {
   "display_name": "Python 3",
   "language": "python",
   "name": "python3"
  },
  "language_info": {
   "codemirror_mode": {
    "name": "ipython",
    "version": 3
   },
   "file_extension": ".py",
   "mimetype": "text/x-python",
   "name": "python",
   "nbconvert_exporter": "python",
   "pygments_lexer": "ipython3",
   "version": "3.10.11"
  },
  "orig_nbformat": 4
 },
 "nbformat": 4,
 "nbformat_minor": 2
}
