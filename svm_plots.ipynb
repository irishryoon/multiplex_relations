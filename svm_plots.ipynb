{
 "cells": [
  {
   "cell_type": "code",
   "execution_count": 15,
   "metadata": {},
   "outputs": [],
   "source": [
    "import glob\n",
    "import matplotlib.pyplot as plt\n",
    "import numpy as np\n",
    "import os\n",
    "import pandas as pd\n",
    "import plotly.express as px\n",
    "import plotly.graph_objects as go\n",
    "import tqdm\n",
    "import pickle\n",
    "import warnings\n",
    "from plotly.subplots import make_subplots\n",
    "warnings.simplefilter(\"ignore\")"
   ]
  },
  {
   "cell_type": "code",
   "execution_count": 1,
   "metadata": {},
   "outputs": [],
   "source": [
    "accuracies_vr_tumour_h0 = [\n",
    "76.63551401869158,\n",
    "81.30841121495327,\n",
    "82.2429906542056,\n",
    "78.50467289719626,\n",
    "80.37383177570094,\n",
    "77.57009345794393,\n",
    "80.37383177570094,\n",
    "85.04672897196261,\n",
    "76.63551401869158,\n",
    "77.57009345794393\n",
    "]"
   ]
  },
  {
   "cell_type": "code",
   "execution_count": 2,
   "metadata": {},
   "outputs": [],
   "source": [
    "accuracies_vr_tumour_h1 = [\n",
    "74.76635514018692,\n",
    "79.43925233644859,\n",
    "80.37383177570094,\n",
    "73.83177570093457,\n",
    "80.37383177570094,\n",
    "78.50467289719626,\n",
    "77.57009345794393,\n",
    "73.83177570093457,\n",
    "74.76635514018692,\n",
    "81.30841121495327\n",
    "]"
   ]
  },
  {
   "cell_type": "code",
   "execution_count": 3,
   "metadata": {},
   "outputs": [],
   "source": [
    "accuracies_vr_macrophage_h0 = [\n",
    "79.43925233644859,\n",
    "76.63551401869158,\n",
    "85.98130841121495,\n",
    "76.63551401869158,\n",
    "74.76635514018692,\n",
    "78.50467289719626,\n",
    "76.63551401869158,\n",
    "73.83177570093457,\n",
    "72.89719626168224,\n",
    "74.76635514018692\n",
    "]"
   ]
  },
  {
   "cell_type": "code",
   "execution_count": 4,
   "metadata": {},
   "outputs": [],
   "source": [
    "accuracies_vr_macrophage_h1 =[\n",
    "74.76635514018692,\n",
    "69.1588785046729,\n",
    "75.70093457943925,\n",
    "66.35514018691589,\n",
    "71.02803738317756,\n",
    "67.28971962616822,\n",
    "65.42056074766354,\n",
    "80.37383177570094,\n",
    "67.28971962616822,\n",
    "77.57009345794393\n",
    "]"
   ]
  },
  {
   "cell_type": "code",
   "execution_count": 5,
   "metadata": {},
   "outputs": [],
   "source": [
    "accuracies_dowker_mt_h0=[\n",
    "91.58878504672897,\n",
    "86.91588785046729,\n",
    "82.2429906542056,\n",
    "84.11214953271028,\n",
    "76.63551401869158,\n",
    "81.30841121495327,\n",
    "78.50467289719626,\n",
    "83.17757009345794,\n",
    "85.04672897196261,\n",
    "80.37383177570094\n",
    "]"
   ]
  },
  {
   "cell_type": "code",
   "execution_count": 6,
   "metadata": {},
   "outputs": [],
   "source": [
    "accuracies_dowker_mt_h1=[\n",
    "81.30841121495327,\n",
    "80.37383177570094,\n",
    "77.57009345794393,\n",
    "71.96261682242991,\n",
    "73.83177570093457,\n",
    "76.63551401869158,\n",
    "77.57009345794393,\n",
    "79.43925233644859,\n",
    "85.04672897196261,\n",
    "80.37383177570094\n",
    "]"
   ]
  },
  {
   "cell_type": "code",
   "execution_count": 7,
   "metadata": {},
   "outputs": [],
   "source": [
    "accuracies_dowker_tv_h0=[\n",
    "77.57009345794393,\n",
    "71.96261682242991,\n",
    "78.50467289719626,\n",
    "74.76635514018692,\n",
    "75.70093457943925,\n",
    "80.37383177570094,\n",
    "80.37383177570094,\n",
    "75.70093457943925,\n",
    "75.70093457943925,\n",
    "75.70093457943925\n",
    "]"
   ]
  },
  {
   "cell_type": "code",
   "execution_count": 8,
   "metadata": {},
   "outputs": [],
   "source": [
    "accuracies_dowker_tv_h1=[\n",
    "63.55140186915887,\n",
    "62.616822429906534,\n",
    "58.87850467289719,\n",
    "54.20560747663551,\n",
    "57.943925233644855,\n",
    "60.747663551401864,\n",
    "68.22429906542055,\n",
    "56.074766355140184,\n",
    "51.4018691588785,\n",
    "56.074766355140184\n",
    "]"
   ]
  },
  {
   "cell_type": "code",
   "execution_count": 9,
   "metadata": {},
   "outputs": [],
   "source": [
    "accuracies_dowker_mv_h0=[\n",
    "71.96261682242991,\n",
    "76.63551401869158,\n",
    "82.2429906542056,\n",
    "77.57009345794393,\n",
    "76.63551401869158,\n",
    "77.57009345794393,\n",
    "71.96261682242991,\n",
    "84.11214953271028,\n",
    "82.2429906542056,\n",
    "75.70093457943925\n",
    "]"
   ]
  },
  {
   "cell_type": "code",
   "execution_count": 10,
   "metadata": {},
   "outputs": [],
   "source": [
    "accuracies_dowker_mv_h1=[\n",
    "66.35514018691589,\n",
    "67.28971962616822,\n",
    "64.48598130841121,\n",
    "66.35514018691589,\n",
    "68.22429906542055,\n",
    "65.42056074766354,\n",
    "59.813084112149525,\n",
    "66.35514018691589,\n",
    "57.009345794392516,\n",
    "62.616822429906534\n",
    "]"
   ]
  },
  {
   "cell_type": "code",
   "execution_count": 11,
   "metadata": {},
   "outputs": [],
   "source": [
    "accuracies_dowkertime_m_h0=[\n",
    "71.96261682242991,\n",
    "67.28971962616822,\n",
    "82.2429906542056,\n",
    "74.76635514018692,\n",
    "80.37383177570094,\n",
    "76.63551401869158,\n",
    "84.11214953271028,\n",
    "79.43925233644859,\n",
    "84.11214953271028,\n",
    "80.37383177570094\n",
    "]"
   ]
  },
  {
   "cell_type": "code",
   "execution_count": 12,
   "metadata": {},
   "outputs": [],
   "source": [
    "accuracies_dowkertime_m_h1=[\n",
    "84.11214953271028,\n",
    "75.70093457943925,\n",
    "72.89719626168224,\n",
    "72.89719626168224,\n",
    "76.63551401869158,\n",
    "77.57009345794393,\n",
    "71.96261682242991,\n",
    "73.83177570093457,\n",
    "70.09345794392523,\n",
    "73.83177570093457\n",
    "]"
   ]
  },
  {
   "cell_type": "code",
   "execution_count": 13,
   "metadata": {},
   "outputs": [],
   "source": [
    "accuracies_dowkertime_t_h0=[\n",
    "73.83177570093457,\n",
    "71.02803738317756,\n",
    "73.83177570093457,\n",
    "76.63551401869158,\n",
    "78.50467289719626,\n",
    "71.96261682242991,\n",
    "81.30841121495327,\n",
    "79.43925233644859,\n",
    "76.63551401869158,\n",
    "78.50467289719626\n",
    "]"
   ]
  },
  {
   "cell_type": "code",
   "execution_count": 14,
   "metadata": {},
   "outputs": [],
   "source": [
    "accuracies_dowkertime_t_h1=[\n",
    "77.57009345794393,\n",
    "81.30841121495327,\n",
    "80.37383177570094,\n",
    "75.70093457943925,\n",
    "80.37383177570094,\n",
    "71.96261682242991,\n",
    "82.2429906542056,\n",
    "78.50467289719626,\n",
    "84.11214953271028,\n",
    "79.43925233644859\n",
    "]"
   ]
  },
  {
   "cell_type": "code",
   "execution_count": 111,
   "metadata": {},
   "outputs": [],
   "source": [
    "accs = [accuracies_vr_tumour_h0,\n",
    "        accuracies_vr_tumour_h1,\n",
    "        accuracies_vr_macrophage_h0,\n",
    "        accuracies_vr_macrophage_h1,\n",
    "        accuracies_dowker_mt_h0,\n",
    "        accuracies_dowker_mt_h1,\n",
    "        accuracies_dowker_tv_h0,\n",
    "        accuracies_dowker_tv_h1,\n",
    "        accuracies_dowker_mv_h0,\n",
    "        accuracies_dowker_mv_h1,\n",
    "        accuracies_dowkertime_m_h0,\n",
    "        accuracies_dowkertime_m_h1,\n",
    "        accuracies_dowkertime_t_h0,\n",
    "        accuracies_dowkertime_t_h1  \n",
    "]\n",
    "names = [\n",
    "\"VR T H0\",\n",
    "\"VR T H1\",\n",
    "\"VR M H0\",\n",
    "\"VR M H1\",\n",
    "\"D M-T H0\",\n",
    "\"D M-T H1\",\n",
    "\"D T-V H0\",\n",
    "\"D T-V H1\",\n",
    "\"D M-V H0\",\n",
    "\"D M-V H1\",\n",
    "\"time M H0\",\n",
    "\"time M H1\",\n",
    "\"time T H0\",\n",
    "\"time T H1\"\n",
    "]\n",
    "clrs = [\n",
    "'#3D9970',\n",
    "'#3D9970',\n",
    "'#3D9970',\n",
    "'#3D9970',\n",
    "'#3D5871',\n",
    "'#3D5871',\n",
    "'#3D5871',\n",
    "'#3D5871',\n",
    "'#3D5871',\n",
    "'#3D5871',\n",
    "'#5F1999',\n",
    "'#5F1999',\n",
    "'#5F1999',\n",
    "'#5F1999'\n",
    "]"
   ]
  },
  {
   "cell_type": "code",
   "execution_count": 112,
   "metadata": {},
   "outputs": [
    {
     "data": {
      "application/vnd.plotly.v1+json": {
       "config": {
        "plotlyServerURL": "https://plot.ly"
       },
       "data": [
        {
         "marker": {
          "color": "#3D9970"
         },
         "name": "VR T H0",
         "type": "box",
         "y": [
          76.63551401869158,
          81.30841121495327,
          82.2429906542056,
          78.50467289719626,
          80.37383177570094,
          77.57009345794393,
          80.37383177570094,
          85.04672897196261,
          76.63551401869158,
          77.57009345794393
         ]
        },
        {
         "marker": {
          "color": "#3D9970"
         },
         "name": "VR T H1",
         "type": "box",
         "y": [
          74.76635514018692,
          79.43925233644859,
          80.37383177570094,
          73.83177570093457,
          80.37383177570094,
          78.50467289719626,
          77.57009345794393,
          73.83177570093457,
          74.76635514018692,
          81.30841121495327
         ]
        },
        {
         "marker": {
          "color": "#3D9970"
         },
         "name": "VR M H0",
         "type": "box",
         "y": [
          79.43925233644859,
          76.63551401869158,
          85.98130841121495,
          76.63551401869158,
          74.76635514018692,
          78.50467289719626,
          76.63551401869158,
          73.83177570093457,
          72.89719626168224,
          74.76635514018692
         ]
        },
        {
         "marker": {
          "color": "#3D9970"
         },
         "name": "VR M H1",
         "type": "box",
         "y": [
          74.76635514018692,
          69.1588785046729,
          75.70093457943925,
          66.35514018691589,
          71.02803738317756,
          67.28971962616822,
          65.42056074766354,
          80.37383177570094,
          67.28971962616822,
          77.57009345794393
         ]
        },
        {
         "marker": {
          "color": "#3D5871"
         },
         "name": "D M-T H0",
         "type": "box",
         "y": [
          91.58878504672897,
          86.91588785046729,
          82.2429906542056,
          84.11214953271028,
          76.63551401869158,
          81.30841121495327,
          78.50467289719626,
          83.17757009345794,
          85.04672897196261,
          80.37383177570094
         ]
        },
        {
         "marker": {
          "color": "#3D5871"
         },
         "name": "D M-T H1",
         "type": "box",
         "y": [
          81.30841121495327,
          80.37383177570094,
          77.57009345794393,
          71.96261682242991,
          73.83177570093457,
          76.63551401869158,
          77.57009345794393,
          79.43925233644859,
          85.04672897196261,
          80.37383177570094
         ]
        },
        {
         "marker": {
          "color": "#3D5871"
         },
         "name": "D T-V H0",
         "type": "box",
         "y": [
          77.57009345794393,
          71.96261682242991,
          78.50467289719626,
          74.76635514018692,
          75.70093457943925,
          80.37383177570094,
          80.37383177570094,
          75.70093457943925,
          75.70093457943925,
          75.70093457943925
         ]
        },
        {
         "marker": {
          "color": "#3D5871"
         },
         "name": "D T-V H1",
         "type": "box",
         "y": [
          63.55140186915887,
          62.616822429906534,
          58.87850467289719,
          54.20560747663551,
          57.943925233644855,
          60.747663551401864,
          68.22429906542055,
          56.074766355140184,
          51.4018691588785,
          56.074766355140184
         ]
        },
        {
         "marker": {
          "color": "#3D5871"
         },
         "name": "D M-V H0",
         "type": "box",
         "y": [
          71.96261682242991,
          76.63551401869158,
          82.2429906542056,
          77.57009345794393,
          76.63551401869158,
          77.57009345794393,
          71.96261682242991,
          84.11214953271028,
          82.2429906542056,
          75.70093457943925
         ]
        },
        {
         "marker": {
          "color": "#3D5871"
         },
         "name": "D M-V H1",
         "type": "box",
         "y": [
          66.35514018691589,
          67.28971962616822,
          64.48598130841121,
          66.35514018691589,
          68.22429906542055,
          65.42056074766354,
          59.813084112149525,
          66.35514018691589,
          57.009345794392516,
          62.616822429906534
         ]
        },
        {
         "marker": {
          "color": "#5F1999"
         },
         "name": "time M H0",
         "type": "box",
         "y": [
          71.96261682242991,
          67.28971962616822,
          82.2429906542056,
          74.76635514018692,
          80.37383177570094,
          76.63551401869158,
          84.11214953271028,
          79.43925233644859,
          84.11214953271028,
          80.37383177570094
         ]
        },
        {
         "marker": {
          "color": "#5F1999"
         },
         "name": "time M H1",
         "type": "box",
         "y": [
          84.11214953271028,
          75.70093457943925,
          72.89719626168224,
          72.89719626168224,
          76.63551401869158,
          77.57009345794393,
          71.96261682242991,
          73.83177570093457,
          70.09345794392523,
          73.83177570093457
         ]
        },
        {
         "marker": {
          "color": "#5F1999"
         },
         "name": "time T H0",
         "type": "box",
         "y": [
          73.83177570093457,
          71.02803738317756,
          73.83177570093457,
          76.63551401869158,
          78.50467289719626,
          71.96261682242991,
          81.30841121495327,
          79.43925233644859,
          76.63551401869158,
          78.50467289719626
         ]
        },
        {
         "marker": {
          "color": "#5F1999"
         },
         "name": "time T H1",
         "type": "box",
         "y": [
          77.57009345794393,
          81.30841121495327,
          80.37383177570094,
          75.70093457943925,
          80.37383177570094,
          71.96261682242991,
          82.2429906542056,
          78.50467289719626,
          84.11214953271028,
          79.43925233644859
         ]
        }
       ],
       "layout": {
        "template": {
         "data": {
          "bar": [
           {
            "error_x": {
             "color": "#2a3f5f"
            },
            "error_y": {
             "color": "#2a3f5f"
            },
            "marker": {
             "line": {
              "color": "#E5ECF6",
              "width": 0.5
             },
             "pattern": {
              "fillmode": "overlay",
              "size": 10,
              "solidity": 0.2
             }
            },
            "type": "bar"
           }
          ],
          "barpolar": [
           {
            "marker": {
             "line": {
              "color": "#E5ECF6",
              "width": 0.5
             },
             "pattern": {
              "fillmode": "overlay",
              "size": 10,
              "solidity": 0.2
             }
            },
            "type": "barpolar"
           }
          ],
          "carpet": [
           {
            "aaxis": {
             "endlinecolor": "#2a3f5f",
             "gridcolor": "white",
             "linecolor": "white",
             "minorgridcolor": "white",
             "startlinecolor": "#2a3f5f"
            },
            "baxis": {
             "endlinecolor": "#2a3f5f",
             "gridcolor": "white",
             "linecolor": "white",
             "minorgridcolor": "white",
             "startlinecolor": "#2a3f5f"
            },
            "type": "carpet"
           }
          ],
          "choropleth": [
           {
            "colorbar": {
             "outlinewidth": 0,
             "ticks": ""
            },
            "type": "choropleth"
           }
          ],
          "contour": [
           {
            "colorbar": {
             "outlinewidth": 0,
             "ticks": ""
            },
            "colorscale": [
             [
              0,
              "#0d0887"
             ],
             [
              0.1111111111111111,
              "#46039f"
             ],
             [
              0.2222222222222222,
              "#7201a8"
             ],
             [
              0.3333333333333333,
              "#9c179e"
             ],
             [
              0.4444444444444444,
              "#bd3786"
             ],
             [
              0.5555555555555556,
              "#d8576b"
             ],
             [
              0.6666666666666666,
              "#ed7953"
             ],
             [
              0.7777777777777778,
              "#fb9f3a"
             ],
             [
              0.8888888888888888,
              "#fdca26"
             ],
             [
              1,
              "#f0f921"
             ]
            ],
            "type": "contour"
           }
          ],
          "contourcarpet": [
           {
            "colorbar": {
             "outlinewidth": 0,
             "ticks": ""
            },
            "type": "contourcarpet"
           }
          ],
          "heatmap": [
           {
            "colorbar": {
             "outlinewidth": 0,
             "ticks": ""
            },
            "colorscale": [
             [
              0,
              "#0d0887"
             ],
             [
              0.1111111111111111,
              "#46039f"
             ],
             [
              0.2222222222222222,
              "#7201a8"
             ],
             [
              0.3333333333333333,
              "#9c179e"
             ],
             [
              0.4444444444444444,
              "#bd3786"
             ],
             [
              0.5555555555555556,
              "#d8576b"
             ],
             [
              0.6666666666666666,
              "#ed7953"
             ],
             [
              0.7777777777777778,
              "#fb9f3a"
             ],
             [
              0.8888888888888888,
              "#fdca26"
             ],
             [
              1,
              "#f0f921"
             ]
            ],
            "type": "heatmap"
           }
          ],
          "heatmapgl": [
           {
            "colorbar": {
             "outlinewidth": 0,
             "ticks": ""
            },
            "colorscale": [
             [
              0,
              "#0d0887"
             ],
             [
              0.1111111111111111,
              "#46039f"
             ],
             [
              0.2222222222222222,
              "#7201a8"
             ],
             [
              0.3333333333333333,
              "#9c179e"
             ],
             [
              0.4444444444444444,
              "#bd3786"
             ],
             [
              0.5555555555555556,
              "#d8576b"
             ],
             [
              0.6666666666666666,
              "#ed7953"
             ],
             [
              0.7777777777777778,
              "#fb9f3a"
             ],
             [
              0.8888888888888888,
              "#fdca26"
             ],
             [
              1,
              "#f0f921"
             ]
            ],
            "type": "heatmapgl"
           }
          ],
          "histogram": [
           {
            "marker": {
             "pattern": {
              "fillmode": "overlay",
              "size": 10,
              "solidity": 0.2
             }
            },
            "type": "histogram"
           }
          ],
          "histogram2d": [
           {
            "colorbar": {
             "outlinewidth": 0,
             "ticks": ""
            },
            "colorscale": [
             [
              0,
              "#0d0887"
             ],
             [
              0.1111111111111111,
              "#46039f"
             ],
             [
              0.2222222222222222,
              "#7201a8"
             ],
             [
              0.3333333333333333,
              "#9c179e"
             ],
             [
              0.4444444444444444,
              "#bd3786"
             ],
             [
              0.5555555555555556,
              "#d8576b"
             ],
             [
              0.6666666666666666,
              "#ed7953"
             ],
             [
              0.7777777777777778,
              "#fb9f3a"
             ],
             [
              0.8888888888888888,
              "#fdca26"
             ],
             [
              1,
              "#f0f921"
             ]
            ],
            "type": "histogram2d"
           }
          ],
          "histogram2dcontour": [
           {
            "colorbar": {
             "outlinewidth": 0,
             "ticks": ""
            },
            "colorscale": [
             [
              0,
              "#0d0887"
             ],
             [
              0.1111111111111111,
              "#46039f"
             ],
             [
              0.2222222222222222,
              "#7201a8"
             ],
             [
              0.3333333333333333,
              "#9c179e"
             ],
             [
              0.4444444444444444,
              "#bd3786"
             ],
             [
              0.5555555555555556,
              "#d8576b"
             ],
             [
              0.6666666666666666,
              "#ed7953"
             ],
             [
              0.7777777777777778,
              "#fb9f3a"
             ],
             [
              0.8888888888888888,
              "#fdca26"
             ],
             [
              1,
              "#f0f921"
             ]
            ],
            "type": "histogram2dcontour"
           }
          ],
          "mesh3d": [
           {
            "colorbar": {
             "outlinewidth": 0,
             "ticks": ""
            },
            "type": "mesh3d"
           }
          ],
          "parcoords": [
           {
            "line": {
             "colorbar": {
              "outlinewidth": 0,
              "ticks": ""
             }
            },
            "type": "parcoords"
           }
          ],
          "pie": [
           {
            "automargin": true,
            "type": "pie"
           }
          ],
          "scatter": [
           {
            "fillpattern": {
             "fillmode": "overlay",
             "size": 10,
             "solidity": 0.2
            },
            "type": "scatter"
           }
          ],
          "scatter3d": [
           {
            "line": {
             "colorbar": {
              "outlinewidth": 0,
              "ticks": ""
             }
            },
            "marker": {
             "colorbar": {
              "outlinewidth": 0,
              "ticks": ""
             }
            },
            "type": "scatter3d"
           }
          ],
          "scattercarpet": [
           {
            "marker": {
             "colorbar": {
              "outlinewidth": 0,
              "ticks": ""
             }
            },
            "type": "scattercarpet"
           }
          ],
          "scattergeo": [
           {
            "marker": {
             "colorbar": {
              "outlinewidth": 0,
              "ticks": ""
             }
            },
            "type": "scattergeo"
           }
          ],
          "scattergl": [
           {
            "marker": {
             "colorbar": {
              "outlinewidth": 0,
              "ticks": ""
             }
            },
            "type": "scattergl"
           }
          ],
          "scattermapbox": [
           {
            "marker": {
             "colorbar": {
              "outlinewidth": 0,
              "ticks": ""
             }
            },
            "type": "scattermapbox"
           }
          ],
          "scatterpolar": [
           {
            "marker": {
             "colorbar": {
              "outlinewidth": 0,
              "ticks": ""
             }
            },
            "type": "scatterpolar"
           }
          ],
          "scatterpolargl": [
           {
            "marker": {
             "colorbar": {
              "outlinewidth": 0,
              "ticks": ""
             }
            },
            "type": "scatterpolargl"
           }
          ],
          "scatterternary": [
           {
            "marker": {
             "colorbar": {
              "outlinewidth": 0,
              "ticks": ""
             }
            },
            "type": "scatterternary"
           }
          ],
          "surface": [
           {
            "colorbar": {
             "outlinewidth": 0,
             "ticks": ""
            },
            "colorscale": [
             [
              0,
              "#0d0887"
             ],
             [
              0.1111111111111111,
              "#46039f"
             ],
             [
              0.2222222222222222,
              "#7201a8"
             ],
             [
              0.3333333333333333,
              "#9c179e"
             ],
             [
              0.4444444444444444,
              "#bd3786"
             ],
             [
              0.5555555555555556,
              "#d8576b"
             ],
             [
              0.6666666666666666,
              "#ed7953"
             ],
             [
              0.7777777777777778,
              "#fb9f3a"
             ],
             [
              0.8888888888888888,
              "#fdca26"
             ],
             [
              1,
              "#f0f921"
             ]
            ],
            "type": "surface"
           }
          ],
          "table": [
           {
            "cells": {
             "fill": {
              "color": "#EBF0F8"
             },
             "line": {
              "color": "white"
             }
            },
            "header": {
             "fill": {
              "color": "#C8D4E3"
             },
             "line": {
              "color": "white"
             }
            },
            "type": "table"
           }
          ]
         },
         "layout": {
          "annotationdefaults": {
           "arrowcolor": "#2a3f5f",
           "arrowhead": 0,
           "arrowwidth": 1
          },
          "autotypenumbers": "strict",
          "coloraxis": {
           "colorbar": {
            "outlinewidth": 0,
            "ticks": ""
           }
          },
          "colorscale": {
           "diverging": [
            [
             0,
             "#8e0152"
            ],
            [
             0.1,
             "#c51b7d"
            ],
            [
             0.2,
             "#de77ae"
            ],
            [
             0.3,
             "#f1b6da"
            ],
            [
             0.4,
             "#fde0ef"
            ],
            [
             0.5,
             "#f7f7f7"
            ],
            [
             0.6,
             "#e6f5d0"
            ],
            [
             0.7,
             "#b8e186"
            ],
            [
             0.8,
             "#7fbc41"
            ],
            [
             0.9,
             "#4d9221"
            ],
            [
             1,
             "#276419"
            ]
           ],
           "sequential": [
            [
             0,
             "#0d0887"
            ],
            [
             0.1111111111111111,
             "#46039f"
            ],
            [
             0.2222222222222222,
             "#7201a8"
            ],
            [
             0.3333333333333333,
             "#9c179e"
            ],
            [
             0.4444444444444444,
             "#bd3786"
            ],
            [
             0.5555555555555556,
             "#d8576b"
            ],
            [
             0.6666666666666666,
             "#ed7953"
            ],
            [
             0.7777777777777778,
             "#fb9f3a"
            ],
            [
             0.8888888888888888,
             "#fdca26"
            ],
            [
             1,
             "#f0f921"
            ]
           ],
           "sequentialminus": [
            [
             0,
             "#0d0887"
            ],
            [
             0.1111111111111111,
             "#46039f"
            ],
            [
             0.2222222222222222,
             "#7201a8"
            ],
            [
             0.3333333333333333,
             "#9c179e"
            ],
            [
             0.4444444444444444,
             "#bd3786"
            ],
            [
             0.5555555555555556,
             "#d8576b"
            ],
            [
             0.6666666666666666,
             "#ed7953"
            ],
            [
             0.7777777777777778,
             "#fb9f3a"
            ],
            [
             0.8888888888888888,
             "#fdca26"
            ],
            [
             1,
             "#f0f921"
            ]
           ]
          },
          "colorway": [
           "#636efa",
           "#EF553B",
           "#00cc96",
           "#ab63fa",
           "#FFA15A",
           "#19d3f3",
           "#FF6692",
           "#B6E880",
           "#FF97FF",
           "#FECB52"
          ],
          "font": {
           "color": "#2a3f5f"
          },
          "geo": {
           "bgcolor": "white",
           "lakecolor": "white",
           "landcolor": "#E5ECF6",
           "showlakes": true,
           "showland": true,
           "subunitcolor": "white"
          },
          "hoverlabel": {
           "align": "left"
          },
          "hovermode": "closest",
          "mapbox": {
           "style": "light"
          },
          "paper_bgcolor": "white",
          "plot_bgcolor": "#E5ECF6",
          "polar": {
           "angularaxis": {
            "gridcolor": "white",
            "linecolor": "white",
            "ticks": ""
           },
           "bgcolor": "#E5ECF6",
           "radialaxis": {
            "gridcolor": "white",
            "linecolor": "white",
            "ticks": ""
           }
          },
          "scene": {
           "xaxis": {
            "backgroundcolor": "#E5ECF6",
            "gridcolor": "white",
            "gridwidth": 2,
            "linecolor": "white",
            "showbackground": true,
            "ticks": "",
            "zerolinecolor": "white"
           },
           "yaxis": {
            "backgroundcolor": "#E5ECF6",
            "gridcolor": "white",
            "gridwidth": 2,
            "linecolor": "white",
            "showbackground": true,
            "ticks": "",
            "zerolinecolor": "white"
           },
           "zaxis": {
            "backgroundcolor": "#E5ECF6",
            "gridcolor": "white",
            "gridwidth": 2,
            "linecolor": "white",
            "showbackground": true,
            "ticks": "",
            "zerolinecolor": "white"
           }
          },
          "shapedefaults": {
           "line": {
            "color": "#2a3f5f"
           }
          },
          "ternary": {
           "aaxis": {
            "gridcolor": "white",
            "linecolor": "white",
            "ticks": ""
           },
           "baxis": {
            "gridcolor": "white",
            "linecolor": "white",
            "ticks": ""
           },
           "bgcolor": "#E5ECF6",
           "caxis": {
            "gridcolor": "white",
            "linecolor": "white",
            "ticks": ""
           }
          },
          "title": {
           "x": 0.05
          },
          "xaxis": {
           "automargin": true,
           "gridcolor": "white",
           "linecolor": "white",
           "ticks": "",
           "title": {
            "standoff": 15
           },
           "zerolinecolor": "white",
           "zerolinewidth": 2
          },
          "yaxis": {
           "automargin": true,
           "gridcolor": "white",
           "linecolor": "white",
           "ticks": "",
           "title": {
            "standoff": 15
           },
           "zerolinecolor": "white",
           "zerolinewidth": 2
          }
         }
        }
       }
      }
     },
     "metadata": {},
     "output_type": "display_data"
    }
   ],
   "source": [
    "fig = go.Figure()\n",
    "for i in range(14):\n",
    "    fig.add_trace(\n",
    "        go.Box(\n",
    "            y=accs[i],\n",
    "            name = names[i],\n",
    "            marker_color=clrs[i],\n",
    "            #boxpoints='all'\n",
    "        )\n",
    "    )\n",
    "fig.show()"
   ]
  }
 ],
 "metadata": {
  "kernelspec": {
   "display_name": "Python 3.10.6 64-bit (microsoft store)",
   "language": "python",
   "name": "python3"
  },
  "language_info": {
   "codemirror_mode": {
    "name": "ipython",
    "version": 3
   },
   "file_extension": ".py",
   "mimetype": "text/x-python",
   "name": "python",
   "nbconvert_exporter": "python",
   "pygments_lexer": "ipython3",
   "version": "3.10.6"
  },
  "orig_nbformat": 4,
  "vscode": {
   "interpreter": {
    "hash": "09c6cbd744a3e802c1b5f435d264ee7d2f5cdf10497892df26b386a33f32af57"
   }
  }
 },
 "nbformat": 4,
 "nbformat_minor": 2
}
