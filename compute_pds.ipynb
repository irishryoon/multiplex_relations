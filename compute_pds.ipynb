{
 "cells": [
  {
   "cell_type": "code",
   "execution_count": 2,
   "metadata": {},
   "outputs": [
    {
     "name": "stderr",
     "output_type": "stream",
     "text": [
      "WARNING: replacing module ext.\n"
     ]
    },
    {
     "data": {
      "text/plain": [
       "parse_file (generic function with 1 method)"
      ]
     },
     "execution_count": 2,
     "metadata": {},
     "output_type": "execute_result"
    }
   ],
   "source": [
    "using Distances\n",
    "using Plots\n",
    "using Ripserer\n",
    "using Eirene\n",
    "using PersistenceDiagrams\n",
    "using Images\n",
    "using LinearAlgebra\n",
    "using JLD\n",
    "using Random\n",
    "using JLD2\n",
    "include(\"compute_ph2.jl\")"
   ]
  },
  {
   "cell_type": "code",
   "execution_count": 3,
   "metadata": {},
   "outputs": [],
   "source": [
    "ids_2param = [i for i = 1:10:1620]   # 2 parameter sweep ids\n",
    "ids_6param = [j for j = 6000:10:7100] # 6 parameter sweep ids\n",
    "ids = vcat(ids_2param,ids_6param) # ids of simulations\n",
    "times = [250,300,350,400,450,500] # times of simulations\n",
    "sims = [[id,time] for id in ids for time in times];\n",
    "cleanSims(sims,\"Tumour\");       # remove sims that break ripser\n",
    "cleanSims(sims,\"Macrophage\");"
   ]
  },
  {
   "cell_type": "code",
   "execution_count": null,
   "metadata": {},
   "outputs": [],
   "source": [
    "# VR\n",
    "location_tumour_h0 = \"persistence_diagrams\\\\vr\\\\tumour_h0\\\\\"\n",
    "location_tumour_h1 = \"persistence_diagrams\\\\vr\\\\tumour_h1\\\\\"\n",
    "location_macrophage_h0 = \"persistence_diagrams\\\\vr\\\\macrophages_h0\\\\\"\n",
    "location_macrophage_h1 = \"persistence_diagrams\\\\vr\\\\macrophages_h1\\\\\"\n",
    "\n",
    "# Dowker\n",
    "location_mt_h0 = \"persistence_diagrams\\\\dowker\\\\macrophage_tumour_h0\\\\\"\n",
    "location_mt_h1 = \"persistence_diagrams\\\\dowker\\\\macrophage_tumour_h1\\\\\"\n",
    "location_mv_h0 = \"persistence_diagrams\\\\dowker\\\\macrophage_vessel_h0\\\\\"\n",
    "location_mv_h1 = \"persistence_diagrams\\\\dowker\\\\macrophage_vessel_h1\\\\\"\n",
    "location_tv_h0 = \"persistence_diagrams\\\\dowker\\\\tumour_vessel_h0\\\\\"\n",
    "location_tv_h1 = \"persistence_diagrams\\\\dowker\\\\tumour_vessel_h1\\\\\"\n",
    "\n",
    "# Dowker-time\n",
    "location_t_time_h0 = \"persistence_diagrams\\\\dowkertime\\\\tumour_time_h0\\\\\"\n",
    "location_t_time_h1 = \"persistence_diagrams\\\\dowkertime\\\\tumour_time_h1\\\\\"\n",
    "location_m_time_h0 = \"persistence_diagrams\\\\dowkertime\\\\macrophage_time_h0\\\\\"\n",
    "location_m_time_h1 = \"persistence_diagrams\\\\dowkertime\\\\macrophage_time_h1\\\\\""
   ]
  },
  {
   "cell_type": "code",
   "execution_count": null,
   "metadata": {},
   "outputs": [],
   "source": [
    "for sim in sims\n",
    "    id = sim[1]\n",
    "    time = sim[2]\n",
    "    A = string(id)*\"_\"*string(time)\n",
    "\n",
    "    # vr persistence diagrams\n",
    "    pd_vr_tumour = getdiagram(id,time,\"Tumour\")\n",
    "    pd_vr_macrophage = getdiagram(id,,time,\"Macrophage\")\n",
    "\n",
    "    name_tumour_h0 = A*\"_tumour_h0.jld2\"\n",
    "    name_tumour_h1 = A*\"_tumour_h1.jld2\"\n",
    "    name_macrophage_h0 = A*\"_macrophage_h0.jld2\"\n",
    "    name_macrophage_h1 = A*\"_macrophage_h1.jld2\"\n",
    "    path_tumour_h0 = location_tumour_h0*name_tumour_h0\n",
    "    path_tumour_h1 = location_tumour_h1*name_tumour_h1\n",
    "    path_macrophage_h0 = location_tumour_h0*name_tumour_h0\n",
    "    path_macrophage_h1 = location_tumour_h1*name_tumour_h1\n",
    "    save_diagram(path_tumour_h0,pd_vr_tumour[1])\n",
    "    save_diagram(path_tumour_h1,pd_vr_tumour[2])\n",
    "    save_diagram(path_macrophage_h0,pd_vr_macrophage[1])\n",
    "    save_diagram(path_macrophage_h1,pd_vr_macrophage[2])\n",
    "\n",
    "\n",
    "\n",
    "    # dowker persistence diagrams\n",
    "    pd_dowker_macrophage_tumour = getDowkerPersistenceDiagram(id,time,\"Macrophage\",\"Tumour\")\n",
    "    name_mt_h0 = A*\"_macrophage_tumour_h0.jld2\"\n",
    "    name_mt_h1 = A*\"_macrophage_tumour_h1.jld2\"\n",
    "    path_mt_h0 = location_mt_h0*name_mt_h0\n",
    "    path_mt_h1 = location_mt_h1*name_mt_h1\n",
    "    save_diagram(path_mt_h0,pd_dowker_macrophage_tumour[1])\n",
    "    save_diagram(path_mt_h1,pd_dowker_macrophage_tumour[2])\n",
    "\n",
    "    pd_dowker_tumour_vessel = getDowkerPersistenceDiagram(id,time,\"Tumour\",\"Vessel\")\n",
    "    name_tv_h0 = A*\"_tumour_vessel_h0.jld2\"\n",
    "    name_tv_h1 = A*\"_tumour_vessel_h1.jld2\"\n",
    "    path_tv_h0 = location_tv_h0*name_tv_h0\n",
    "    path_tv_h1 = location_tv_h1*name_tv_h1\n",
    "    save_diagram(path_tv_h0,pd_dowker_tumour_vessel[1])\n",
    "    save_diagram(path_tv_h1,pd_dowker_tumour_vessel[2])\n",
    "\n",
    "    pd_dowker_macrophage_vessel = getDowkerPersistenceDiagram(id,time,\"Macrophage\",\"Vessel\")\n",
    "    name_mv_h0 = A*\"_macrophage_vessel_h0.jld2\"\n",
    "    name_mv_h1 = A*\"_macrophage_vessel_h1.jld2\"\n",
    "    path_mv_h0 = location_mv_h0*name_mv_h0\n",
    "    path_mv_h1 = location_mv_h1*name_mv_h1\n",
    "    save_diagram(path_mv_h0,pd_dowker_macrophage_vessel[1])\n",
    "    save_diagram(path_mv_h1,pd_dowker_macrophage_vessel[2])\n",
    "\n",
    "\n",
    "\n",
    "    # dowker-time persistence diagrams\n",
    "    pd_dowkertime_tumour = getDowkerTimePersistenceDiagram(id,time,\"Tumour\") \n",
    "    name_t_time_h0 = A*\"_tumour_time_h0.jld2\"\n",
    "    name_t_time_h1 = A*\"_tumour_time_h1.jld2\"\n",
    "    path_t_time_h0 = location_t_time_h0*name_t_time_h0\n",
    "    path_t_time_h1 = location_t_time_h1*name_t_time_h1\n",
    "    save_diagram(path_t_time_h0,pd_dowkertime_tumour[1])\n",
    "    save_diagram(path_t_time_h1,pd_dowkertime_tumour[2])\n",
    "\n",
    "    pd_dowkertime_macrophage = getDowkerTimePersistenceDiagram(id,time,\"Macrophage\")\n",
    "    name_m_time_h0 = A*\"_macrophage_time_h0.jld2\"\n",
    "    name_m_time_h1 = A*\"_macrophage_time_h1.jld2\"\n",
    "    path_m_time_h0 = location_m_time_h0*name_m_time_h0\n",
    "    path_m_time_h1 = location_m_time_h1*name_m_time_h1\n",
    "    save_diagram(path_m_time_h0,pd_dowkertime_macrophage[1])\n",
    "    save_diagram(path_m_time_h1,pd_dowkertime_macrophage[2])\n",
    "\n",
    "\n",
    "end"
   ]
  }
 ],
 "metadata": {
  "kernelspec": {
   "display_name": "Julia 1.7.2",
   "language": "julia",
   "name": "julia-1.7"
  },
  "language_info": {
   "file_extension": ".jl",
   "mimetype": "application/julia",
   "name": "julia",
   "version": "1.7.2"
  },
  "orig_nbformat": 4,
  "vscode": {
   "interpreter": {
    "hash": "09c6cbd744a3e802c1b5f435d264ee7d2f5cdf10497892df26b386a33f32af57"
   }
  }
 },
 "nbformat": 4,
 "nbformat_minor": 2
}
